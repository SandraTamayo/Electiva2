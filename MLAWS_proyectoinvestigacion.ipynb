{
 "cells": [
  {
   "cell_type": "code",
   "execution_count": 1,
   "id": "0663417c",
   "metadata": {
    "executionInfo": {
     "elapsed": 816,
     "status": "ok",
     "timestamp": 1665078885977,
     "user": {
      "displayName": "sandra tamayo",
      "userId": "18092430420470936659"
     },
     "user_tz": 300
    },
    "id": "91f6b3a6"
   },
   "outputs": [],
   "source": [
    "import pandas as pd\n",
    "from sklearn.model_selection import train_test_split\n",
    "import joblib\n",
    "import numpy as np\n",
    "import matplotlib.pyplot as plt\n",
    "import seaborn as sns\n",
    "from sklearn.tree import DecisionTreeClassifier\n",
    "from sklearn.pipeline import Pipeline\n",
    "from sklearn.model_selection import cross_validate\n",
    "from sklearn.compose import ColumnTransformer\n",
    "from sklearn.preprocessing import StandardScaler, RobustScaler, MinMaxScaler\n",
    "from sklearn.preprocessing import OneHotEncoder\n",
    "from sklearn.ensemble import RandomForestClassifier\n",
    "from sklearn.svm import SVC\n",
    "from sklearn.model_selection import GridSearchCV"
   ]
  },
  {
   "cell_type": "code",
   "execution_count": null,
   "id": "878d7be6",
   "metadata": {
    "colab": {
     "base_uri": "https://localhost:8080/"
    },
    "executionInfo": {
     "elapsed": 16693,
     "status": "ok",
     "timestamp": 1665078910343,
     "user": {
      "displayName": "sandra tamayo",
      "userId": "18092430420470936659"
     },
     "user_tz": 300
    },
    "id": "gUdhvMXUb5C1",
    "outputId": "3ef219ca-3e3b-48eb-bf05-ad15a7e5a784"
   },
   "outputs": [
    {
     "name": "stdout",
     "output_type": "stream",
     "text": [
      "Mounted at /content/drive\n"
     ]
    }
   ],
   "source": [
    "#from google.colab import drive\n",
    "#drive.mount('/content/drive')"
   ]
  },
  {
   "cell_type": "markdown",
   "id": "15a2c8b7",
   "metadata": {},
   "source": [
    "## Datos de dos Municipios de Colombia con información de Conflicto armado y violencia durante 233 meses (año 2003 a 2022)"
   ]
  },
  {
   "cell_type": "code",
   "execution_count": 2,
   "id": "c5174a10",
   "metadata": {
    "id": "e0a852f1"
   },
   "outputs": [],
   "source": [
    "df = pd.read_excel('s3://proyectosandratamayo/BuenaventuraySanAndTumacmesxmes.xlsx')"
   ]
  },
  {
   "cell_type": "code",
   "execution_count": 3,
   "id": "7b3f8d41",
   "metadata": {
    "executionInfo": {
     "elapsed": 1399,
     "status": "ok",
     "timestamp": 1665078947522,
     "user": {
      "displayName": "sandra tamayo",
      "userId": "18092430420470936659"
     },
     "user_tz": 300
    },
    "id": "a1WY9NuXb_Oo"
   },
   "outputs": [],
   "source": [
    "#df = pd.read_excel('/content/drive/MyDrive/Proyecto investigación/BuenaventuraySanAndTumacmesxmes.xlsx')"
   ]
  },
  {
   "cell_type": "code",
   "execution_count": 3,
   "id": "402718f9",
   "metadata": {
    "colab": {
     "base_uri": "https://localhost:8080/",
     "height": 523
    },
    "executionInfo": {
     "elapsed": 298,
     "status": "ok",
     "timestamp": 1665078949804,
     "user": {
      "displayName": "sandra tamayo",
      "userId": "18092430420470936659"
     },
     "user_tz": 300
    },
    "id": "c37832dd",
    "outputId": "89ea4998-7363-4fe1-b8d9-aba3d294f38f"
   },
   "outputs": [
    {
     "data": {
      "text/html": [
       "<div>\n",
       "<style scoped>\n",
       "    .dataframe tbody tr th:only-of-type {\n",
       "        vertical-align: middle;\n",
       "    }\n",
       "\n",
       "    .dataframe tbody tr th {\n",
       "        vertical-align: top;\n",
       "    }\n",
       "\n",
       "    .dataframe thead th {\n",
       "        text-align: right;\n",
       "    }\n",
       "</style>\n",
       "<table border=\"1\" class=\"dataframe\">\n",
       "  <thead>\n",
       "    <tr style=\"text-align: right;\">\n",
       "      <th></th>\n",
       "      <th>Código DANE de Municipio</th>\n",
       "      <th>Año</th>\n",
       "      <th>Mes</th>\n",
       "      <th>cruce</th>\n",
       "      <th>Victconf_Desplazamiento forzado</th>\n",
       "      <th>Cant_acc_subversivas</th>\n",
       "      <th>Cant_acc_terroristas</th>\n",
       "      <th>Cant_atenta_pte_vias</th>\n",
       "      <th>Cant_delito_med_ambiente</th>\n",
       "      <th>Cant_delito_sexual</th>\n",
       "      <th>...</th>\n",
       "      <th>Victconf_Delitointegridadsexual</th>\n",
       "      <th>Victconf_Desaparición forzada</th>\n",
       "      <th>Victconf_Homicidio</th>\n",
       "      <th>Victconf_LesionPersonalFisica</th>\n",
       "      <th>Victconf_LesionPersonalPsicolog</th>\n",
       "      <th>Victconf_MinasAntipers_explos</th>\n",
       "      <th>Victconf_PerdidadeBienes</th>\n",
       "      <th>Victconf_Secuestro</th>\n",
       "      <th>Victconf_Tortura</th>\n",
       "      <th>Victconf_Vinculacde Niños NiñasyAdoles</th>\n",
       "    </tr>\n",
       "  </thead>\n",
       "  <tbody>\n",
       "    <tr>\n",
       "      <th>0</th>\n",
       "      <td>52835</td>\n",
       "      <td>2003</td>\n",
       "      <td>1</td>\n",
       "      <td>5283520031</td>\n",
       "      <td>115</td>\n",
       "      <td>0</td>\n",
       "      <td>0</td>\n",
       "      <td>0</td>\n",
       "      <td>0</td>\n",
       "      <td>0</td>\n",
       "      <td>...</td>\n",
       "      <td>2</td>\n",
       "      <td>3</td>\n",
       "      <td>27</td>\n",
       "      <td>0</td>\n",
       "      <td>0</td>\n",
       "      <td>0</td>\n",
       "      <td>1</td>\n",
       "      <td>0</td>\n",
       "      <td>0</td>\n",
       "      <td>0</td>\n",
       "    </tr>\n",
       "    <tr>\n",
       "      <th>1</th>\n",
       "      <td>52835</td>\n",
       "      <td>2003</td>\n",
       "      <td>2</td>\n",
       "      <td>5283520032</td>\n",
       "      <td>148</td>\n",
       "      <td>1</td>\n",
       "      <td>0</td>\n",
       "      <td>0</td>\n",
       "      <td>0</td>\n",
       "      <td>1</td>\n",
       "      <td>...</td>\n",
       "      <td>0</td>\n",
       "      <td>3</td>\n",
       "      <td>17</td>\n",
       "      <td>0</td>\n",
       "      <td>1</td>\n",
       "      <td>0</td>\n",
       "      <td>0</td>\n",
       "      <td>2</td>\n",
       "      <td>1</td>\n",
       "      <td>0</td>\n",
       "    </tr>\n",
       "    <tr>\n",
       "      <th>2</th>\n",
       "      <td>52835</td>\n",
       "      <td>2003</td>\n",
       "      <td>3</td>\n",
       "      <td>5283520033</td>\n",
       "      <td>120</td>\n",
       "      <td>0</td>\n",
       "      <td>0</td>\n",
       "      <td>0</td>\n",
       "      <td>0</td>\n",
       "      <td>0</td>\n",
       "      <td>...</td>\n",
       "      <td>1</td>\n",
       "      <td>4</td>\n",
       "      <td>26</td>\n",
       "      <td>0</td>\n",
       "      <td>0</td>\n",
       "      <td>0</td>\n",
       "      <td>2</td>\n",
       "      <td>1</td>\n",
       "      <td>0</td>\n",
       "      <td>0</td>\n",
       "    </tr>\n",
       "    <tr>\n",
       "      <th>3</th>\n",
       "      <td>52835</td>\n",
       "      <td>2003</td>\n",
       "      <td>4</td>\n",
       "      <td>5283520034</td>\n",
       "      <td>74</td>\n",
       "      <td>0</td>\n",
       "      <td>0</td>\n",
       "      <td>0</td>\n",
       "      <td>0</td>\n",
       "      <td>0</td>\n",
       "      <td>...</td>\n",
       "      <td>1</td>\n",
       "      <td>3</td>\n",
       "      <td>24</td>\n",
       "      <td>0</td>\n",
       "      <td>0</td>\n",
       "      <td>0</td>\n",
       "      <td>0</td>\n",
       "      <td>1</td>\n",
       "      <td>0</td>\n",
       "      <td>0</td>\n",
       "    </tr>\n",
       "    <tr>\n",
       "      <th>4</th>\n",
       "      <td>52835</td>\n",
       "      <td>2003</td>\n",
       "      <td>5</td>\n",
       "      <td>5283520035</td>\n",
       "      <td>91</td>\n",
       "      <td>1</td>\n",
       "      <td>0</td>\n",
       "      <td>0</td>\n",
       "      <td>0</td>\n",
       "      <td>0</td>\n",
       "      <td>...</td>\n",
       "      <td>2</td>\n",
       "      <td>2</td>\n",
       "      <td>27</td>\n",
       "      <td>0</td>\n",
       "      <td>0</td>\n",
       "      <td>0</td>\n",
       "      <td>0</td>\n",
       "      <td>0</td>\n",
       "      <td>0</td>\n",
       "      <td>0</td>\n",
       "    </tr>\n",
       "    <tr>\n",
       "      <th>...</th>\n",
       "      <td>...</td>\n",
       "      <td>...</td>\n",
       "      <td>...</td>\n",
       "      <td>...</td>\n",
       "      <td>...</td>\n",
       "      <td>...</td>\n",
       "      <td>...</td>\n",
       "      <td>...</td>\n",
       "      <td>...</td>\n",
       "      <td>...</td>\n",
       "      <td>...</td>\n",
       "      <td>...</td>\n",
       "      <td>...</td>\n",
       "      <td>...</td>\n",
       "      <td>...</td>\n",
       "      <td>...</td>\n",
       "      <td>...</td>\n",
       "      <td>...</td>\n",
       "      <td>...</td>\n",
       "      <td>...</td>\n",
       "      <td>...</td>\n",
       "    </tr>\n",
       "    <tr>\n",
       "      <th>461</th>\n",
       "      <td>76109</td>\n",
       "      <td>2022</td>\n",
       "      <td>1</td>\n",
       "      <td>7610920221</td>\n",
       "      <td>2558</td>\n",
       "      <td>0</td>\n",
       "      <td>0</td>\n",
       "      <td>0</td>\n",
       "      <td>0</td>\n",
       "      <td>3</td>\n",
       "      <td>...</td>\n",
       "      <td>2</td>\n",
       "      <td>0</td>\n",
       "      <td>1</td>\n",
       "      <td>0</td>\n",
       "      <td>0</td>\n",
       "      <td>0</td>\n",
       "      <td>3</td>\n",
       "      <td>0</td>\n",
       "      <td>0</td>\n",
       "      <td>0</td>\n",
       "    </tr>\n",
       "    <tr>\n",
       "      <th>462</th>\n",
       "      <td>76109</td>\n",
       "      <td>2022</td>\n",
       "      <td>2</td>\n",
       "      <td>7610920222</td>\n",
       "      <td>2003</td>\n",
       "      <td>0</td>\n",
       "      <td>0</td>\n",
       "      <td>0</td>\n",
       "      <td>2</td>\n",
       "      <td>6</td>\n",
       "      <td>...</td>\n",
       "      <td>4</td>\n",
       "      <td>0</td>\n",
       "      <td>0</td>\n",
       "      <td>0</td>\n",
       "      <td>0</td>\n",
       "      <td>0</td>\n",
       "      <td>1</td>\n",
       "      <td>0</td>\n",
       "      <td>0</td>\n",
       "      <td>0</td>\n",
       "    </tr>\n",
       "    <tr>\n",
       "      <th>463</th>\n",
       "      <td>76109</td>\n",
       "      <td>2022</td>\n",
       "      <td>3</td>\n",
       "      <td>7610920223</td>\n",
       "      <td>1299</td>\n",
       "      <td>0</td>\n",
       "      <td>0</td>\n",
       "      <td>0</td>\n",
       "      <td>0</td>\n",
       "      <td>11</td>\n",
       "      <td>...</td>\n",
       "      <td>5</td>\n",
       "      <td>0</td>\n",
       "      <td>0</td>\n",
       "      <td>0</td>\n",
       "      <td>0</td>\n",
       "      <td>0</td>\n",
       "      <td>1</td>\n",
       "      <td>0</td>\n",
       "      <td>0</td>\n",
       "      <td>0</td>\n",
       "    </tr>\n",
       "    <tr>\n",
       "      <th>464</th>\n",
       "      <td>76109</td>\n",
       "      <td>2022</td>\n",
       "      <td>4</td>\n",
       "      <td>7610920224</td>\n",
       "      <td>1502</td>\n",
       "      <td>0</td>\n",
       "      <td>0</td>\n",
       "      <td>0</td>\n",
       "      <td>2</td>\n",
       "      <td>14</td>\n",
       "      <td>...</td>\n",
       "      <td>5</td>\n",
       "      <td>0</td>\n",
       "      <td>1</td>\n",
       "      <td>0</td>\n",
       "      <td>0</td>\n",
       "      <td>0</td>\n",
       "      <td>0</td>\n",
       "      <td>0</td>\n",
       "      <td>0</td>\n",
       "      <td>0</td>\n",
       "    </tr>\n",
       "    <tr>\n",
       "      <th>465</th>\n",
       "      <td>76109</td>\n",
       "      <td>2022</td>\n",
       "      <td>5</td>\n",
       "      <td>7610920225</td>\n",
       "      <td>732</td>\n",
       "      <td>0</td>\n",
       "      <td>0</td>\n",
       "      <td>0</td>\n",
       "      <td>2</td>\n",
       "      <td>2</td>\n",
       "      <td>...</td>\n",
       "      <td>2</td>\n",
       "      <td>0</td>\n",
       "      <td>0</td>\n",
       "      <td>0</td>\n",
       "      <td>0</td>\n",
       "      <td>0</td>\n",
       "      <td>0</td>\n",
       "      <td>0</td>\n",
       "      <td>0</td>\n",
       "      <td>0</td>\n",
       "    </tr>\n",
       "  </tbody>\n",
       "</table>\n",
       "<p>466 rows × 30 columns</p>\n",
       "</div>"
      ],
      "text/plain": [
       "     Código DANE de Municipio   Año  Mes       cruce  \\\n",
       "0                       52835  2003    1  5283520031   \n",
       "1                       52835  2003    2  5283520032   \n",
       "2                       52835  2003    3  5283520033   \n",
       "3                       52835  2003    4  5283520034   \n",
       "4                       52835  2003    5  5283520035   \n",
       "..                        ...   ...  ...         ...   \n",
       "461                     76109  2022    1  7610920221   \n",
       "462                     76109  2022    2  7610920222   \n",
       "463                     76109  2022    3  7610920223   \n",
       "464                     76109  2022    4  7610920224   \n",
       "465                     76109  2022    5  7610920225   \n",
       "\n",
       "     Victconf_Desplazamiento forzado  Cant_acc_subversivas  \\\n",
       "0                                115                     0   \n",
       "1                                148                     1   \n",
       "2                                120                     0   \n",
       "3                                 74                     0   \n",
       "4                                 91                     1   \n",
       "..                               ...                   ...   \n",
       "461                             2558                     0   \n",
       "462                             2003                     0   \n",
       "463                             1299                     0   \n",
       "464                             1502                     0   \n",
       "465                              732                     0   \n",
       "\n",
       "     Cant_acc_terroristas  Cant_atenta_pte_vias  Cant_delito_med_ambiente  \\\n",
       "0                       0                     0                         0   \n",
       "1                       0                     0                         0   \n",
       "2                       0                     0                         0   \n",
       "3                       0                     0                         0   \n",
       "4                       0                     0                         0   \n",
       "..                    ...                   ...                       ...   \n",
       "461                     0                     0                         0   \n",
       "462                     0                     0                         2   \n",
       "463                     0                     0                         0   \n",
       "464                     0                     0                         2   \n",
       "465                     0                     0                         2   \n",
       "\n",
       "     Cant_delito_sexual  ...  Victconf_Delitointegridadsexual  \\\n",
       "0                     0  ...                                2   \n",
       "1                     1  ...                                0   \n",
       "2                     0  ...                                1   \n",
       "3                     0  ...                                1   \n",
       "4                     0  ...                                2   \n",
       "..                  ...  ...                              ...   \n",
       "461                   3  ...                                2   \n",
       "462                   6  ...                                4   \n",
       "463                  11  ...                                5   \n",
       "464                  14  ...                                5   \n",
       "465                   2  ...                                2   \n",
       "\n",
       "     Victconf_Desaparición forzada  Victconf_Homicidio  \\\n",
       "0                                3                  27   \n",
       "1                                3                  17   \n",
       "2                                4                  26   \n",
       "3                                3                  24   \n",
       "4                                2                  27   \n",
       "..                             ...                 ...   \n",
       "461                              0                   1   \n",
       "462                              0                   0   \n",
       "463                              0                   0   \n",
       "464                              0                   1   \n",
       "465                              0                   0   \n",
       "\n",
       "     Victconf_LesionPersonalFisica  Victconf_LesionPersonalPsicolog  \\\n",
       "0                                0                                0   \n",
       "1                                0                                1   \n",
       "2                                0                                0   \n",
       "3                                0                                0   \n",
       "4                                0                                0   \n",
       "..                             ...                              ...   \n",
       "461                              0                                0   \n",
       "462                              0                                0   \n",
       "463                              0                                0   \n",
       "464                              0                                0   \n",
       "465                              0                                0   \n",
       "\n",
       "     Victconf_MinasAntipers_explos  Victconf_PerdidadeBienes  \\\n",
       "0                                0                         1   \n",
       "1                                0                         0   \n",
       "2                                0                         2   \n",
       "3                                0                         0   \n",
       "4                                0                         0   \n",
       "..                             ...                       ...   \n",
       "461                              0                         3   \n",
       "462                              0                         1   \n",
       "463                              0                         1   \n",
       "464                              0                         0   \n",
       "465                              0                         0   \n",
       "\n",
       "     Victconf_Secuestro  Victconf_Tortura  \\\n",
       "0                     0                 0   \n",
       "1                     2                 1   \n",
       "2                     1                 0   \n",
       "3                     1                 0   \n",
       "4                     0                 0   \n",
       "..                  ...               ...   \n",
       "461                   0                 0   \n",
       "462                   0                 0   \n",
       "463                   0                 0   \n",
       "464                   0                 0   \n",
       "465                   0                 0   \n",
       "\n",
       "     Victconf_Vinculacde Niños NiñasyAdoles  \n",
       "0                                         0  \n",
       "1                                         0  \n",
       "2                                         0  \n",
       "3                                         0  \n",
       "4                                         0  \n",
       "..                                      ...  \n",
       "461                                       0  \n",
       "462                                       0  \n",
       "463                                       0  \n",
       "464                                       0  \n",
       "465                                       0  \n",
       "\n",
       "[466 rows x 30 columns]"
      ]
     },
     "execution_count": 3,
     "metadata": {},
     "output_type": "execute_result"
    }
   ],
   "source": [
    "df"
   ]
  },
  {
   "cell_type": "markdown",
   "id": "330a1bc6",
   "metadata": {
    "id": "fba17ebf"
   },
   "source": [
    "## Exploracion de datos"
   ]
  },
  {
   "cell_type": "code",
   "execution_count": 4,
   "id": "7525f625",
   "metadata": {
    "colab": {
     "base_uri": "https://localhost:8080/"
    },
    "executionInfo": {
     "elapsed": 285,
     "status": "ok",
     "timestamp": 1665078976479,
     "user": {
      "displayName": "sandra tamayo",
      "userId": "18092430420470936659"
     },
     "user_tz": 300
    },
    "id": "4958f62e",
    "outputId": "47db9e2e-9474-477d-f90e-a6a24b85208e"
   },
   "outputs": [
    {
     "name": "stdout",
     "output_type": "stream",
     "text": [
      "<class 'pandas.core.frame.DataFrame'>\n",
      "RangeIndex: 466 entries, 0 to 465\n",
      "Data columns (total 30 columns):\n",
      " #   Column                                  Non-Null Count  Dtype\n",
      "---  ------                                  --------------  -----\n",
      " 0   Código DANE de Municipio                466 non-null    int64\n",
      " 1   Año                                     466 non-null    int64\n",
      " 2   Mes                                     466 non-null    int64\n",
      " 3   cruce                                   466 non-null    int64\n",
      " 4   Victconf_Desplazamiento forzado         466 non-null    int64\n",
      " 5   Cant_acc_subversivas                    466 non-null    int64\n",
      " 6   Cant_acc_terroristas                    466 non-null    int64\n",
      " 7   Cant_atenta_pte_vias                    466 non-null    int64\n",
      " 8   Cant_delito_med_ambiente                466 non-null    int64\n",
      " 9   Cant_delito_sexual                      466 non-null    int64\n",
      " 10  Cant_extorsion                          466 non-null    int64\n",
      " 11  Cant_homicidios                         466 non-null    int64\n",
      " 12  Cant_homicid_colect                     466 non-null    int64\n",
      " 13  Cant_lesiones_personales                466 non-null    int64\n",
      " 14  Cant_pirateria_terrestre                466 non-null    int64\n",
      " 15  Cant_secuestros                         466 non-null    int64\n",
      " 16  Victconf_AbandoDespojForzTierras        466 non-null    int64\n",
      " 17  Victconf_Actoterrorista                 466 non-null    int64\n",
      " 18  Victconf_Amenaza                        466 non-null    int64\n",
      " 19  Victconf_Confinamiento                  466 non-null    int64\n",
      " 20  Victconf_Delitointegridadsexual         466 non-null    int64\n",
      " 21  Victconf_Desaparición forzada           466 non-null    int64\n",
      " 22  Victconf_Homicidio                      466 non-null    int64\n",
      " 23  Victconf_LesionPersonalFisica           466 non-null    int64\n",
      " 24  Victconf_LesionPersonalPsicolog         466 non-null    int64\n",
      " 25  Victconf_MinasAntipers_explos           466 non-null    int64\n",
      " 26  Victconf_PerdidadeBienes                466 non-null    int64\n",
      " 27  Victconf_Secuestro                      466 non-null    int64\n",
      " 28  Victconf_Tortura                        466 non-null    int64\n",
      " 29  Victconf_Vinculacde Niños NiñasyAdoles  466 non-null    int64\n",
      "dtypes: int64(30)\n",
      "memory usage: 109.3 KB\n"
     ]
    }
   ],
   "source": [
    "#información del dataframe\n",
    "df.info()"
   ]
  },
  {
   "cell_type": "code",
   "execution_count": 5,
   "id": "4cdc8839",
   "metadata": {
    "colab": {
     "base_uri": "https://localhost:8080/",
     "height": 429
    },
    "executionInfo": {
     "elapsed": 457,
     "status": "ok",
     "timestamp": 1665078979641,
     "user": {
      "displayName": "sandra tamayo",
      "userId": "18092430420470936659"
     },
     "user_tz": 300
    },
    "id": "eefbabaa",
    "outputId": "84a74c38-cae1-4914-87f0-462034ab9518"
   },
   "outputs": [
    {
     "data": {
      "text/html": [
       "<div>\n",
       "<style scoped>\n",
       "    .dataframe tbody tr th:only-of-type {\n",
       "        vertical-align: middle;\n",
       "    }\n",
       "\n",
       "    .dataframe tbody tr th {\n",
       "        vertical-align: top;\n",
       "    }\n",
       "\n",
       "    .dataframe thead th {\n",
       "        text-align: right;\n",
       "    }\n",
       "</style>\n",
       "<table border=\"1\" class=\"dataframe\">\n",
       "  <thead>\n",
       "    <tr style=\"text-align: right;\">\n",
       "      <th></th>\n",
       "      <th>Código DANE de Municipio</th>\n",
       "      <th>Año</th>\n",
       "      <th>Mes</th>\n",
       "      <th>cruce</th>\n",
       "      <th>Victconf_Desplazamiento forzado</th>\n",
       "      <th>Cant_acc_subversivas</th>\n",
       "      <th>Cant_acc_terroristas</th>\n",
       "      <th>Cant_atenta_pte_vias</th>\n",
       "      <th>Cant_delito_med_ambiente</th>\n",
       "      <th>Cant_delito_sexual</th>\n",
       "      <th>...</th>\n",
       "      <th>Victconf_Delitointegridadsexual</th>\n",
       "      <th>Victconf_Desaparición forzada</th>\n",
       "      <th>Victconf_Homicidio</th>\n",
       "      <th>Victconf_LesionPersonalFisica</th>\n",
       "      <th>Victconf_LesionPersonalPsicolog</th>\n",
       "      <th>Victconf_MinasAntipers_explos</th>\n",
       "      <th>Victconf_PerdidadeBienes</th>\n",
       "      <th>Victconf_Secuestro</th>\n",
       "      <th>Victconf_Tortura</th>\n",
       "      <th>Victconf_Vinculacde Niños NiñasyAdoles</th>\n",
       "    </tr>\n",
       "  </thead>\n",
       "  <tbody>\n",
       "    <tr>\n",
       "      <th>count</th>\n",
       "      <td>466.000000</td>\n",
       "      <td>466.000000</td>\n",
       "      <td>466.000000</td>\n",
       "      <td>4.660000e+02</td>\n",
       "      <td>466.000000</td>\n",
       "      <td>466.000000</td>\n",
       "      <td>466.000000</td>\n",
       "      <td>466.000000</td>\n",
       "      <td>466.000000</td>\n",
       "      <td>466.000000</td>\n",
       "      <td>...</td>\n",
       "      <td>466.000000</td>\n",
       "      <td>466.000000</td>\n",
       "      <td>466.000000</td>\n",
       "      <td>466.000000</td>\n",
       "      <td>466.000000</td>\n",
       "      <td>466.000000</td>\n",
       "      <td>466.000000</td>\n",
       "      <td>466.000000</td>\n",
       "      <td>466.000000</td>\n",
       "      <td>466.000000</td>\n",
       "    </tr>\n",
       "    <tr>\n",
       "      <th>mean</th>\n",
       "      <td>64472.000000</td>\n",
       "      <td>2012.214592</td>\n",
       "      <td>6.424893</td>\n",
       "      <td>2.064217e+10</td>\n",
       "      <td>742.562232</td>\n",
       "      <td>0.098712</td>\n",
       "      <td>0.781116</td>\n",
       "      <td>0.124464</td>\n",
       "      <td>1.214592</td>\n",
       "      <td>4.600858</td>\n",
       "      <td>...</td>\n",
       "      <td>1.772532</td>\n",
       "      <td>3.716738</td>\n",
       "      <td>18.096567</td>\n",
       "      <td>0.538627</td>\n",
       "      <td>0.253219</td>\n",
       "      <td>0.165236</td>\n",
       "      <td>7.954936</td>\n",
       "      <td>0.362661</td>\n",
       "      <td>0.083691</td>\n",
       "      <td>0.227468</td>\n",
       "    </tr>\n",
       "    <tr>\n",
       "      <th>std</th>\n",
       "      <td>11649.506183</td>\n",
       "      <td>5.614601</td>\n",
       "      <td>3.462199</td>\n",
       "      <td>2.564621e+10</td>\n",
       "      <td>836.916047</td>\n",
       "      <td>0.380885</td>\n",
       "      <td>2.035002</td>\n",
       "      <td>0.623520</td>\n",
       "      <td>1.972140</td>\n",
       "      <td>4.371403</td>\n",
       "      <td>...</td>\n",
       "      <td>2.116951</td>\n",
       "      <td>5.322828</td>\n",
       "      <td>18.227750</td>\n",
       "      <td>0.976944</td>\n",
       "      <td>1.221774</td>\n",
       "      <td>0.678830</td>\n",
       "      <td>22.115827</td>\n",
       "      <td>0.741562</td>\n",
       "      <td>0.306686</td>\n",
       "      <td>0.575276</td>\n",
       "    </tr>\n",
       "    <tr>\n",
       "      <th>min</th>\n",
       "      <td>52835.000000</td>\n",
       "      <td>2003.000000</td>\n",
       "      <td>1.000000</td>\n",
       "      <td>5.283520e+09</td>\n",
       "      <td>43.000000</td>\n",
       "      <td>0.000000</td>\n",
       "      <td>0.000000</td>\n",
       "      <td>0.000000</td>\n",
       "      <td>0.000000</td>\n",
       "      <td>0.000000</td>\n",
       "      <td>...</td>\n",
       "      <td>0.000000</td>\n",
       "      <td>0.000000</td>\n",
       "      <td>0.000000</td>\n",
       "      <td>0.000000</td>\n",
       "      <td>0.000000</td>\n",
       "      <td>0.000000</td>\n",
       "      <td>0.000000</td>\n",
       "      <td>0.000000</td>\n",
       "      <td>0.000000</td>\n",
       "      <td>0.000000</td>\n",
       "    </tr>\n",
       "    <tr>\n",
       "      <th>25%</th>\n",
       "      <td>52835.000000</td>\n",
       "      <td>2007.000000</td>\n",
       "      <td>3.000000</td>\n",
       "      <td>5.283520e+09</td>\n",
       "      <td>247.000000</td>\n",
       "      <td>0.000000</td>\n",
       "      <td>0.000000</td>\n",
       "      <td>0.000000</td>\n",
       "      <td>0.000000</td>\n",
       "      <td>1.000000</td>\n",
       "      <td>...</td>\n",
       "      <td>0.000000</td>\n",
       "      <td>0.000000</td>\n",
       "      <td>3.000000</td>\n",
       "      <td>0.000000</td>\n",
       "      <td>0.000000</td>\n",
       "      <td>0.000000</td>\n",
       "      <td>0.000000</td>\n",
       "      <td>0.000000</td>\n",
       "      <td>0.000000</td>\n",
       "      <td>0.000000</td>\n",
       "    </tr>\n",
       "    <tr>\n",
       "      <th>50%</th>\n",
       "      <td>64472.000000</td>\n",
       "      <td>2012.000000</td>\n",
       "      <td>6.000000</td>\n",
       "      <td>7.610920e+09</td>\n",
       "      <td>513.000000</td>\n",
       "      <td>0.000000</td>\n",
       "      <td>0.000000</td>\n",
       "      <td>0.000000</td>\n",
       "      <td>0.000000</td>\n",
       "      <td>3.000000</td>\n",
       "      <td>...</td>\n",
       "      <td>1.000000</td>\n",
       "      <td>1.000000</td>\n",
       "      <td>14.000000</td>\n",
       "      <td>0.000000</td>\n",
       "      <td>0.000000</td>\n",
       "      <td>0.000000</td>\n",
       "      <td>1.000000</td>\n",
       "      <td>0.000000</td>\n",
       "      <td>0.000000</td>\n",
       "      <td>0.000000</td>\n",
       "    </tr>\n",
       "    <tr>\n",
       "      <th>75%</th>\n",
       "      <td>76109.000000</td>\n",
       "      <td>2017.000000</td>\n",
       "      <td>9.000000</td>\n",
       "      <td>7.610920e+09</td>\n",
       "      <td>962.500000</td>\n",
       "      <td>0.000000</td>\n",
       "      <td>1.000000</td>\n",
       "      <td>0.000000</td>\n",
       "      <td>2.000000</td>\n",
       "      <td>8.000000</td>\n",
       "      <td>...</td>\n",
       "      <td>2.000000</td>\n",
       "      <td>6.000000</td>\n",
       "      <td>28.000000</td>\n",
       "      <td>1.000000</td>\n",
       "      <td>0.000000</td>\n",
       "      <td>0.000000</td>\n",
       "      <td>4.000000</td>\n",
       "      <td>1.000000</td>\n",
       "      <td>0.000000</td>\n",
       "      <td>0.000000</td>\n",
       "    </tr>\n",
       "    <tr>\n",
       "      <th>max</th>\n",
       "      <td>76109.000000</td>\n",
       "      <td>2022.000000</td>\n",
       "      <td>12.000000</td>\n",
       "      <td>7.610920e+10</td>\n",
       "      <td>9993.000000</td>\n",
       "      <td>4.000000</td>\n",
       "      <td>19.000000</td>\n",
       "      <td>8.000000</td>\n",
       "      <td>13.000000</td>\n",
       "      <td>21.000000</td>\n",
       "      <td>...</td>\n",
       "      <td>12.000000</td>\n",
       "      <td>32.000000</td>\n",
       "      <td>108.000000</td>\n",
       "      <td>10.000000</td>\n",
       "      <td>22.000000</td>\n",
       "      <td>9.000000</td>\n",
       "      <td>284.000000</td>\n",
       "      <td>5.000000</td>\n",
       "      <td>2.000000</td>\n",
       "      <td>4.000000</td>\n",
       "    </tr>\n",
       "  </tbody>\n",
       "</table>\n",
       "<p>8 rows × 30 columns</p>\n",
       "</div>"
      ],
      "text/plain": [
       "       Código DANE de Municipio          Año         Mes         cruce  \\\n",
       "count                466.000000   466.000000  466.000000  4.660000e+02   \n",
       "mean               64472.000000  2012.214592    6.424893  2.064217e+10   \n",
       "std                11649.506183     5.614601    3.462199  2.564621e+10   \n",
       "min                52835.000000  2003.000000    1.000000  5.283520e+09   \n",
       "25%                52835.000000  2007.000000    3.000000  5.283520e+09   \n",
       "50%                64472.000000  2012.000000    6.000000  7.610920e+09   \n",
       "75%                76109.000000  2017.000000    9.000000  7.610920e+09   \n",
       "max                76109.000000  2022.000000   12.000000  7.610920e+10   \n",
       "\n",
       "       Victconf_Desplazamiento forzado  Cant_acc_subversivas  \\\n",
       "count                       466.000000            466.000000   \n",
       "mean                        742.562232              0.098712   \n",
       "std                         836.916047              0.380885   \n",
       "min                          43.000000              0.000000   \n",
       "25%                         247.000000              0.000000   \n",
       "50%                         513.000000              0.000000   \n",
       "75%                         962.500000              0.000000   \n",
       "max                        9993.000000              4.000000   \n",
       "\n",
       "       Cant_acc_terroristas  Cant_atenta_pte_vias  Cant_delito_med_ambiente  \\\n",
       "count            466.000000            466.000000                466.000000   \n",
       "mean               0.781116              0.124464                  1.214592   \n",
       "std                2.035002              0.623520                  1.972140   \n",
       "min                0.000000              0.000000                  0.000000   \n",
       "25%                0.000000              0.000000                  0.000000   \n",
       "50%                0.000000              0.000000                  0.000000   \n",
       "75%                1.000000              0.000000                  2.000000   \n",
       "max               19.000000              8.000000                 13.000000   \n",
       "\n",
       "       Cant_delito_sexual  ...  Victconf_Delitointegridadsexual  \\\n",
       "count          466.000000  ...                       466.000000   \n",
       "mean             4.600858  ...                         1.772532   \n",
       "std              4.371403  ...                         2.116951   \n",
       "min              0.000000  ...                         0.000000   \n",
       "25%              1.000000  ...                         0.000000   \n",
       "50%              3.000000  ...                         1.000000   \n",
       "75%              8.000000  ...                         2.000000   \n",
       "max             21.000000  ...                        12.000000   \n",
       "\n",
       "       Victconf_Desaparición forzada  Victconf_Homicidio  \\\n",
       "count                     466.000000          466.000000   \n",
       "mean                        3.716738           18.096567   \n",
       "std                         5.322828           18.227750   \n",
       "min                         0.000000            0.000000   \n",
       "25%                         0.000000            3.000000   \n",
       "50%                         1.000000           14.000000   \n",
       "75%                         6.000000           28.000000   \n",
       "max                        32.000000          108.000000   \n",
       "\n",
       "       Victconf_LesionPersonalFisica  Victconf_LesionPersonalPsicolog  \\\n",
       "count                     466.000000                       466.000000   \n",
       "mean                        0.538627                         0.253219   \n",
       "std                         0.976944                         1.221774   \n",
       "min                         0.000000                         0.000000   \n",
       "25%                         0.000000                         0.000000   \n",
       "50%                         0.000000                         0.000000   \n",
       "75%                         1.000000                         0.000000   \n",
       "max                        10.000000                        22.000000   \n",
       "\n",
       "       Victconf_MinasAntipers_explos  Victconf_PerdidadeBienes  \\\n",
       "count                     466.000000                466.000000   \n",
       "mean                        0.165236                  7.954936   \n",
       "std                         0.678830                 22.115827   \n",
       "min                         0.000000                  0.000000   \n",
       "25%                         0.000000                  0.000000   \n",
       "50%                         0.000000                  1.000000   \n",
       "75%                         0.000000                  4.000000   \n",
       "max                         9.000000                284.000000   \n",
       "\n",
       "       Victconf_Secuestro  Victconf_Tortura  \\\n",
       "count          466.000000        466.000000   \n",
       "mean             0.362661          0.083691   \n",
       "std              0.741562          0.306686   \n",
       "min              0.000000          0.000000   \n",
       "25%              0.000000          0.000000   \n",
       "50%              0.000000          0.000000   \n",
       "75%              1.000000          0.000000   \n",
       "max              5.000000          2.000000   \n",
       "\n",
       "       Victconf_Vinculacde Niños NiñasyAdoles  \n",
       "count                              466.000000  \n",
       "mean                                 0.227468  \n",
       "std                                  0.575276  \n",
       "min                                  0.000000  \n",
       "25%                                  0.000000  \n",
       "50%                                  0.000000  \n",
       "75%                                  0.000000  \n",
       "max                                  4.000000  \n",
       "\n",
       "[8 rows x 30 columns]"
      ]
     },
     "execution_count": 5,
     "metadata": {},
     "output_type": "execute_result"
    }
   ],
   "source": [
    "#Descripción del dataframe\n",
    "df.describe()"
   ]
  },
  {
   "cell_type": "code",
   "execution_count": 6,
   "id": "61a4b688",
   "metadata": {
    "colab": {
     "base_uri": "https://localhost:8080/"
    },
    "executionInfo": {
     "elapsed": 6,
     "status": "ok",
     "timestamp": 1665078997789,
     "user": {
      "displayName": "sandra tamayo",
      "userId": "18092430420470936659"
     },
     "user_tz": 300
    },
    "id": "3fd51a4e",
    "outputId": "38611ddf-10aa-4fd5-8b76-da25cbb72f16"
   },
   "outputs": [
    {
     "data": {
      "text/plain": [
       "52835    233\n",
       "76109    233\n",
       "Name: Código DANE de Municipio, dtype: int64"
      ]
     },
     "execution_count": 6,
     "metadata": {},
     "output_type": "execute_result"
    }
   ],
   "source": [
    "#Verificación de registros por MunicipiO\n",
    "# Código DANE : 52835-> Tumaco\n",
    "# 76109 -> Buenaventura  \n",
    "df['Código DANE de Municipio'].value_counts()"
   ]
  },
  {
   "cell_type": "code",
   "execution_count": 7,
   "id": "05e68da3",
   "metadata": {},
   "outputs": [],
   "source": [
    "# Se elimina las columnas \n",
    "df = df.drop('Año', axis = 1)\n",
    "df = df.drop('Mes', axis = 1)\n",
    "df = df.drop('cruce', axis = 1)"
   ]
  },
  {
   "cell_type": "code",
   "execution_count": 8,
   "id": "da6aff89",
   "metadata": {},
   "outputs": [],
   "source": [
    "#Para graficar\n",
    "tumaco = df['Código DANE de Municipio'] == 52835\n",
    "buenaventura = df['Código DANE de Municipio'] == 76109"
   ]
  },
  {
   "cell_type": "code",
   "execution_count": 9,
   "id": "4f51fb4c",
   "metadata": {},
   "outputs": [
    {
     "data": {
      "image/png": "[encoded data removed]",
      "text/plain": [
       "<Figure size 432x288 with 1 Axes>"
      ]
     },
     "metadata": {
      "needs_background": "light"
     },
     "output_type": "display_data"
    }
   ],
   "source": [
    "plt.scatter(df[tumaco]['Victconf_Desplazamiento forzado'],y=df[tumaco]['Victconf_Desplazamiento forzado'], label = 'tumaco', color = 'r')\n",
    "plt.scatter(df[buenaventura]['Victconf_Desplazamiento forzado'],y=df[buenaventura]['Victconf_Desplazamiento forzado'], label = 'buenaventura', color = 'g')\n",
    "plt.show()"
   ]
  },
  {
   "cell_type": "markdown",
   "id": "76652995",
   "metadata": {},
   "source": [
    "## Dividimos los datos en entrenamiento y pruebas"
   ]
  },
  {
   "cell_type": "code",
   "execution_count": 10,
   "id": "65d3d694",
   "metadata": {
    "executionInfo": {
     "elapsed": 254,
     "status": "ok",
     "timestamp": 1665079072957,
     "user": {
      "displayName": "sandra tamayo",
      "userId": "18092430420470936659"
     },
     "user_tz": 300
    },
    "id": "8c82522c"
   },
   "outputs": [],
   "source": [
    "train, test = train_test_split(df, test_size = 0.3, random_state = 42,stratify = df['Código DANE de Municipio'])"
   ]
  },
  {
   "cell_type": "code",
   "execution_count": 11,
   "id": "ef180938",
   "metadata": {
    "colab": {
     "base_uri": "https://localhost:8080/"
    },
    "executionInfo": {
     "elapsed": 6,
     "status": "ok",
     "timestamp": 1665079074507,
     "user": {
      "displayName": "sandra tamayo",
      "userId": "18092430420470936659"
     },
     "user_tz": 300
    },
    "id": "190c8e74",
    "outputId": "6042c040-abef-4311-e45d-0402af1df0b7"
   },
   "outputs": [
    {
     "data": {
      "text/plain": [
       "52835    0.5\n",
       "76109    0.5\n",
       "Name: Código DANE de Municipio, dtype: float64"
      ]
     },
     "execution_count": 11,
     "metadata": {},
     "output_type": "execute_result"
    }
   ],
   "source": [
    "train['Código DANE de Municipio'].value_counts()/train['Código DANE de Municipio'].count()"
   ]
  },
  {
   "cell_type": "code",
   "execution_count": 12,
   "id": "ea6043dc",
   "metadata": {
    "colab": {
     "base_uri": "https://localhost:8080/"
    },
    "executionInfo": {
     "elapsed": 276,
     "status": "ok",
     "timestamp": 1665079078994,
     "user": {
      "displayName": "sandra tamayo",
      "userId": "18092430420470936659"
     },
     "user_tz": 300
    },
    "id": "736f8f4c",
    "outputId": "39114961-b4f2-431f-f96e-f8f7089286b0"
   },
   "outputs": [
    {
     "data": {
      "text/plain": [
       "76109    0.5\n",
       "52835    0.5\n",
       "Name: Código DANE de Municipio, dtype: float64"
      ]
     },
     "execution_count": 12,
     "metadata": {},
     "output_type": "execute_result"
    }
   ],
   "source": [
    "test['Código DANE de Municipio'].value_counts()/test['Código DANE de Municipio'].count()"
   ]
  },
  {
   "cell_type": "code",
   "execution_count": 13,
   "id": "b4d832a9",
   "metadata": {
    "colab": {
     "base_uri": "https://localhost:8080/"
    },
    "executionInfo": {
     "elapsed": 264,
     "status": "ok",
     "timestamp": 1665079090279,
     "user": {
      "displayName": "sandra tamayo",
      "userId": "18092430420470936659"
     },
     "user_tz": 300
    },
    "id": "5e63bcb1",
    "outputId": "b2ed9726-14f1-4b7a-b345-849618e4df2d"
   },
   "outputs": [
    {
     "data": {
      "text/plain": [
       "Código DANE de Municipio                  0\n",
       "Victconf_Desplazamiento forzado           0\n",
       "Cant_acc_subversivas                      0\n",
       "Cant_acc_terroristas                      0\n",
       "Cant_atenta_pte_vias                      0\n",
       "Cant_delito_med_ambiente                  0\n",
       "Cant_delito_sexual                        0\n",
       "Cant_extorsion                            0\n",
       "Cant_homicidios                           0\n",
       "Cant_homicid_colect                       0\n",
       "Cant_lesiones_personales                  0\n",
       "Cant_pirateria_terrestre                  0\n",
       "Cant_secuestros                           0\n",
       "Victconf_AbandoDespojForzTierras          0\n",
       "Victconf_Actoterrorista                   0\n",
       "Victconf_Amenaza                          0\n",
       "Victconf_Confinamiento                    0\n",
       "Victconf_Delitointegridadsexual           0\n",
       "Victconf_Desaparición forzada             0\n",
       "Victconf_Homicidio                        0\n",
       "Victconf_LesionPersonalFisica             0\n",
       "Victconf_LesionPersonalPsicolog           0\n",
       "Victconf_MinasAntipers_explos             0\n",
       "Victconf_PerdidadeBienes                  0\n",
       "Victconf_Secuestro                        0\n",
       "Victconf_Tortura                          0\n",
       "Victconf_Vinculacde Niños NiñasyAdoles    0\n",
       "dtype: int64"
      ]
     },
     "execution_count": 13,
     "metadata": {},
     "output_type": "execute_result"
    }
   ],
   "source": [
    "#Verificar la cantidad de valores nulos en dataframe entrenamiento\n",
    "train.isna().sum()"
   ]
  },
  {
   "cell_type": "code",
   "execution_count": 14,
   "id": "fc92626b",
   "metadata": {
    "colab": {
     "base_uri": "https://localhost:8080/"
    },
    "executionInfo": {
     "elapsed": 353,
     "status": "ok",
     "timestamp": 1665079383452,
     "user": {
      "displayName": "sandra tamayo",
      "userId": "18092430420470936659"
     },
     "user_tz": 300
    },
    "id": "78ltVf2Sdta3",
    "outputId": "2f038b61-185e-46ed-c744-ffefc9bdc2bb"
   },
   "outputs": [
    {
     "data": {
      "text/plain": [
       "Index(['Código DANE de Municipio', 'Victconf_Desplazamiento forzado',\n",
       "       'Cant_acc_subversivas', 'Cant_acc_terroristas', 'Cant_atenta_pte_vias',\n",
       "       'Cant_delito_med_ambiente', 'Cant_delito_sexual', 'Cant_extorsion',\n",
       "       'Cant_homicidios', 'Cant_homicid_colect', 'Cant_lesiones_personales',\n",
       "       'Cant_pirateria_terrestre', 'Cant_secuestros',\n",
       "       'Victconf_AbandoDespojForzTierras', 'Victconf_Actoterrorista',\n",
       "       'Victconf_Amenaza', 'Victconf_Confinamiento',\n",
       "       'Victconf_Delitointegridadsexual', 'Victconf_Desaparición forzada',\n",
       "       'Victconf_Homicidio', 'Victconf_LesionPersonalFisica',\n",
       "       'Victconf_LesionPersonalPsicolog', 'Victconf_MinasAntipers_explos',\n",
       "       'Victconf_PerdidadeBienes', 'Victconf_Secuestro', 'Victconf_Tortura',\n",
       "       'Victconf_Vinculacde Niños NiñasyAdoles'],\n",
       "      dtype='object')"
      ]
     },
     "execution_count": 14,
     "metadata": {},
     "output_type": "execute_result"
    }
   ],
   "source": [
    "#columnas unicas\n",
    "train.columns.unique()"
   ]
  },
  {
   "cell_type": "markdown",
   "id": "605020cc",
   "metadata": {},
   "source": [
    "## Consulta de datos por Municipio\n",
    "#### Código DANE : 52835-> Tumaco\n",
    "#### 76109 -> Buenaventura "
   ]
  },
  {
   "cell_type": "code",
   "execution_count": 15,
   "id": "e348bf0e",
   "metadata": {
    "id": "6b1e4718",
    "outputId": "daab6529-580d-43f9-f2e9-3be299d3e840"
   },
   "outputs": [
    {
     "data": {
      "text/html": [
       "<div>\n",
       "<style scoped>\n",
       "    .dataframe tbody tr th:only-of-type {\n",
       "        vertical-align: middle;\n",
       "    }\n",
       "\n",
       "    .dataframe tbody tr th {\n",
       "        vertical-align: top;\n",
       "    }\n",
       "\n",
       "    .dataframe thead th {\n",
       "        text-align: right;\n",
       "    }\n",
       "</style>\n",
       "<table border=\"1\" class=\"dataframe\">\n",
       "  <thead>\n",
       "    <tr style=\"text-align: right;\">\n",
       "      <th></th>\n",
       "      <th>Código DANE de Municipio</th>\n",
       "      <th>cantidad de registros</th>\n",
       "    </tr>\n",
       "  </thead>\n",
       "  <tbody>\n",
       "    <tr>\n",
       "      <th>0</th>\n",
       "      <td>52835</td>\n",
       "      <td>163</td>\n",
       "    </tr>\n",
       "    <tr>\n",
       "      <th>1</th>\n",
       "      <td>76109</td>\n",
       "      <td>163</td>\n",
       "    </tr>\n",
       "  </tbody>\n",
       "</table>\n",
       "</div>"
      ],
      "text/plain": [
       "   Código DANE de Municipio  cantidad de registros\n",
       "0                     52835                    163\n",
       "1                     76109                    163"
      ]
     },
     "execution_count": 15,
     "metadata": {},
     "output_type": "execute_result"
    }
   ],
   "source": [
    "#Cantidad de reuniones por Municipio\n",
    "train.groupby(['Código DANE de Municipio']).size().reset_index(name='cantidad de registros')"
   ]
  },
  {
   "cell_type": "markdown",
   "id": "97e39284",
   "metadata": {},
   "source": [
    "# Selección de variables"
   ]
  },
  {
   "cell_type": "code",
   "execution_count": 16,
   "id": "f040bbe1",
   "metadata": {},
   "outputs": [],
   "source": [
    "#importancia de las variables a traves de arbol de decisión\n",
    "model = DecisionTreeClassifier()"
   ]
  },
  {
   "cell_type": "code",
   "execution_count": 17,
   "id": "a65e7b0c",
   "metadata": {},
   "outputs": [
    {
     "data": {
      "text/plain": [
       "Index(['Código DANE de Municipio', 'Victconf_Desplazamiento forzado',\n",
       "       'Cant_acc_subversivas', 'Cant_acc_terroristas', 'Cant_atenta_pte_vias',\n",
       "       'Cant_delito_med_ambiente', 'Cant_delito_sexual', 'Cant_extorsion',\n",
       "       'Cant_homicidios', 'Cant_homicid_colect', 'Cant_lesiones_personales',\n",
       "       'Cant_pirateria_terrestre', 'Cant_secuestros',\n",
       "       'Victconf_AbandoDespojForzTierras', 'Victconf_Actoterrorista',\n",
       "       'Victconf_Amenaza', 'Victconf_Confinamiento',\n",
       "       'Victconf_Delitointegridadsexual', 'Victconf_Desaparición forzada',\n",
       "       'Victconf_Homicidio', 'Victconf_LesionPersonalFisica',\n",
       "       'Victconf_LesionPersonalPsicolog', 'Victconf_MinasAntipers_explos',\n",
       "       'Victconf_PerdidadeBienes', 'Victconf_Secuestro', 'Victconf_Tortura',\n",
       "       'Victconf_Vinculacde Niños NiñasyAdoles'],\n",
       "      dtype='object')"
      ]
     },
     "execution_count": 17,
     "metadata": {},
     "output_type": "execute_result"
    }
   ],
   "source": [
    "df.columns.unique()"
   ]
  },
  {
   "cell_type": "code",
   "execution_count": 17,
   "id": "c129f32c",
   "metadata": {},
   "outputs": [],
   "source": [
    "#Se separa los datos en variables dependientes e independientes\n",
    "X = df.drop('Código DANE de Municipio', axis=1)\n",
    "y = df['Código DANE de Municipio']"
   ]
  },
  {
   "cell_type": "code",
   "execution_count": 18,
   "id": "041f786e",
   "metadata": {},
   "outputs": [
    {
     "data": {
      "text/plain": [
       "DecisionTreeClassifier()"
      ]
     },
     "execution_count": 18,
     "metadata": {},
     "output_type": "execute_result"
    }
   ],
   "source": [
    "model.fit(X, y)"
   ]
  },
  {
   "cell_type": "code",
   "execution_count": 19,
   "id": "bb864f0e",
   "metadata": {},
   "outputs": [
    {
     "data": {
      "text/plain": [
       "array([0.07347477, 0.02204212, 0.03855305, 0.00780336, 0.00616644,\n",
       "       0.00572246, 0.04471806, 0.08765492, 0.        , 0.39079854,\n",
       "       0.00393419, 0.00572246, 0.        , 0.00731873, 0.26206888,\n",
       "       0.        , 0.01528676, 0.00718113, 0.00363692, 0.00457797,\n",
       "       0.        , 0.        , 0.        , 0.        , 0.        ,\n",
       "       0.01333925])"
      ]
     },
     "execution_count": 19,
     "metadata": {},
     "output_type": "execute_result"
    }
   ],
   "source": [
    "model.feature_importances_"
   ]
  },
  {
   "cell_type": "code",
   "execution_count": 20,
   "id": "3469075a",
   "metadata": {},
   "outputs": [],
   "source": [
    "#para ordenar\n",
    "order_columns = X.columns[np.argsort(model.feature_importances_)[::-1]]"
   ]
  },
  {
   "cell_type": "code",
   "execution_count": 21,
   "id": "e817e57b",
   "metadata": {},
   "outputs": [],
   "source": [
    "order_importance = np.sort(model.feature_importances_)[::-1]"
   ]
  },
  {
   "cell_type": "code",
   "execution_count": 22,
   "id": "b945ecc4",
   "metadata": {},
   "outputs": [
    {
     "data": {
      "image/png": "[encoded data removed]",
      "text/plain": [
       "<Figure size 1152x432 with 1 Axes>"
      ]
     },
     "metadata": {
      "needs_background": "light"
     },
     "output_type": "display_data"
    }
   ],
   "source": [
    "plt.figure(figsize=(16,6))\n",
    "plt.bar(x = order_columns, height = order_importance)\n",
    "plt.xticks(rotation = 90)\n",
    "plt.show()"
   ]
  },
  {
   "cell_type": "code",
   "execution_count": 23,
   "id": "f512f658",
   "metadata": {},
   "outputs": [
    {
     "data": {
      "text/plain": [
       "Index(['Victconf_Desplazamiento forzado', 'Cant_acc_subversivas',\n",
       "       'Cant_acc_terroristas', 'Cant_atenta_pte_vias',\n",
       "       'Cant_delito_med_ambiente', 'Cant_delito_sexual', 'Cant_extorsion',\n",
       "       'Cant_homicidios', 'Cant_homicid_colect', 'Cant_lesiones_personales',\n",
       "       'Cant_pirateria_terrestre', 'Cant_secuestros',\n",
       "       'Victconf_AbandoDespojForzTierras', 'Victconf_Actoterrorista',\n",
       "       'Victconf_Amenaza', 'Victconf_Confinamiento',\n",
       "       'Victconf_Delitointegridadsexual', 'Victconf_Desaparición forzada',\n",
       "       'Victconf_Homicidio', 'Victconf_LesionPersonalFisica',\n",
       "       'Victconf_LesionPersonalPsicolog', 'Victconf_MinasAntipers_explos',\n",
       "       'Victconf_PerdidadeBienes', 'Victconf_Secuestro', 'Victconf_Tortura',\n",
       "       'Victconf_Vinculacde Niños NiñasyAdoles'],\n",
       "      dtype='object')"
      ]
     },
     "execution_count": 23,
     "metadata": {},
     "output_type": "execute_result"
    }
   ],
   "source": [
    "X.columns.unique()"
   ]
  },
  {
   "cell_type": "code",
   "execution_count": 24,
   "id": "8fa9d9e4",
   "metadata": {},
   "outputs": [],
   "source": [
    "feactures = ['Cant_lesiones_personales','Victconf_Amenaza','Victconf_Desplazamiento forzado','Cant_homicidios']"
   ]
  },
  {
   "cell_type": "code",
   "execution_count": 25,
   "id": "0b5a008f",
   "metadata": {},
   "outputs": [],
   "source": [
    "#Modelo de clasificación\n",
    "X_train = train[feactures]\n",
    "y_train = train.iloc[:,0].ravel()"
   ]
  },
  {
   "cell_type": "code",
   "execution_count": 26,
   "id": "c570d7b3",
   "metadata": {},
   "outputs": [],
   "source": [
    "y_train = (y_train == 76109).astype('int')"
   ]
  },
  {
   "cell_type": "code",
   "execution_count": 27,
   "id": "589b7965",
   "metadata": {},
   "outputs": [],
   "source": [
    "#Modelo de clasificación\n",
    "X_test = test[feactures]\n",
    "y_test = test.iloc[:,0].ravel()"
   ]
  },
  {
   "cell_type": "code",
   "execution_count": 28,
   "id": "231880cd",
   "metadata": {},
   "outputs": [],
   "source": [
    "y_test = (y_test == 76109).astype('int')"
   ]
  },
  {
   "cell_type": "code",
   "execution_count": 29,
   "id": "e8543772",
   "metadata": {},
   "outputs": [
    {
     "data": {
      "text/html": [
       "<div>\n",
       "<style scoped>\n",
       "    .dataframe tbody tr th:only-of-type {\n",
       "        vertical-align: middle;\n",
       "    }\n",
       "\n",
       "    .dataframe tbody tr th {\n",
       "        vertical-align: top;\n",
       "    }\n",
       "\n",
       "    .dataframe thead th {\n",
       "        text-align: right;\n",
       "    }\n",
       "</style>\n",
       "<table border=\"1\" class=\"dataframe\">\n",
       "  <thead>\n",
       "    <tr style=\"text-align: right;\">\n",
       "      <th></th>\n",
       "      <th>Cant_lesiones_personales</th>\n",
       "      <th>Victconf_Amenaza</th>\n",
       "      <th>Victconf_Desplazamiento forzado</th>\n",
       "      <th>Cant_homicidios</th>\n",
       "    </tr>\n",
       "  </thead>\n",
       "  <tbody>\n",
       "    <tr>\n",
       "      <th>118</th>\n",
       "      <td>17</td>\n",
       "      <td>36</td>\n",
       "      <td>707</td>\n",
       "      <td>26</td>\n",
       "    </tr>\n",
       "    <tr>\n",
       "      <th>227</th>\n",
       "      <td>18</td>\n",
       "      <td>24</td>\n",
       "      <td>276</td>\n",
       "      <td>14</td>\n",
       "    </tr>\n",
       "    <tr>\n",
       "      <th>451</th>\n",
       "      <td>35</td>\n",
       "      <td>4</td>\n",
       "      <td>606</td>\n",
       "      <td>12</td>\n",
       "    </tr>\n",
       "    <tr>\n",
       "      <th>355</th>\n",
       "      <td>34</td>\n",
       "      <td>78</td>\n",
       "      <td>1188</td>\n",
       "      <td>13</td>\n",
       "    </tr>\n",
       "    <tr>\n",
       "      <th>154</th>\n",
       "      <td>8</td>\n",
       "      <td>37</td>\n",
       "      <td>419</td>\n",
       "      <td>6</td>\n",
       "    </tr>\n",
       "    <tr>\n",
       "      <th>...</th>\n",
       "      <td>...</td>\n",
       "      <td>...</td>\n",
       "      <td>...</td>\n",
       "      <td>...</td>\n",
       "    </tr>\n",
       "    <tr>\n",
       "      <th>79</th>\n",
       "      <td>4</td>\n",
       "      <td>5</td>\n",
       "      <td>1611</td>\n",
       "      <td>25</td>\n",
       "    </tr>\n",
       "    <tr>\n",
       "      <th>364</th>\n",
       "      <td>46</td>\n",
       "      <td>125</td>\n",
       "      <td>2423</td>\n",
       "      <td>24</td>\n",
       "    </tr>\n",
       "    <tr>\n",
       "      <th>310</th>\n",
       "      <td>29</td>\n",
       "      <td>0</td>\n",
       "      <td>184</td>\n",
       "      <td>8</td>\n",
       "    </tr>\n",
       "    <tr>\n",
       "      <th>247</th>\n",
       "      <td>24</td>\n",
       "      <td>0</td>\n",
       "      <td>101</td>\n",
       "      <td>14</td>\n",
       "    </tr>\n",
       "    <tr>\n",
       "      <th>41</th>\n",
       "      <td>6</td>\n",
       "      <td>2</td>\n",
       "      <td>187</td>\n",
       "      <td>21</td>\n",
       "    </tr>\n",
       "  </tbody>\n",
       "</table>\n",
       "<p>326 rows × 4 columns</p>\n",
       "</div>"
      ],
      "text/plain": [
       "     Cant_lesiones_personales  Victconf_Amenaza  \\\n",
       "118                        17                36   \n",
       "227                        18                24   \n",
       "451                        35                 4   \n",
       "355                        34                78   \n",
       "154                         8                37   \n",
       "..                        ...               ...   \n",
       "79                          4                 5   \n",
       "364                        46               125   \n",
       "310                        29                 0   \n",
       "247                        24                 0   \n",
       "41                          6                 2   \n",
       "\n",
       "     Victconf_Desplazamiento forzado  Cant_homicidios  \n",
       "118                              707               26  \n",
       "227                              276               14  \n",
       "451                              606               12  \n",
       "355                             1188               13  \n",
       "154                              419                6  \n",
       "..                               ...              ...  \n",
       "79                              1611               25  \n",
       "364                             2423               24  \n",
       "310                              184                8  \n",
       "247                              101               14  \n",
       "41                               187               21  \n",
       "\n",
       "[326 rows x 4 columns]"
      ]
     },
     "execution_count": 29,
     "metadata": {},
     "output_type": "execute_result"
    }
   ],
   "source": [
    "X_train"
   ]
  },
  {
   "cell_type": "code",
   "execution_count": 30,
   "id": "153937bc",
   "metadata": {},
   "outputs": [
    {
     "data": {
      "text/plain": [
       "array([0, 0, 1, 1, 0, 1, 1, 1, 1, 0, 0, 0, 1, 0, 0, 1, 0, 1, 0, 1, 0, 1,\n",
       "       1, 0, 1, 0, 1, 1, 1, 1, 0, 0, 0, 0, 0, 0, 0, 0, 1, 0, 0, 1, 0, 1,\n",
       "       1, 0, 1, 1, 1, 0, 1, 1, 1, 1, 0, 0, 0, 0, 0, 0, 1, 1, 0, 1, 0, 0,\n",
       "       1, 1, 1, 1, 1, 0, 0, 1, 0, 0, 0, 0, 1, 0, 0, 1, 0, 1, 0, 0, 0, 1,\n",
       "       0, 1, 1, 1, 1, 1, 1, 0, 1, 0, 1, 0, 0, 1, 0, 1, 1, 0, 0, 1, 1, 0,\n",
       "       1, 0, 1, 0, 1, 0, 1, 0, 1, 0, 0, 1, 1, 1, 1, 0, 1, 0, 1, 0, 1, 1,\n",
       "       1, 0, 0, 0, 0, 0, 0, 0, 1, 0, 0, 0, 0, 0, 1, 1, 0, 1, 0, 1, 0, 0,\n",
       "       0, 1, 0, 0, 0, 0, 1, 1, 0, 1, 1, 1, 0, 1, 0, 1, 0, 0, 1, 0, 0, 0,\n",
       "       1, 1, 1, 1, 0, 1, 1, 1, 0, 0, 1, 0, 1, 0, 1, 1, 1, 1, 0, 0, 1, 0,\n",
       "       1, 1, 0, 1, 1, 0, 0, 0, 1, 1, 0, 1, 0, 1, 0, 1, 1, 0, 1, 0, 1, 0,\n",
       "       1, 1, 0, 0, 0, 0, 0, 0, 0, 1, 1, 0, 1, 0, 0, 1, 1, 1, 0, 1, 1, 0,\n",
       "       1, 0, 0, 1, 0, 0, 0, 0, 0, 0, 1, 1, 1, 1, 0, 1, 0, 1, 1, 0, 1, 1,\n",
       "       0, 0, 1, 1, 1, 1, 1, 1, 0, 0, 1, 0, 0, 1, 0, 1, 0, 1, 0, 1, 1, 0,\n",
       "       0, 1, 0, 0, 1, 0, 1, 0, 1, 0, 0, 1, 0, 0, 1, 1, 1, 0, 0, 1, 0, 0,\n",
       "       1, 1, 1, 1, 1, 1, 0, 1, 0, 1, 1, 1, 0, 0, 1, 1, 1, 0])"
      ]
     },
     "execution_count": 30,
     "metadata": {},
     "output_type": "execute_result"
    }
   ],
   "source": [
    "y_train"
   ]
  },
  {
   "cell_type": "markdown",
   "id": "fd8cd85b",
   "metadata": {
    "id": "04a4e121"
   },
   "source": [
    "# Pipeline"
   ]
  },
  {
   "cell_type": "code",
   "execution_count": 31,
   "id": "fe2d2a3e",
   "metadata": {},
   "outputs": [],
   "source": [
    "numeric_pipeline = Pipeline(\n",
    "    [\n",
    "        ('Escaladominmax',MinMaxScaler())\n",
    "        \n",
    "    ]\n",
    ")"
   ]
  },
  {
   "cell_type": "code",
   "execution_count": 32,
   "id": "c0805cf2",
   "metadata": {},
   "outputs": [],
   "source": [
    "column_transformer = ColumnTransformer(\n",
    "    [\n",
    "        ('numeric_pipeline', numeric_pipeline,[0,1,2,3])\n",
    "        \n",
    "    ])"
   ]
  },
  {
   "cell_type": "markdown",
   "id": "1193b377",
   "metadata": {},
   "source": [
    "# Pipeline con DecisionTreeClassifier"
   ]
  },
  {
   "cell_type": "code",
   "execution_count": 33,
   "id": "bf74e0d4",
   "metadata": {},
   "outputs": [],
   "source": [
    "final_pipeline = Pipeline(\n",
    "    [ \n",
    "        ('Pipeline de preprocesamiento', column_transformer),\n",
    "        ('Modelo de predicción(árbol)',DecisionTreeClassifier(max_depth=3) )\n",
    "        \n",
    "    ]\n",
    ")"
   ]
  },
  {
   "cell_type": "markdown",
   "id": "af38217f",
   "metadata": {},
   "source": [
    "# Validación cruzada DecisionTreeClassifier"
   ]
  },
  {
   "cell_type": "code",
   "execution_count": 34,
   "id": "dbf6b3d4",
   "metadata": {},
   "outputs": [],
   "source": [
    "results = cross_validate(final_pipeline, X_train, y_train,\n",
    "                        cv = 10, return_train_score =True,\n",
    "                        scoring = ['accuracy','f1'])"
   ]
  },
  {
   "cell_type": "code",
   "execution_count": 35,
   "id": "2924cbd1",
   "metadata": {},
   "outputs": [
    {
     "name": "stdout",
     "output_type": "stream",
     "text": [
      "train:  0.8848029996981728 +- 0.012787962747707098\n",
      "val:  0.8465909090909092 +- 0.039300953777999095\n"
     ]
    }
   ],
   "source": [
    "print(\"train: \",results[\"train_accuracy\"].mean(), \"+-\",results[\"train_accuracy\"].std())\n",
    "print(\"val: \",results[\"test_accuracy\"].mean(), \"+-\",results[\"test_accuracy\"].std())"
   ]
  },
  {
   "cell_type": "markdown",
   "id": "2acb441b",
   "metadata": {},
   "source": [
    "# Pipeline con RandomForestClassifier"
   ]
  },
  {
   "cell_type": "code",
   "execution_count": 36,
   "id": "5e4420ac",
   "metadata": {},
   "outputs": [],
   "source": [
    "final_pipeline = Pipeline(\n",
    "    [ \n",
    "        ('Pipeline de preprocesamiento', column_transformer),\n",
    "        ('Modelo de predicción(árbol)',RandomForestClassifier(max_depth=3) )\n",
    "        \n",
    "    ]\n",
    ")"
   ]
  },
  {
   "cell_type": "code",
   "execution_count": 37,
   "id": "c26db158",
   "metadata": {},
   "outputs": [],
   "source": [
    "results = cross_validate(final_pipeline, X_train, y_train,\n",
    "                        cv = 10, return_train_score =True,\n",
    "                        scoring = ['accuracy','f1'])"
   ]
  },
  {
   "cell_type": "code",
   "execution_count": 38,
   "id": "79f2bb9b",
   "metadata": {},
   "outputs": [
    {
     "name": "stdout",
     "output_type": "stream",
     "text": [
      "train:  0.9110422325926957 +- 0.006190042664236\n",
      "val:  0.8865530303030305 +- 0.051633387042532175\n"
     ]
    }
   ],
   "source": [
    "print(\"train: \",results[\"train_accuracy\"].mean(), \"+-\",results[\"train_accuracy\"].std())\n",
    "print(\"val: \",results[\"test_accuracy\"].mean(), \"+-\",results[\"test_accuracy\"].std())"
   ]
  },
  {
   "cell_type": "markdown",
   "id": "c286b338",
   "metadata": {},
   "source": [
    "# Ajuste de hiperparametros"
   ]
  },
  {
   "cell_type": "code",
   "execution_count": 39,
   "id": "24b12fba",
   "metadata": {},
   "outputs": [],
   "source": [
    "#randomforest\n",
    "\n",
    "final_pipeline = Pipeline(\n",
    "    [ \n",
    "        ('Pipeline de preprocesamiento', column_transformer),\n",
    "        ('Modelo de predicción(árbol)',RandomForestClassifier(max_depth=3) )\n",
    "        \n",
    "    ]\n",
    ")"
   ]
  },
  {
   "cell_type": "code",
   "execution_count": 40,
   "id": "fc42db11",
   "metadata": {},
   "outputs": [],
   "source": [
    "results = cross_validate(final_pipeline, X_train, y_train,\n",
    "                        cv = 10, return_train_score =True,\n",
    "                        scoring = ['accuracy','f1'])"
   ]
  },
  {
   "cell_type": "code",
   "execution_count": 41,
   "id": "7a3211cf",
   "metadata": {},
   "outputs": [],
   "source": [
    "#probar con 50, 100 y 200 arboles y altura = 2,3,5,10\n",
    "grid={'n_estimators': [ 50,100,200],'max_depth':[2,3,5,10] }"
   ]
  },
  {
   "cell_type": "code",
   "execution_count": 42,
   "id": "2e6f63a5",
   "metadata": {},
   "outputs": [],
   "source": [
    "X_transformed = column_transformer.fit_transform(X_train)"
   ]
  },
  {
   "cell_type": "code",
   "execution_count": 43,
   "id": "73f9111e",
   "metadata": {},
   "outputs": [],
   "source": [
    "grid_search = GridSearchCV(RandomForestClassifier(), param_grid = grid, cv=10, scoring= 'accuracy')"
   ]
  },
  {
   "cell_type": "code",
   "execution_count": 44,
   "id": "13f0aa61",
   "metadata": {},
   "outputs": [
    {
     "data": {
      "text/plain": [
       "GridSearchCV(cv=10, estimator=RandomForestClassifier(),\n",
       "             param_grid={'max_depth': [2, 3, 5, 10],\n",
       "                         'n_estimators': [50, 100, 200]},\n",
       "             scoring='accuracy')"
      ]
     },
     "execution_count": 44,
     "metadata": {},
     "output_type": "execute_result"
    }
   ],
   "source": [
    "grid_search.fit(X_transformed, y_train)"
   ]
  },
  {
   "cell_type": "code",
   "execution_count": 47,
   "id": "9b9b3c84",
   "metadata": {},
   "outputs": [
    {
     "data": {
      "text/plain": [
       "0.8987689393939394"
      ]
     },
     "execution_count": 47,
     "metadata": {},
     "output_type": "execute_result"
    }
   ],
   "source": [
    "grid_search.best_score_"
   ]
  },
  {
   "cell_type": "code",
   "execution_count": 48,
   "id": "91b89115",
   "metadata": {},
   "outputs": [
    {
     "data": {
      "text/plain": [
       "{'max_depth': 10, 'n_estimators': 200}"
      ]
     },
     "execution_count": 48,
     "metadata": {},
     "output_type": "execute_result"
    }
   ],
   "source": [
    "grid_search.best_params_"
   ]
  },
  {
   "cell_type": "markdown",
   "id": "a325c5c4",
   "metadata": {},
   "source": [
    "# Entrenamiento final"
   ]
  },
  {
   "cell_type": "code",
   "execution_count": 49,
   "id": "54baf776",
   "metadata": {},
   "outputs": [],
   "source": [
    "final_pipeline = Pipeline(\n",
    "    [ \n",
    "        ('Pipeline de preprocesamiento', column_transformer),\n",
    "        ('Modelo de predicción(árbol)',RandomForestClassifier(max_depth=5,n_estimators = 50) )\n",
    "        \n",
    "    ]\n",
    ")"
   ]
  },
  {
   "cell_type": "code",
   "execution_count": 50,
   "id": "1d6439dc",
   "metadata": {},
   "outputs": [
    {
     "data": {
      "text/plain": [
       "Pipeline(steps=[('Pipeline de preprocesamiento',\n",
       "                 ColumnTransformer(transformers=[('numeric_pipeline',\n",
       "                                                  Pipeline(steps=[('Escaladominmax',\n",
       "                                                                   MinMaxScaler())]),\n",
       "                                                  [0, 1, 2, 3])])),\n",
       "                ('Modelo de predicción(árbol)',\n",
       "                 RandomForestClassifier(max_depth=5, n_estimators=50))])"
      ]
     },
     "execution_count": 50,
     "metadata": {},
     "output_type": "execute_result"
    }
   ],
   "source": [
    "final_pipeline.fit(X_train, y_train)"
   ]
  },
  {
   "cell_type": "code",
   "execution_count": 51,
   "id": "89ad3329",
   "metadata": {},
   "outputs": [
    {
     "data": {
      "text/plain": [
       "['modelrf.joblib']"
      ]
     },
     "execution_count": 51,
     "metadata": {},
     "output_type": "execute_result"
    }
   ],
   "source": [
    "joblib.dump(final_pipeline, 'modelrf.joblib')"
   ]
  },
  {
   "cell_type": "code",
   "execution_count": 52,
   "id": "6405ed30",
   "metadata": {},
   "outputs": [
    {
     "name": "stdout",
     "output_type": "stream",
     "text": [
      "modelrf.joblib\n"
     ]
    }
   ],
   "source": [
    "!tar -zcvf modelrf.tar.gz modelrf.joblib"
   ]
  },
  {
   "cell_type": "code",
   "execution_count": null,
   "id": "8a502bac",
   "metadata": {},
   "outputs": [],
   "source": []
  }
 ],
 "metadata": {
  "colab": {
   "provenance": []
  },
  "kernelspec": {
   "display_name": "conda_python3",
   "language": "python",
   "name": "conda_python3"
  },
  "language_info": {
   "codemirror_mode": {
    "name": "ipython",
    "version": 3
   },
   "file_extension": ".py",
   "mimetype": "text/x-python",
   "name": "python",
   "nbconvert_exporter": "python",
   "pygments_lexer": "ipython3",
   "version": "3.8.12"
  }
 },
 "nbformat": 4,
 "nbformat_minor": 5
}
