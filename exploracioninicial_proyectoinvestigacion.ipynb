{
 "cells": [
  {
   "cell_type": "code",
   "execution_count": 3,
   "id": "688e5703",
   "metadata": {
    "executionInfo": {
     "elapsed": 816,
     "status": "ok",
     "timestamp": 1665078885977,
     "user": {
      "displayName": "sandra tamayo",
      "userId": "18092430420470936659"
     },
     "user_tz": 300
    },
    "id": "91f6b3a6"
   },
   "outputs": [],
   "source": [
    "import pandas as pd\n",
    "from sklearn.model_selection import train_test_split"
   ]
  },
  {
   "cell_type": "code",
   "execution_count": 2,
   "id": "c13b67c9",
   "metadata": {
    "colab": {
     "base_uri": "https://localhost:8080/"
    },
    "executionInfo": {
     "elapsed": 16693,
     "status": "ok",
     "timestamp": 1665078910343,
     "user": {
      "displayName": "sandra tamayo",
      "userId": "18092430420470936659"
     },
     "user_tz": 300
    },
    "id": "gUdhvMXUb5C1",
    "outputId": "3ef219ca-3e3b-48eb-bf05-ad15a7e5a784"
   },
   "outputs": [
    {
     "name": "stdout",
     "output_type": "stream",
     "text": [
      "Mounted at /content/drive\n"
     ]
    }
   ],
   "source": [
    "#from google.colab import drive\n",
    "#drive.mount('/content/drive')"
   ]
  },
  {
   "cell_type": "code",
   "execution_count": 5,
   "id": "11ee1ee9",
   "metadata": {
    "id": "e0a852f1"
   },
   "outputs": [],
   "source": [
    "df = pd.read_excel('s3://proyectosandratamayo/BuenaventuraySanAndTumacmesxmes.xlsx')"
   ]
  },
  {
   "cell_type": "code",
   "execution_count": 3,
   "id": "6b9031fd",
   "metadata": {
    "executionInfo": {
     "elapsed": 1399,
     "status": "ok",
     "timestamp": 1665078947522,
     "user": {
      "displayName": "sandra tamayo",
      "userId": "18092430420470936659"
     },
     "user_tz": 300
    },
    "id": "a1WY9NuXb_Oo"
   },
   "outputs": [],
   "source": [
    "#df = pd.read_excel('/content/drive/MyDrive/Proyecto investigación/BuenaventuraySanAndTumacmesxmes.xlsx')"
   ]
  },
  {
   "cell_type": "code",
   "execution_count": 6,
   "id": "687ae464",
   "metadata": {
    "colab": {
     "base_uri": "https://localhost:8080/",
     "height": 523
    },
    "executionInfo": {
     "elapsed": 298,
     "status": "ok",
     "timestamp": 1665078949804,
     "user": {
      "displayName": "sandra tamayo",
      "userId": "18092430420470936659"
     },
     "user_tz": 300
    },
    "id": "c37832dd",
    "outputId": "89ea4998-7363-4fe1-b8d9-aba3d294f38f"
   },
   "outputs": [
    {
     "data": {
      "text/html": [
       "<div>\n",
       "<style scoped>\n",
       "    .dataframe tbody tr th:only-of-type {\n",
       "        vertical-align: middle;\n",
       "    }\n",
       "\n",
       "    .dataframe tbody tr th {\n",
       "        vertical-align: top;\n",
       "    }\n",
       "\n",
       "    .dataframe thead th {\n",
       "        text-align: right;\n",
       "    }\n",
       "</style>\n",
       "<table border=\"1\" class=\"dataframe\">\n",
       "  <thead>\n",
       "    <tr style=\"text-align: right;\">\n",
       "      <th></th>\n",
       "      <th>Código DANE de Municipio</th>\n",
       "      <th>Año</th>\n",
       "      <th>Mes</th>\n",
       "      <th>cruce</th>\n",
       "      <th>Victconf_Desplazamiento forzado</th>\n",
       "      <th>Cant_acc_subversivas</th>\n",
       "      <th>Cant_acc_terroristas</th>\n",
       "      <th>Cant_atenta_pte_vias</th>\n",
       "      <th>Cant_delito_med_ambiente</th>\n",
       "      <th>Cant_delito_sexual</th>\n",
       "      <th>...</th>\n",
       "      <th>Victconf_Delitointegridadsexual</th>\n",
       "      <th>Victconf_Desaparición forzada</th>\n",
       "      <th>Victconf_Homicidio</th>\n",
       "      <th>Victconf_LesionPersonalFisica</th>\n",
       "      <th>Victconf_LesionPersonalPsicolog</th>\n",
       "      <th>Victconf_MinasAntipers_explos</th>\n",
       "      <th>Victconf_PerdidadeBienes</th>\n",
       "      <th>Victconf_Secuestro</th>\n",
       "      <th>Victconf_Tortura</th>\n",
       "      <th>Victconf_Vinculacde Niños NiñasyAdoles</th>\n",
       "    </tr>\n",
       "  </thead>\n",
       "  <tbody>\n",
       "    <tr>\n",
       "      <th>0</th>\n",
       "      <td>52835</td>\n",
       "      <td>2003</td>\n",
       "      <td>1</td>\n",
       "      <td>5283520031</td>\n",
       "      <td>115</td>\n",
       "      <td>0</td>\n",
       "      <td>0</td>\n",
       "      <td>0</td>\n",
       "      <td>0</td>\n",
       "      <td>0</td>\n",
       "      <td>...</td>\n",
       "      <td>2</td>\n",
       "      <td>3</td>\n",
       "      <td>27</td>\n",
       "      <td>0</td>\n",
       "      <td>0</td>\n",
       "      <td>0</td>\n",
       "      <td>1</td>\n",
       "      <td>0</td>\n",
       "      <td>0</td>\n",
       "      <td>0</td>\n",
       "    </tr>\n",
       "    <tr>\n",
       "      <th>1</th>\n",
       "      <td>52835</td>\n",
       "      <td>2003</td>\n",
       "      <td>2</td>\n",
       "      <td>5283520032</td>\n",
       "      <td>148</td>\n",
       "      <td>1</td>\n",
       "      <td>0</td>\n",
       "      <td>0</td>\n",
       "      <td>0</td>\n",
       "      <td>1</td>\n",
       "      <td>...</td>\n",
       "      <td>0</td>\n",
       "      <td>3</td>\n",
       "      <td>17</td>\n",
       "      <td>0</td>\n",
       "      <td>1</td>\n",
       "      <td>0</td>\n",
       "      <td>0</td>\n",
       "      <td>2</td>\n",
       "      <td>1</td>\n",
       "      <td>0</td>\n",
       "    </tr>\n",
       "    <tr>\n",
       "      <th>2</th>\n",
       "      <td>52835</td>\n",
       "      <td>2003</td>\n",
       "      <td>3</td>\n",
       "      <td>5283520033</td>\n",
       "      <td>120</td>\n",
       "      <td>0</td>\n",
       "      <td>0</td>\n",
       "      <td>0</td>\n",
       "      <td>0</td>\n",
       "      <td>0</td>\n",
       "      <td>...</td>\n",
       "      <td>1</td>\n",
       "      <td>4</td>\n",
       "      <td>26</td>\n",
       "      <td>0</td>\n",
       "      <td>0</td>\n",
       "      <td>0</td>\n",
       "      <td>2</td>\n",
       "      <td>1</td>\n",
       "      <td>0</td>\n",
       "      <td>0</td>\n",
       "    </tr>\n",
       "    <tr>\n",
       "      <th>3</th>\n",
       "      <td>52835</td>\n",
       "      <td>2003</td>\n",
       "      <td>4</td>\n",
       "      <td>5283520034</td>\n",
       "      <td>74</td>\n",
       "      <td>0</td>\n",
       "      <td>0</td>\n",
       "      <td>0</td>\n",
       "      <td>0</td>\n",
       "      <td>0</td>\n",
       "      <td>...</td>\n",
       "      <td>1</td>\n",
       "      <td>3</td>\n",
       "      <td>24</td>\n",
       "      <td>0</td>\n",
       "      <td>0</td>\n",
       "      <td>0</td>\n",
       "      <td>0</td>\n",
       "      <td>1</td>\n",
       "      <td>0</td>\n",
       "      <td>0</td>\n",
       "    </tr>\n",
       "    <tr>\n",
       "      <th>4</th>\n",
       "      <td>52835</td>\n",
       "      <td>2003</td>\n",
       "      <td>5</td>\n",
       "      <td>5283520035</td>\n",
       "      <td>91</td>\n",
       "      <td>1</td>\n",
       "      <td>0</td>\n",
       "      <td>0</td>\n",
       "      <td>0</td>\n",
       "      <td>0</td>\n",
       "      <td>...</td>\n",
       "      <td>2</td>\n",
       "      <td>2</td>\n",
       "      <td>27</td>\n",
       "      <td>0</td>\n",
       "      <td>0</td>\n",
       "      <td>0</td>\n",
       "      <td>0</td>\n",
       "      <td>0</td>\n",
       "      <td>0</td>\n",
       "      <td>0</td>\n",
       "    </tr>\n",
       "    <tr>\n",
       "      <th>...</th>\n",
       "      <td>...</td>\n",
       "      <td>...</td>\n",
       "      <td>...</td>\n",
       "      <td>...</td>\n",
       "      <td>...</td>\n",
       "      <td>...</td>\n",
       "      <td>...</td>\n",
       "      <td>...</td>\n",
       "      <td>...</td>\n",
       "      <td>...</td>\n",
       "      <td>...</td>\n",
       "      <td>...</td>\n",
       "      <td>...</td>\n",
       "      <td>...</td>\n",
       "      <td>...</td>\n",
       "      <td>...</td>\n",
       "      <td>...</td>\n",
       "      <td>...</td>\n",
       "      <td>...</td>\n",
       "      <td>...</td>\n",
       "      <td>...</td>\n",
       "    </tr>\n",
       "    <tr>\n",
       "      <th>461</th>\n",
       "      <td>76109</td>\n",
       "      <td>2022</td>\n",
       "      <td>1</td>\n",
       "      <td>7610920221</td>\n",
       "      <td>2558</td>\n",
       "      <td>0</td>\n",
       "      <td>0</td>\n",
       "      <td>0</td>\n",
       "      <td>0</td>\n",
       "      <td>3</td>\n",
       "      <td>...</td>\n",
       "      <td>2</td>\n",
       "      <td>0</td>\n",
       "      <td>1</td>\n",
       "      <td>0</td>\n",
       "      <td>0</td>\n",
       "      <td>0</td>\n",
       "      <td>3</td>\n",
       "      <td>0</td>\n",
       "      <td>0</td>\n",
       "      <td>0</td>\n",
       "    </tr>\n",
       "    <tr>\n",
       "      <th>462</th>\n",
       "      <td>76109</td>\n",
       "      <td>2022</td>\n",
       "      <td>2</td>\n",
       "      <td>7610920222</td>\n",
       "      <td>2003</td>\n",
       "      <td>0</td>\n",
       "      <td>0</td>\n",
       "      <td>0</td>\n",
       "      <td>2</td>\n",
       "      <td>6</td>\n",
       "      <td>...</td>\n",
       "      <td>4</td>\n",
       "      <td>0</td>\n",
       "      <td>0</td>\n",
       "      <td>0</td>\n",
       "      <td>0</td>\n",
       "      <td>0</td>\n",
       "      <td>1</td>\n",
       "      <td>0</td>\n",
       "      <td>0</td>\n",
       "      <td>0</td>\n",
       "    </tr>\n",
       "    <tr>\n",
       "      <th>463</th>\n",
       "      <td>76109</td>\n",
       "      <td>2022</td>\n",
       "      <td>3</td>\n",
       "      <td>7610920223</td>\n",
       "      <td>1299</td>\n",
       "      <td>0</td>\n",
       "      <td>0</td>\n",
       "      <td>0</td>\n",
       "      <td>0</td>\n",
       "      <td>11</td>\n",
       "      <td>...</td>\n",
       "      <td>5</td>\n",
       "      <td>0</td>\n",
       "      <td>0</td>\n",
       "      <td>0</td>\n",
       "      <td>0</td>\n",
       "      <td>0</td>\n",
       "      <td>1</td>\n",
       "      <td>0</td>\n",
       "      <td>0</td>\n",
       "      <td>0</td>\n",
       "    </tr>\n",
       "    <tr>\n",
       "      <th>464</th>\n",
       "      <td>76109</td>\n",
       "      <td>2022</td>\n",
       "      <td>4</td>\n",
       "      <td>7610920224</td>\n",
       "      <td>1502</td>\n",
       "      <td>0</td>\n",
       "      <td>0</td>\n",
       "      <td>0</td>\n",
       "      <td>2</td>\n",
       "      <td>14</td>\n",
       "      <td>...</td>\n",
       "      <td>5</td>\n",
       "      <td>0</td>\n",
       "      <td>1</td>\n",
       "      <td>0</td>\n",
       "      <td>0</td>\n",
       "      <td>0</td>\n",
       "      <td>0</td>\n",
       "      <td>0</td>\n",
       "      <td>0</td>\n",
       "      <td>0</td>\n",
       "    </tr>\n",
       "    <tr>\n",
       "      <th>465</th>\n",
       "      <td>76109</td>\n",
       "      <td>2022</td>\n",
       "      <td>5</td>\n",
       "      <td>7610920225</td>\n",
       "      <td>732</td>\n",
       "      <td>0</td>\n",
       "      <td>0</td>\n",
       "      <td>0</td>\n",
       "      <td>2</td>\n",
       "      <td>2</td>\n",
       "      <td>...</td>\n",
       "      <td>2</td>\n",
       "      <td>0</td>\n",
       "      <td>0</td>\n",
       "      <td>0</td>\n",
       "      <td>0</td>\n",
       "      <td>0</td>\n",
       "      <td>0</td>\n",
       "      <td>0</td>\n",
       "      <td>0</td>\n",
       "      <td>0</td>\n",
       "    </tr>\n",
       "  </tbody>\n",
       "</table>\n",
       "<p>466 rows × 30 columns</p>\n",
       "</div>"
      ],
      "text/plain": [
       "     Código DANE de Municipio   Año  Mes       cruce  \\\n",
       "0                       52835  2003    1  5283520031   \n",
       "1                       52835  2003    2  5283520032   \n",
       "2                       52835  2003    3  5283520033   \n",
       "3                       52835  2003    4  5283520034   \n",
       "4                       52835  2003    5  5283520035   \n",
       "..                        ...   ...  ...         ...   \n",
       "461                     76109  2022    1  7610920221   \n",
       "462                     76109  2022    2  7610920222   \n",
       "463                     76109  2022    3  7610920223   \n",
       "464                     76109  2022    4  7610920224   \n",
       "465                     76109  2022    5  7610920225   \n",
       "\n",
       "     Victconf_Desplazamiento forzado  Cant_acc_subversivas  \\\n",
       "0                                115                     0   \n",
       "1                                148                     1   \n",
       "2                                120                     0   \n",
       "3                                 74                     0   \n",
       "4                                 91                     1   \n",
       "..                               ...                   ...   \n",
       "461                             2558                     0   \n",
       "462                             2003                     0   \n",
       "463                             1299                     0   \n",
       "464                             1502                     0   \n",
       "465                              732                     0   \n",
       "\n",
       "     Cant_acc_terroristas  Cant_atenta_pte_vias  Cant_delito_med_ambiente  \\\n",
       "0                       0                     0                         0   \n",
       "1                       0                     0                         0   \n",
       "2                       0                     0                         0   \n",
       "3                       0                     0                         0   \n",
       "4                       0                     0                         0   \n",
       "..                    ...                   ...                       ...   \n",
       "461                     0                     0                         0   \n",
       "462                     0                     0                         2   \n",
       "463                     0                     0                         0   \n",
       "464                     0                     0                         2   \n",
       "465                     0                     0                         2   \n",
       "\n",
       "     Cant_delito_sexual  ...  Victconf_Delitointegridadsexual  \\\n",
       "0                     0  ...                                2   \n",
       "1                     1  ...                                0   \n",
       "2                     0  ...                                1   \n",
       "3                     0  ...                                1   \n",
       "4                     0  ...                                2   \n",
       "..                  ...  ...                              ...   \n",
       "461                   3  ...                                2   \n",
       "462                   6  ...                                4   \n",
       "463                  11  ...                                5   \n",
       "464                  14  ...                                5   \n",
       "465                   2  ...                                2   \n",
       "\n",
       "     Victconf_Desaparición forzada  Victconf_Homicidio  \\\n",
       "0                                3                  27   \n",
       "1                                3                  17   \n",
       "2                                4                  26   \n",
       "3                                3                  24   \n",
       "4                                2                  27   \n",
       "..                             ...                 ...   \n",
       "461                              0                   1   \n",
       "462                              0                   0   \n",
       "463                              0                   0   \n",
       "464                              0                   1   \n",
       "465                              0                   0   \n",
       "\n",
       "     Victconf_LesionPersonalFisica  Victconf_LesionPersonalPsicolog  \\\n",
       "0                                0                                0   \n",
       "1                                0                                1   \n",
       "2                                0                                0   \n",
       "3                                0                                0   \n",
       "4                                0                                0   \n",
       "..                             ...                              ...   \n",
       "461                              0                                0   \n",
       "462                              0                                0   \n",
       "463                              0                                0   \n",
       "464                              0                                0   \n",
       "465                              0                                0   \n",
       "\n",
       "     Victconf_MinasAntipers_explos  Victconf_PerdidadeBienes  \\\n",
       "0                                0                         1   \n",
       "1                                0                         0   \n",
       "2                                0                         2   \n",
       "3                                0                         0   \n",
       "4                                0                         0   \n",
       "..                             ...                       ...   \n",
       "461                              0                         3   \n",
       "462                              0                         1   \n",
       "463                              0                         1   \n",
       "464                              0                         0   \n",
       "465                              0                         0   \n",
       "\n",
       "     Victconf_Secuestro  Victconf_Tortura  \\\n",
       "0                     0                 0   \n",
       "1                     2                 1   \n",
       "2                     1                 0   \n",
       "3                     1                 0   \n",
       "4                     0                 0   \n",
       "..                  ...               ...   \n",
       "461                   0                 0   \n",
       "462                   0                 0   \n",
       "463                   0                 0   \n",
       "464                   0                 0   \n",
       "465                   0                 0   \n",
       "\n",
       "     Victconf_Vinculacde Niños NiñasyAdoles  \n",
       "0                                         0  \n",
       "1                                         0  \n",
       "2                                         0  \n",
       "3                                         0  \n",
       "4                                         0  \n",
       "..                                      ...  \n",
       "461                                       0  \n",
       "462                                       0  \n",
       "463                                       0  \n",
       "464                                       0  \n",
       "465                                       0  \n",
       "\n",
       "[466 rows x 30 columns]"
      ]
     },
     "execution_count": 6,
     "metadata": {},
     "output_type": "execute_result"
    }
   ],
   "source": [
    "df"
   ]
  },
  {
   "cell_type": "markdown",
   "id": "a11076e9",
   "metadata": {
    "id": "fba17ebf"
   },
   "source": [
    "## Exploracion"
   ]
  },
  {
   "cell_type": "code",
   "execution_count": 7,
   "id": "9b566a51",
   "metadata": {
    "colab": {
     "base_uri": "https://localhost:8080/"
    },
    "executionInfo": {
     "elapsed": 285,
     "status": "ok",
     "timestamp": 1665078976479,
     "user": {
      "displayName": "sandra tamayo",
      "userId": "18092430420470936659"
     },
     "user_tz": 300
    },
    "id": "4958f62e",
    "outputId": "47db9e2e-9474-477d-f90e-a6a24b85208e"
   },
   "outputs": [
    {
     "name": "stdout",
     "output_type": "stream",
     "text": [
      "<class 'pandas.core.frame.DataFrame'>\n",
      "RangeIndex: 466 entries, 0 to 465\n",
      "Data columns (total 30 columns):\n",
      " #   Column                                  Non-Null Count  Dtype\n",
      "---  ------                                  --------------  -----\n",
      " 0   Código DANE de Municipio                466 non-null    int64\n",
      " 1   Año                                     466 non-null    int64\n",
      " 2   Mes                                     466 non-null    int64\n",
      " 3   cruce                                   466 non-null    int64\n",
      " 4   Victconf_Desplazamiento forzado         466 non-null    int64\n",
      " 5   Cant_acc_subversivas                    466 non-null    int64\n",
      " 6   Cant_acc_terroristas                    466 non-null    int64\n",
      " 7   Cant_atenta_pte_vias                    466 non-null    int64\n",
      " 8   Cant_delito_med_ambiente                466 non-null    int64\n",
      " 9   Cant_delito_sexual                      466 non-null    int64\n",
      " 10  Cant_extorsion                          466 non-null    int64\n",
      " 11  Cant_homicidios                         466 non-null    int64\n",
      " 12  Cant_homicid_colect                     466 non-null    int64\n",
      " 13  Cant_lesiones_personales                466 non-null    int64\n",
      " 14  Cant_pirateria_terrestre                466 non-null    int64\n",
      " 15  Cant_secuestros                         466 non-null    int64\n",
      " 16  Victconf_AbandoDespojForzTierras        466 non-null    int64\n",
      " 17  Victconf_Actoterrorista                 466 non-null    int64\n",
      " 18  Victconf_Amenaza                        466 non-null    int64\n",
      " 19  Victconf_Confinamiento                  466 non-null    int64\n",
      " 20  Victconf_Delitointegridadsexual         466 non-null    int64\n",
      " 21  Victconf_Desaparición forzada           466 non-null    int64\n",
      " 22  Victconf_Homicidio                      466 non-null    int64\n",
      " 23  Victconf_LesionPersonalFisica           466 non-null    int64\n",
      " 24  Victconf_LesionPersonalPsicolog         466 non-null    int64\n",
      " 25  Victconf_MinasAntipers_explos           466 non-null    int64\n",
      " 26  Victconf_PerdidadeBienes                466 non-null    int64\n",
      " 27  Victconf_Secuestro                      466 non-null    int64\n",
      " 28  Victconf_Tortura                        466 non-null    int64\n",
      " 29  Victconf_Vinculacde Niños NiñasyAdoles  466 non-null    int64\n",
      "dtypes: int64(30)\n",
      "memory usage: 109.3 KB\n"
     ]
    }
   ],
   "source": [
    "df.info()"
   ]
  },
  {
   "cell_type": "code",
   "execution_count": 9,
   "id": "d1ad926b",
   "metadata": {
    "colab": {
     "base_uri": "https://localhost:8080/",
     "height": 429
    },
    "executionInfo": {
     "elapsed": 457,
     "status": "ok",
     "timestamp": 1665078979641,
     "user": {
      "displayName": "sandra tamayo",
      "userId": "18092430420470936659"
     },
     "user_tz": 300
    },
    "id": "eefbabaa",
    "outputId": "84a74c38-cae1-4914-87f0-462034ab9518"
   },
   "outputs": [
    {
     "data": {
      "text/html": [
       "<div>\n",
       "<style scoped>\n",
       "    .dataframe tbody tr th:only-of-type {\n",
       "        vertical-align: middle;\n",
       "    }\n",
       "\n",
       "    .dataframe tbody tr th {\n",
       "        vertical-align: top;\n",
       "    }\n",
       "\n",
       "    .dataframe thead th {\n",
       "        text-align: right;\n",
       "    }\n",
       "</style>\n",
       "<table border=\"1\" class=\"dataframe\">\n",
       "  <thead>\n",
       "    <tr style=\"text-align: right;\">\n",
       "      <th></th>\n",
       "      <th>Código DANE de Municipio</th>\n",
       "      <th>Año</th>\n",
       "      <th>Mes</th>\n",
       "      <th>cruce</th>\n",
       "      <th>Victconf_Desplazamiento forzado</th>\n",
       "      <th>Cant_acc_subversivas</th>\n",
       "      <th>Cant_acc_terroristas</th>\n",
       "      <th>Cant_atenta_pte_vias</th>\n",
       "      <th>Cant_delito_med_ambiente</th>\n",
       "      <th>Cant_delito_sexual</th>\n",
       "      <th>...</th>\n",
       "      <th>Victconf_Delitointegridadsexual</th>\n",
       "      <th>Victconf_Desaparición forzada</th>\n",
       "      <th>Victconf_Homicidio</th>\n",
       "      <th>Victconf_LesionPersonalFisica</th>\n",
       "      <th>Victconf_LesionPersonalPsicolog</th>\n",
       "      <th>Victconf_MinasAntipers_explos</th>\n",
       "      <th>Victconf_PerdidadeBienes</th>\n",
       "      <th>Victconf_Secuestro</th>\n",
       "      <th>Victconf_Tortura</th>\n",
       "      <th>Victconf_Vinculacde Niños NiñasyAdoles</th>\n",
       "    </tr>\n",
       "  </thead>\n",
       "  <tbody>\n",
       "    <tr>\n",
       "      <th>count</th>\n",
       "      <td>466.000000</td>\n",
       "      <td>466.000000</td>\n",
       "      <td>466.000000</td>\n",
       "      <td>4.660000e+02</td>\n",
       "      <td>466.000000</td>\n",
       "      <td>466.000000</td>\n",
       "      <td>466.000000</td>\n",
       "      <td>466.000000</td>\n",
       "      <td>466.000000</td>\n",
       "      <td>466.000000</td>\n",
       "      <td>...</td>\n",
       "      <td>466.000000</td>\n",
       "      <td>466.000000</td>\n",
       "      <td>466.000000</td>\n",
       "      <td>466.000000</td>\n",
       "      <td>466.000000</td>\n",
       "      <td>466.000000</td>\n",
       "      <td>466.000000</td>\n",
       "      <td>466.000000</td>\n",
       "      <td>466.000000</td>\n",
       "      <td>466.000000</td>\n",
       "    </tr>\n",
       "    <tr>\n",
       "      <th>mean</th>\n",
       "      <td>64472.000000</td>\n",
       "      <td>2012.214592</td>\n",
       "      <td>6.424893</td>\n",
       "      <td>2.064217e+10</td>\n",
       "      <td>742.562232</td>\n",
       "      <td>0.098712</td>\n",
       "      <td>0.781116</td>\n",
       "      <td>0.124464</td>\n",
       "      <td>1.214592</td>\n",
       "      <td>4.600858</td>\n",
       "      <td>...</td>\n",
       "      <td>1.772532</td>\n",
       "      <td>3.716738</td>\n",
       "      <td>18.096567</td>\n",
       "      <td>0.538627</td>\n",
       "      <td>0.253219</td>\n",
       "      <td>0.165236</td>\n",
       "      <td>7.954936</td>\n",
       "      <td>0.362661</td>\n",
       "      <td>0.083691</td>\n",
       "      <td>0.227468</td>\n",
       "    </tr>\n",
       "    <tr>\n",
       "      <th>std</th>\n",
       "      <td>11649.506183</td>\n",
       "      <td>5.614601</td>\n",
       "      <td>3.462199</td>\n",
       "      <td>2.564621e+10</td>\n",
       "      <td>836.916047</td>\n",
       "      <td>0.380885</td>\n",
       "      <td>2.035002</td>\n",
       "      <td>0.623520</td>\n",
       "      <td>1.972140</td>\n",
       "      <td>4.371403</td>\n",
       "      <td>...</td>\n",
       "      <td>2.116951</td>\n",
       "      <td>5.322828</td>\n",
       "      <td>18.227750</td>\n",
       "      <td>0.976944</td>\n",
       "      <td>1.221774</td>\n",
       "      <td>0.678830</td>\n",
       "      <td>22.115827</td>\n",
       "      <td>0.741562</td>\n",
       "      <td>0.306686</td>\n",
       "      <td>0.575276</td>\n",
       "    </tr>\n",
       "    <tr>\n",
       "      <th>min</th>\n",
       "      <td>52835.000000</td>\n",
       "      <td>2003.000000</td>\n",
       "      <td>1.000000</td>\n",
       "      <td>5.283520e+09</td>\n",
       "      <td>43.000000</td>\n",
       "      <td>0.000000</td>\n",
       "      <td>0.000000</td>\n",
       "      <td>0.000000</td>\n",
       "      <td>0.000000</td>\n",
       "      <td>0.000000</td>\n",
       "      <td>...</td>\n",
       "      <td>0.000000</td>\n",
       "      <td>0.000000</td>\n",
       "      <td>0.000000</td>\n",
       "      <td>0.000000</td>\n",
       "      <td>0.000000</td>\n",
       "      <td>0.000000</td>\n",
       "      <td>0.000000</td>\n",
       "      <td>0.000000</td>\n",
       "      <td>0.000000</td>\n",
       "      <td>0.000000</td>\n",
       "    </tr>\n",
       "    <tr>\n",
       "      <th>25%</th>\n",
       "      <td>52835.000000</td>\n",
       "      <td>2007.000000</td>\n",
       "      <td>3.000000</td>\n",
       "      <td>5.283520e+09</td>\n",
       "      <td>247.000000</td>\n",
       "      <td>0.000000</td>\n",
       "      <td>0.000000</td>\n",
       "      <td>0.000000</td>\n",
       "      <td>0.000000</td>\n",
       "      <td>1.000000</td>\n",
       "      <td>...</td>\n",
       "      <td>0.000000</td>\n",
       "      <td>0.000000</td>\n",
       "      <td>3.000000</td>\n",
       "      <td>0.000000</td>\n",
       "      <td>0.000000</td>\n",
       "      <td>0.000000</td>\n",
       "      <td>0.000000</td>\n",
       "      <td>0.000000</td>\n",
       "      <td>0.000000</td>\n",
       "      <td>0.000000</td>\n",
       "    </tr>\n",
       "    <tr>\n",
       "      <th>50%</th>\n",
       "      <td>64472.000000</td>\n",
       "      <td>2012.000000</td>\n",
       "      <td>6.000000</td>\n",
       "      <td>7.610920e+09</td>\n",
       "      <td>513.000000</td>\n",
       "      <td>0.000000</td>\n",
       "      <td>0.000000</td>\n",
       "      <td>0.000000</td>\n",
       "      <td>0.000000</td>\n",
       "      <td>3.000000</td>\n",
       "      <td>...</td>\n",
       "      <td>1.000000</td>\n",
       "      <td>1.000000</td>\n",
       "      <td>14.000000</td>\n",
       "      <td>0.000000</td>\n",
       "      <td>0.000000</td>\n",
       "      <td>0.000000</td>\n",
       "      <td>1.000000</td>\n",
       "      <td>0.000000</td>\n",
       "      <td>0.000000</td>\n",
       "      <td>0.000000</td>\n",
       "    </tr>\n",
       "    <tr>\n",
       "      <th>75%</th>\n",
       "      <td>76109.000000</td>\n",
       "      <td>2017.000000</td>\n",
       "      <td>9.000000</td>\n",
       "      <td>7.610920e+09</td>\n",
       "      <td>962.500000</td>\n",
       "      <td>0.000000</td>\n",
       "      <td>1.000000</td>\n",
       "      <td>0.000000</td>\n",
       "      <td>2.000000</td>\n",
       "      <td>8.000000</td>\n",
       "      <td>...</td>\n",
       "      <td>2.000000</td>\n",
       "      <td>6.000000</td>\n",
       "      <td>28.000000</td>\n",
       "      <td>1.000000</td>\n",
       "      <td>0.000000</td>\n",
       "      <td>0.000000</td>\n",
       "      <td>4.000000</td>\n",
       "      <td>1.000000</td>\n",
       "      <td>0.000000</td>\n",
       "      <td>0.000000</td>\n",
       "    </tr>\n",
       "    <tr>\n",
       "      <th>max</th>\n",
       "      <td>76109.000000</td>\n",
       "      <td>2022.000000</td>\n",
       "      <td>12.000000</td>\n",
       "      <td>7.610920e+10</td>\n",
       "      <td>9993.000000</td>\n",
       "      <td>4.000000</td>\n",
       "      <td>19.000000</td>\n",
       "      <td>8.000000</td>\n",
       "      <td>13.000000</td>\n",
       "      <td>21.000000</td>\n",
       "      <td>...</td>\n",
       "      <td>12.000000</td>\n",
       "      <td>32.000000</td>\n",
       "      <td>108.000000</td>\n",
       "      <td>10.000000</td>\n",
       "      <td>22.000000</td>\n",
       "      <td>9.000000</td>\n",
       "      <td>284.000000</td>\n",
       "      <td>5.000000</td>\n",
       "      <td>2.000000</td>\n",
       "      <td>4.000000</td>\n",
       "    </tr>\n",
       "  </tbody>\n",
       "</table>\n",
       "<p>8 rows × 30 columns</p>\n",
       "</div>"
      ],
      "text/plain": [
       "       Código DANE de Municipio          Año         Mes         cruce  \\\n",
       "count                466.000000   466.000000  466.000000  4.660000e+02   \n",
       "mean               64472.000000  2012.214592    6.424893  2.064217e+10   \n",
       "std                11649.506183     5.614601    3.462199  2.564621e+10   \n",
       "min                52835.000000  2003.000000    1.000000  5.283520e+09   \n",
       "25%                52835.000000  2007.000000    3.000000  5.283520e+09   \n",
       "50%                64472.000000  2012.000000    6.000000  7.610920e+09   \n",
       "75%                76109.000000  2017.000000    9.000000  7.610920e+09   \n",
       "max                76109.000000  2022.000000   12.000000  7.610920e+10   \n",
       "\n",
       "       Victconf_Desplazamiento forzado  Cant_acc_subversivas  \\\n",
       "count                       466.000000            466.000000   \n",
       "mean                        742.562232              0.098712   \n",
       "std                         836.916047              0.380885   \n",
       "min                          43.000000              0.000000   \n",
       "25%                         247.000000              0.000000   \n",
       "50%                         513.000000              0.000000   \n",
       "75%                         962.500000              0.000000   \n",
       "max                        9993.000000              4.000000   \n",
       "\n",
       "       Cant_acc_terroristas  Cant_atenta_pte_vias  Cant_delito_med_ambiente  \\\n",
       "count            466.000000            466.000000                466.000000   \n",
       "mean               0.781116              0.124464                  1.214592   \n",
       "std                2.035002              0.623520                  1.972140   \n",
       "min                0.000000              0.000000                  0.000000   \n",
       "25%                0.000000              0.000000                  0.000000   \n",
       "50%                0.000000              0.000000                  0.000000   \n",
       "75%                1.000000              0.000000                  2.000000   \n",
       "max               19.000000              8.000000                 13.000000   \n",
       "\n",
       "       Cant_delito_sexual  ...  Victconf_Delitointegridadsexual  \\\n",
       "count          466.000000  ...                       466.000000   \n",
       "mean             4.600858  ...                         1.772532   \n",
       "std              4.371403  ...                         2.116951   \n",
       "min              0.000000  ...                         0.000000   \n",
       "25%              1.000000  ...                         0.000000   \n",
       "50%              3.000000  ...                         1.000000   \n",
       "75%              8.000000  ...                         2.000000   \n",
       "max             21.000000  ...                        12.000000   \n",
       "\n",
       "       Victconf_Desaparición forzada  Victconf_Homicidio  \\\n",
       "count                     466.000000          466.000000   \n",
       "mean                        3.716738           18.096567   \n",
       "std                         5.322828           18.227750   \n",
       "min                         0.000000            0.000000   \n",
       "25%                         0.000000            3.000000   \n",
       "50%                         1.000000           14.000000   \n",
       "75%                         6.000000           28.000000   \n",
       "max                        32.000000          108.000000   \n",
       "\n",
       "       Victconf_LesionPersonalFisica  Victconf_LesionPersonalPsicolog  \\\n",
       "count                     466.000000                       466.000000   \n",
       "mean                        0.538627                         0.253219   \n",
       "std                         0.976944                         1.221774   \n",
       "min                         0.000000                         0.000000   \n",
       "25%                         0.000000                         0.000000   \n",
       "50%                         0.000000                         0.000000   \n",
       "75%                         1.000000                         0.000000   \n",
       "max                        10.000000                        22.000000   \n",
       "\n",
       "       Victconf_MinasAntipers_explos  Victconf_PerdidadeBienes  \\\n",
       "count                     466.000000                466.000000   \n",
       "mean                        0.165236                  7.954936   \n",
       "std                         0.678830                 22.115827   \n",
       "min                         0.000000                  0.000000   \n",
       "25%                         0.000000                  0.000000   \n",
       "50%                         0.000000                  1.000000   \n",
       "75%                         0.000000                  4.000000   \n",
       "max                         9.000000                284.000000   \n",
       "\n",
       "       Victconf_Secuestro  Victconf_Tortura  \\\n",
       "count          466.000000        466.000000   \n",
       "mean             0.362661          0.083691   \n",
       "std              0.741562          0.306686   \n",
       "min              0.000000          0.000000   \n",
       "25%              0.000000          0.000000   \n",
       "50%              0.000000          0.000000   \n",
       "75%              1.000000          0.000000   \n",
       "max              5.000000          2.000000   \n",
       "\n",
       "       Victconf_Vinculacde Niños NiñasyAdoles  \n",
       "count                              466.000000  \n",
       "mean                                 0.227468  \n",
       "std                                  0.575276  \n",
       "min                                  0.000000  \n",
       "25%                                  0.000000  \n",
       "50%                                  0.000000  \n",
       "75%                                  0.000000  \n",
       "max                                  4.000000  \n",
       "\n",
       "[8 rows x 30 columns]"
      ]
     },
     "execution_count": 9,
     "metadata": {},
     "output_type": "execute_result"
    }
   ],
   "source": [
    "df.describe()"
   ]
  },
  {
   "cell_type": "code",
   "execution_count": 10,
   "id": "5fd2be88",
   "metadata": {
    "colab": {
     "base_uri": "https://localhost:8080/"
    },
    "executionInfo": {
     "elapsed": 6,
     "status": "ok",
     "timestamp": 1665078997789,
     "user": {
      "displayName": "sandra tamayo",
      "userId": "18092430420470936659"
     },
     "user_tz": 300
    },
    "id": "3fd51a4e",
    "outputId": "38611ddf-10aa-4fd5-8b76-da25cbb72f16"
   },
   "outputs": [
    {
     "data": {
      "text/plain": [
       "52835    233\n",
       "76109    233\n",
       "Name: Código DANE de Municipio, dtype: int64"
      ]
     },
     "execution_count": 10,
     "metadata": {},
     "output_type": "execute_result"
    }
   ],
   "source": [
    "df['Código DANE de Municipio'].value_counts()"
   ]
  },
  {
   "cell_type": "code",
   "execution_count": 19,
   "id": "210868dd",
   "metadata": {
    "executionInfo": {
     "elapsed": 254,
     "status": "ok",
     "timestamp": 1665079072957,
     "user": {
      "displayName": "sandra tamayo",
      "userId": "18092430420470936659"
     },
     "user_tz": 300
    },
    "id": "8c82522c"
   },
   "outputs": [],
   "source": [
    "train, test = train_test_split(df, test_size = 0.3, random_state = 42,stratify = df['Código DANE de Municipio'])"
   ]
  },
  {
   "cell_type": "code",
   "execution_count": 18,
   "id": "2bd775ef",
   "metadata": {
    "colab": {
     "base_uri": "https://localhost:8080/"
    },
    "executionInfo": {
     "elapsed": 6,
     "status": "ok",
     "timestamp": 1665079074507,
     "user": {
      "displayName": "sandra tamayo",
      "userId": "18092430420470936659"
     },
     "user_tz": 300
    },
    "id": "190c8e74",
    "outputId": "6042c040-abef-4311-e45d-0402af1df0b7"
   },
   "outputs": [
    {
     "data": {
      "text/plain": [
       "52835    0.5\n",
       "76109    0.5\n",
       "Name: Código DANE de Municipio, dtype: float64"
      ]
     },
     "execution_count": 18,
     "metadata": {},
     "output_type": "execute_result"
    }
   ],
   "source": [
    "train['Código DANE de Municipio'].value_counts()/train['Código DANE de Municipio'].count()"
   ]
  },
  {
   "cell_type": "code",
   "execution_count": 17,
   "id": "08e08c95",
   "metadata": {
    "colab": {
     "base_uri": "https://localhost:8080/"
    },
    "executionInfo": {
     "elapsed": 276,
     "status": "ok",
     "timestamp": 1665079078994,
     "user": {
      "displayName": "sandra tamayo",
      "userId": "18092430420470936659"
     },
     "user_tz": 300
    },
    "id": "736f8f4c",
    "outputId": "39114961-b4f2-431f-f96e-f8f7089286b0"
   },
   "outputs": [
    {
     "data": {
      "text/plain": [
       "76109    0.5\n",
       "52835    0.5\n",
       "Name: Código DANE de Municipio, dtype: float64"
      ]
     },
     "execution_count": 17,
     "metadata": {},
     "output_type": "execute_result"
    }
   ],
   "source": [
    "test['Código DANE de Municipio'].value_counts()/test['Código DANE de Municipio'].count()"
   ]
  },
  {
   "cell_type": "code",
   "execution_count": null,
   "id": "f2487eed",
   "metadata": {
    "id": "176b6eab"
   },
   "outputs": [],
   "source": [
    "#train.to_csv('s3://creditdata2080/Datos/train/train.csv', index = False)"
   ]
  },
  {
   "cell_type": "code",
   "execution_count": null,
   "id": "2405a5a3",
   "metadata": {
    "id": "46d22f7a"
   },
   "outputs": [],
   "source": [
    "#test.to_csv('s3://creditdata2080/Datos/test/train.csv',index = False)"
   ]
  },
  {
   "cell_type": "code",
   "execution_count": 14,
   "id": "6d99bf9e",
   "metadata": {
    "colab": {
     "base_uri": "https://localhost:8080/"
    },
    "executionInfo": {
     "elapsed": 264,
     "status": "ok",
     "timestamp": 1665079090279,
     "user": {
      "displayName": "sandra tamayo",
      "userId": "18092430420470936659"
     },
     "user_tz": 300
    },
    "id": "5e63bcb1",
    "outputId": "b2ed9726-14f1-4b7a-b345-849618e4df2d"
   },
   "outputs": [
    {
     "data": {
      "text/plain": [
       "Código DANE de Municipio                  0\n",
       "Año                                       0\n",
       "Mes                                       0\n",
       "cruce                                     0\n",
       "Victconf_Desplazamiento forzado           0\n",
       "Cant_acc_subversivas                      0\n",
       "Cant_acc_terroristas                      0\n",
       "Cant_atenta_pte_vias                      0\n",
       "Cant_delito_med_ambiente                  0\n",
       "Cant_delito_sexual                        0\n",
       "Cant_extorsion                            0\n",
       "Cant_homicidios                           0\n",
       "Cant_homicid_colect                       0\n",
       "Cant_lesiones_personales                  0\n",
       "Cant_pirateria_terrestre                  0\n",
       "Cant_secuestros                           0\n",
       "Victconf_AbandoDespojForzTierras          0\n",
       "Victconf_Actoterrorista                   0\n",
       "Victconf_Amenaza                          0\n",
       "Victconf_Confinamiento                    0\n",
       "Victconf_Delitointegridadsexual           0\n",
       "Victconf_Desaparición forzada             0\n",
       "Victconf_Homicidio                        0\n",
       "Victconf_LesionPersonalFisica             0\n",
       "Victconf_LesionPersonalPsicolog           0\n",
       "Victconf_MinasAntipers_explos             0\n",
       "Victconf_PerdidadeBienes                  0\n",
       "Victconf_Secuestro                        0\n",
       "Victconf_Tortura                          0\n",
       "Victconf_Vinculacde Niños NiñasyAdoles    0\n",
       "dtype: int64"
      ]
     },
     "execution_count": 14,
     "metadata": {},
     "output_type": "execute_result"
    }
   ],
   "source": [
    "#Verificar la cantidad de valores nulos en el dataset\n",
    "train.isna().sum()"
   ]
  },
  {
   "cell_type": "code",
   "execution_count": 15,
   "id": "f894e8bd",
   "metadata": {
    "colab": {
     "base_uri": "https://localhost:8080/"
    },
    "executionInfo": {
     "elapsed": 353,
     "status": "ok",
     "timestamp": 1665079383452,
     "user": {
      "displayName": "sandra tamayo",
      "userId": "18092430420470936659"
     },
     "user_tz": 300
    },
    "id": "78ltVf2Sdta3",
    "outputId": "2f038b61-185e-46ed-c744-ffefc9bdc2bb"
   },
   "outputs": [
    {
     "data": {
      "text/plain": [
       "Index(['Código DANE de Municipio', 'Año', 'Mes', 'cruce',\n",
       "       'Victconf_Desplazamiento forzado', 'Cant_acc_subversivas',\n",
       "       'Cant_acc_terroristas', 'Cant_atenta_pte_vias',\n",
       "       'Cant_delito_med_ambiente', 'Cant_delito_sexual', 'Cant_extorsion',\n",
       "       'Cant_homicidios', 'Cant_homicid_colect', 'Cant_lesiones_personales',\n",
       "       'Cant_pirateria_terrestre', 'Cant_secuestros',\n",
       "       'Victconf_AbandoDespojForzTierras', 'Victconf_Actoterrorista',\n",
       "       'Victconf_Amenaza', 'Victconf_Confinamiento',\n",
       "       'Victconf_Delitointegridadsexual', 'Victconf_Desaparición forzada',\n",
       "       'Victconf_Homicidio', 'Victconf_LesionPersonalFisica',\n",
       "       'Victconf_LesionPersonalPsicolog', 'Victconf_MinasAntipers_explos',\n",
       "       'Victconf_PerdidadeBienes', 'Victconf_Secuestro', 'Victconf_Tortura',\n",
       "       'Victconf_Vinculacde Niños NiñasyAdoles'],\n",
       "      dtype='object')"
      ]
     },
     "execution_count": 15,
     "metadata": {},
     "output_type": "execute_result"
    }
   ],
   "source": [
    "train.columns.unique()"
   ]
  },
  {
   "cell_type": "code",
   "execution_count": 16,
   "id": "efa22bf0",
   "metadata": {
    "id": "6b1e4718",
    "outputId": "daab6529-580d-43f9-f2e9-3be299d3e840"
   },
   "outputs": [
    {
     "data": {
      "text/html": [
       "<div>\n",
       "<style scoped>\n",
       "    .dataframe tbody tr th:only-of-type {\n",
       "        vertical-align: middle;\n",
       "    }\n",
       "\n",
       "    .dataframe tbody tr th {\n",
       "        vertical-align: top;\n",
       "    }\n",
       "\n",
       "    .dataframe thead th {\n",
       "        text-align: right;\n",
       "    }\n",
       "</style>\n",
       "<table border=\"1\" class=\"dataframe\">\n",
       "  <thead>\n",
       "    <tr style=\"text-align: right;\">\n",
       "      <th></th>\n",
       "      <th>Código DANE de Municipio</th>\n",
       "      <th>cantidad de registros</th>\n",
       "    </tr>\n",
       "  </thead>\n",
       "  <tbody>\n",
       "    <tr>\n",
       "      <th>0</th>\n",
       "      <td>52835</td>\n",
       "      <td>163</td>\n",
       "    </tr>\n",
       "    <tr>\n",
       "      <th>1</th>\n",
       "      <td>76109</td>\n",
       "      <td>163</td>\n",
       "    </tr>\n",
       "  </tbody>\n",
       "</table>\n",
       "</div>"
      ],
      "text/plain": [
       "   Código DANE de Municipio  cantidad de registros\n",
       "0                     52835                    163\n",
       "1                     76109                    163"
      ]
     },
     "execution_count": 16,
     "metadata": {},
     "output_type": "execute_result"
    }
   ],
   "source": [
    "#Cantidad de reuniones por grupo\n",
    "train.groupby(['Código DANE de Municipio']).size().reset_index(name='cantidad de registros')"
   ]
  },
  {
   "cell_type": "code",
   "execution_count": 20,
   "id": "77e2f4c5",
   "metadata": {
    "id": "24e6d412",
    "outputId": "7a627ad8-4529-43e4-ca1d-874cd3e40271"
   },
   "outputs": [
    {
     "data": {
      "text/html": [
       "<div>\n",
       "<style scoped>\n",
       "    .dataframe tbody tr th:only-of-type {\n",
       "        vertical-align: middle;\n",
       "    }\n",
       "\n",
       "    .dataframe tbody tr th {\n",
       "        vertical-align: top;\n",
       "    }\n",
       "\n",
       "    .dataframe thead th {\n",
       "        text-align: right;\n",
       "    }\n",
       "</style>\n",
       "<table border=\"1\" class=\"dataframe\">\n",
       "  <thead>\n",
       "    <tr style=\"text-align: right;\">\n",
       "      <th></th>\n",
       "      <th>Código DANE de Municipio</th>\n",
       "      <th>Victconf_Desplazamiento forzado</th>\n",
       "      <th>cantidad de registros</th>\n",
       "    </tr>\n",
       "  </thead>\n",
       "  <tbody>\n",
       "    <tr>\n",
       "      <th>0</th>\n",
       "      <td>52835</td>\n",
       "      <td>62</td>\n",
       "      <td>1</td>\n",
       "    </tr>\n",
       "    <tr>\n",
       "      <th>1</th>\n",
       "      <td>52835</td>\n",
       "      <td>64</td>\n",
       "      <td>1</td>\n",
       "    </tr>\n",
       "    <tr>\n",
       "      <th>2</th>\n",
       "      <td>52835</td>\n",
       "      <td>73</td>\n",
       "      <td>1</td>\n",
       "    </tr>\n",
       "    <tr>\n",
       "      <th>3</th>\n",
       "      <td>52835</td>\n",
       "      <td>74</td>\n",
       "      <td>2</td>\n",
       "    </tr>\n",
       "    <tr>\n",
       "      <th>4</th>\n",
       "      <td>52835</td>\n",
       "      <td>80</td>\n",
       "      <td>1</td>\n",
       "    </tr>\n",
       "    <tr>\n",
       "      <th>...</th>\n",
       "      <td>...</td>\n",
       "      <td>...</td>\n",
       "      <td>...</td>\n",
       "    </tr>\n",
       "    <tr>\n",
       "      <th>295</th>\n",
       "      <td>76109</td>\n",
       "      <td>3524</td>\n",
       "      <td>1</td>\n",
       "    </tr>\n",
       "    <tr>\n",
       "      <th>296</th>\n",
       "      <td>76109</td>\n",
       "      <td>3806</td>\n",
       "      <td>1</td>\n",
       "    </tr>\n",
       "    <tr>\n",
       "      <th>297</th>\n",
       "      <td>76109</td>\n",
       "      <td>4162</td>\n",
       "      <td>1</td>\n",
       "    </tr>\n",
       "    <tr>\n",
       "      <th>298</th>\n",
       "      <td>76109</td>\n",
       "      <td>5738</td>\n",
       "      <td>1</td>\n",
       "    </tr>\n",
       "    <tr>\n",
       "      <th>299</th>\n",
       "      <td>76109</td>\n",
       "      <td>5862</td>\n",
       "      <td>1</td>\n",
       "    </tr>\n",
       "  </tbody>\n",
       "</table>\n",
       "<p>300 rows × 3 columns</p>\n",
       "</div>"
      ],
      "text/plain": [
       "     Código DANE de Municipio  Victconf_Desplazamiento forzado  \\\n",
       "0                       52835                               62   \n",
       "1                       52835                               64   \n",
       "2                       52835                               73   \n",
       "3                       52835                               74   \n",
       "4                       52835                               80   \n",
       "..                        ...                              ...   \n",
       "295                     76109                             3524   \n",
       "296                     76109                             3806   \n",
       "297                     76109                             4162   \n",
       "298                     76109                             5738   \n",
       "299                     76109                             5862   \n",
       "\n",
       "     cantidad de registros  \n",
       "0                        1  \n",
       "1                        1  \n",
       "2                        1  \n",
       "3                        2  \n",
       "4                        1  \n",
       "..                     ...  \n",
       "295                      1  \n",
       "296                      1  \n",
       "297                      1  \n",
       "298                      1  \n",
       "299                      1  \n",
       "\n",
       "[300 rows x 3 columns]"
      ]
     },
     "execution_count": 20,
     "metadata": {},
     "output_type": "execute_result"
    }
   ],
   "source": [
    "#Cantidad de reuniones por grupo\n",
    "train.groupby(['Código DANE de Municipio','Victconf_Desplazamiento forzado']).size().reset_index(name='cantidad de registros')"
   ]
  },
  {
   "cell_type": "code",
   "execution_count": null,
   "id": "b6207f39",
   "metadata": {
    "id": "501b04e6",
    "outputId": "cfad6f03-21d6-4f3f-98da-534488f6a75f"
   },
   "outputs": [],
   "source": [
    "pd.crosstab(index=train['Código DANE de Municipio'], columns=train['Victconf_Desplazamiento forzado'], margins =True)"
   ]
  },
  {
   "cell_type": "code",
   "execution_count": null,
   "id": "97baae36",
   "metadata": {
    "id": "1929fbe7"
   },
   "outputs": [],
   "source": [
    "tabla_dpto=pd.crosstab(index=train['Código DANE de Municipio'], columns=train['Victconf_Desplazamiento forzado'], margins =True)"
   ]
  },
  {
   "cell_type": "code",
   "execution_count": null,
   "id": "6962495e",
   "metadata": {
    "id": "2a617a2f",
    "outputId": "72df7253-ecde-4e4b-8938-8c2a637857b1"
   },
   "outputs": [],
   "source": [
    "tabla_dpto"
   ]
  },
  {
   "cell_type": "code",
   "execution_count": null,
   "id": "8edc69b6",
   "metadata": {
    "id": "5c50ba86"
   },
   "outputs": [],
   "source": [
    "tabla_sex['probabilidad'] = tabla_sex.iloc[:,1]/tabla_sex.iloc[:,2]"
   ]
  },
  {
   "cell_type": "code",
   "execution_count": null,
   "id": "5a257329",
   "metadata": {
    "id": "d7b37595",
    "outputId": "44c76b80-5d22-4148-e1b8-e3af72d021bb"
   },
   "outputs": [
    {
     "data": {
      "text/html": [
       "<div>\n",
       "<style scoped>\n",
       "    .dataframe tbody tr th:only-of-type {\n",
       "        vertical-align: middle;\n",
       "    }\n",
       "\n",
       "    .dataframe tbody tr th {\n",
       "        vertical-align: top;\n",
       "    }\n",
       "\n",
       "    .dataframe thead th {\n",
       "        text-align: right;\n",
       "    }\n",
       "</style>\n",
       "<table border=\"1\" class=\"dataframe\">\n",
       "  <thead>\n",
       "    <tr style=\"text-align: right;\">\n",
       "      <th>Risk</th>\n",
       "      <th>bad</th>\n",
       "      <th>good</th>\n",
       "      <th>All</th>\n",
       "      <th>probabilidad</th>\n",
       "    </tr>\n",
       "    <tr>\n",
       "      <th>Sex</th>\n",
       "      <th></th>\n",
       "      <th></th>\n",
       "      <th></th>\n",
       "      <th></th>\n",
       "    </tr>\n",
       "  </thead>\n",
       "  <tbody>\n",
       "    <tr>\n",
       "      <th>female</th>\n",
       "      <td>76</td>\n",
       "      <td>138</td>\n",
       "      <td>214</td>\n",
       "      <td>0.64486</td>\n",
       "    </tr>\n",
       "    <tr>\n",
       "      <th>male</th>\n",
       "      <td>134</td>\n",
       "      <td>352</td>\n",
       "      <td>486</td>\n",
       "      <td>0.72428</td>\n",
       "    </tr>\n",
       "    <tr>\n",
       "      <th>All</th>\n",
       "      <td>210</td>\n",
       "      <td>490</td>\n",
       "      <td>700</td>\n",
       "      <td>0.70000</td>\n",
       "    </tr>\n",
       "  </tbody>\n",
       "</table>\n",
       "</div>"
      ],
      "text/plain": [
       "Risk    bad  good  All  probabilidad\n",
       "Sex                                 \n",
       "female   76   138  214       0.64486\n",
       "male    134   352  486       0.72428\n",
       "All     210   490  700       0.70000"
      ]
     },
     "execution_count": 136,
     "metadata": {},
     "output_type": "execute_result"
    }
   ],
   "source": [
    "tabla_sex"
   ]
  },
  {
   "cell_type": "markdown",
   "id": "3c672e86",
   "metadata": {
    "id": "8e49cb8a"
   },
   "source": [
    "## Preprocesamiento"
   ]
  },
  {
   "cell_type": "markdown",
   "id": "e8a7b9b7",
   "metadata": {
    "id": "f62209de"
   },
   "source": [
    "## Imputación"
   ]
  },
  {
   "cell_type": "code",
   "execution_count": 15,
   "id": "423778b1",
   "metadata": {
    "executionInfo": {
     "elapsed": 310,
     "status": "ok",
     "timestamp": 1665079120275,
     "user": {
      "displayName": "sandra tamayo",
      "userId": "18092430420470936659"
     },
     "user_tz": 300
    },
    "id": "a8135326"
   },
   "outputs": [],
   "source": [
    "from sklearn.impute import SimpleImputer\n",
    "import numpy as np"
   ]
  },
  {
   "cell_type": "code",
   "execution_count": 21,
   "id": "2726e5c9",
   "metadata": {
    "executionInfo": {
     "elapsed": 285,
     "status": "ok",
     "timestamp": 1665079403818,
     "user": {
      "displayName": "sandra tamayo",
      "userId": "18092430420470936659"
     },
     "user_tz": 300
    },
    "id": "2f5cf5f9"
   },
   "outputs": [],
   "source": [
    "X_train = train[['Victconf_Desplazamiento forzado', 'Cant_acc_subversivas',\n",
    "       'Cant_acc_terroristas', 'Cant_atenta_pte_vias',\n",
    "       'Cant_delito_med_ambiente', 'Cant_delito_sexual', 'Cant_extorsion',\n",
    "       'Cant_homicidios', 'Cant_homicid_colect', 'Cant_lesiones_personales',\n",
    "       'Cant_pirateria_terrestre', 'Cant_secuestros',\n",
    "       'Victconf_AbandoDespojForzTierras', 'Victconf_Actoterrorista',\n",
    "       'Victconf_Amenaza', 'Victconf_Confinamiento',\n",
    "       'Victconf_Delitointegridadsexual', 'Victconf_Desaparición forzada',\n",
    "       'Victconf_Homicidio', 'Victconf_LesionPersonalFisica',\n",
    "       'Victconf_LesionPersonalPsicolog', 'Victconf_MinasAntipers_explos',\n",
    "       'Victconf_PerdidadeBienes', 'Victconf_Secuestro', 'Victconf_Tortura',\n",
    "       'Victconf_Vinculacde Niños NiñasyAdoles']]"
   ]
  },
  {
   "cell_type": "code",
   "execution_count": 22,
   "id": "1a114c03",
   "metadata": {
    "executionInfo": {
     "elapsed": 544,
     "status": "ok",
     "timestamp": 1665079407860,
     "user": {
      "displayName": "sandra tamayo",
      "userId": "18092430420470936659"
     },
     "user_tz": 300
    },
    "id": "4b0a387f"
   },
   "outputs": [],
   "source": [
    "imputer = SimpleImputer(strategy = 'mean')"
   ]
  },
  {
   "cell_type": "raw",
   "id": "a96e2d9b",
   "metadata": {
    "id": "551e8e91"
   },
   "source": [
    "imputer.fit(X_train)"
   ]
  },
  {
   "cell_type": "code",
   "execution_count": 23,
   "id": "3e56bb89",
   "metadata": {
    "colab": {
     "base_uri": "https://localhost:8080/",
     "height": 165
    },
    "executionInfo": {
     "elapsed": 293,
     "status": "error",
     "timestamp": 1665079410172,
     "user": {
      "displayName": "sandra tamayo",
      "userId": "18092430420470936659"
     },
     "user_tz": 300
    },
    "id": "2aed0fbc",
    "outputId": "1cb4e1cb-2c1e-437d-bbab-41db484f26a8"
   },
   "outputs": [
    {
     "ename": "AttributeError",
     "evalue": "ignored",
     "output_type": "error",
     "traceback": [
      "\u001b[0;31m---------------------------------------------------------------------------\u001b[0m",
      "\u001b[0;31mAttributeError\u001b[0m                            Traceback (most recent call last)",
      "\u001b[0;32m<ipython-input-23-4da2f2b65839>\u001b[0m in \u001b[0;36m<module>\u001b[0;34m\u001b[0m\n\u001b[0;32m----> 1\u001b[0;31m \u001b[0mimputer\u001b[0m\u001b[0;34m.\u001b[0m\u001b[0mstatistics_\u001b[0m\u001b[0;34m\u001b[0m\u001b[0;34m\u001b[0m\u001b[0m\n\u001b[0m",
      "\u001b[0;31mAttributeError\u001b[0m: 'SimpleImputer' object has no attribute 'statistics_'"
     ]
    }
   ],
   "source": [
    "imputer.statistics_"
   ]
  },
  {
   "cell_type": "code",
   "execution_count": 24,
   "id": "8c3a312a",
   "metadata": {
    "colab": {
     "base_uri": "https://localhost:8080/"
    },
    "executionInfo": {
     "elapsed": 325,
     "status": "ok",
     "timestamp": 1665079425920,
     "user": {
      "displayName": "sandra tamayo",
      "userId": "18092430420470936659"
     },
     "user_tz": 300
    },
    "id": "b9d801e2",
    "outputId": "2c5208bf-ad69-43d9-d6d7-b4b950322593"
   },
   "outputs": [
    {
     "data": {
      "text/plain": [
       "729.7269938650306"
      ]
     },
     "execution_count": 24,
     "metadata": {},
     "output_type": "execute_result"
    }
   ],
   "source": [
    "X_train['Victconf_Desplazamiento forzado'].mean()"
   ]
  },
  {
   "cell_type": "code",
   "execution_count": null,
   "id": "d16c4485",
   "metadata": {
    "id": "0811fe32"
   },
   "outputs": [],
   "source": [
    "imputer.transform([[24,100,np.nan], [np.nan,np.nan,12]])"
   ]
  },
  {
   "cell_type": "code",
   "execution_count": null,
   "id": "2be497cb",
   "metadata": {
    "id": "f506ecb1"
   },
   "outputs": [],
   "source": [
    "imputer.fit_transform(X_train)"
   ]
  },
  {
   "cell_type": "code",
   "execution_count": null,
   "id": "b58ca839",
   "metadata": {
    "id": "04f6d91c"
   },
   "outputs": [],
   "source": [
    "X_train = train[['Saving accounts', 'Checking account']]"
   ]
  },
  {
   "cell_type": "code",
   "execution_count": null,
   "id": "a2a81237",
   "metadata": {
    "id": "1dc952fb"
   },
   "outputs": [],
   "source": [
    "imputer = SimpleImputer(strategy = 'most_frequent')"
   ]
  },
  {
   "cell_type": "code",
   "execution_count": null,
   "id": "a78cc8cd",
   "metadata": {
    "id": "b517fdf1"
   },
   "outputs": [],
   "source": [
    "imputer.fit(X_train)"
   ]
  },
  {
   "cell_type": "code",
   "execution_count": null,
   "id": "0831053f",
   "metadata": {
    "id": "d74eb671"
   },
   "outputs": [],
   "source": [
    "imputer.statistics_"
   ]
  },
  {
   "cell_type": "code",
   "execution_count": null,
   "id": "95089a0f",
   "metadata": {
    "id": "63990977"
   },
   "outputs": [],
   "source": [
    "imputer.fit_transform(X_train)"
   ]
  },
  {
   "cell_type": "code",
   "execution_count": null,
   "id": "ecbc0be2",
   "metadata": {
    "id": "48928e6a"
   },
   "outputs": [],
   "source": [
    "from sklearn.impute import KNNImputer"
   ]
  },
  {
   "cell_type": "code",
   "execution_count": null,
   "id": "20ac1c21",
   "metadata": {
    "id": "92fda563"
   },
   "outputs": [],
   "source": [
    "imputer = KNNImputer(n_neighbors = 2)"
   ]
  },
  {
   "cell_type": "code",
   "execution_count": null,
   "id": "32293ffc",
   "metadata": {
    "id": "190205de"
   },
   "outputs": [],
   "source": [
    "df2 = pd.DataFrame([[40, 19, 3], [42,20,3.1], [44,21,np.nan], [45,23,4.1], [39,25, 5.0], [80,27,np.nan], [82,3.0,4.8]], columns=[\"Peso\", \"Edad\", \"nota\"])"
   ]
  },
  {
   "cell_type": "code",
   "execution_count": null,
   "id": "6216b6ce",
   "metadata": {
    "id": "4d6e5863"
   },
   "outputs": [],
   "source": [
    "df2"
   ]
  },
  {
   "cell_type": "code",
   "execution_count": null,
   "id": "eccdd770",
   "metadata": {
    "id": "84d436af"
   },
   "outputs": [],
   "source": [
    "result = imputer.fit_transform(df2)"
   ]
  },
  {
   "cell_type": "code",
   "execution_count": null,
   "id": "ce5c0513",
   "metadata": {
    "id": "4c937e27"
   },
   "outputs": [],
   "source": [
    "result"
   ]
  },
  {
   "cell_type": "markdown",
   "id": "39941aba",
   "metadata": {
    "id": "9534b103"
   },
   "source": [
    "## Escalada"
   ]
  },
  {
   "cell_type": "code",
   "execution_count": 16,
   "id": "ae1d7b14",
   "metadata": {
    "executionInfo": {
     "elapsed": 292,
     "status": "ok",
     "timestamp": 1665079302781,
     "user": {
      "displayName": "sandra tamayo",
      "userId": "18092430420470936659"
     },
     "user_tz": 300
    },
    "id": "147b7374"
   },
   "outputs": [],
   "source": [
    "from sklearn.preprocessing import StandardScaler, RobustScaler"
   ]
  },
  {
   "cell_type": "code",
   "execution_count": 17,
   "id": "743de3c1",
   "metadata": {
    "executionInfo": {
     "elapsed": 292,
     "status": "ok",
     "timestamp": 1665079305109,
     "user": {
      "displayName": "sandra tamayo",
      "userId": "18092430420470936659"
     },
     "user_tz": 300
    },
    "id": "8f3043b2"
   },
   "outputs": [],
   "source": [
    "scaler = StandardScaler()"
   ]
  },
  {
   "cell_type": "code",
   "execution_count": 31,
   "id": "6fb3e1ce",
   "metadata": {
    "colab": {
     "base_uri": "https://localhost:8080/"
    },
    "executionInfo": {
     "elapsed": 285,
     "status": "ok",
     "timestamp": 1665079784778,
     "user": {
      "displayName": "sandra tamayo",
      "userId": "18092430420470936659"
     },
     "user_tz": 300
    },
    "id": "3376050c",
    "outputId": "a5108195-cc81-46b4-ecfc-8f8b9bc1854a"
   },
   "outputs": [
    {
     "data": {
      "text/plain": [
       "StandardScaler()"
      ]
     },
     "execution_count": 31,
     "metadata": {},
     "output_type": "execute_result"
    }
   ],
   "source": [
    "scaler.fit(X_train[['Victconf_Desplazamiento forzado','Cant_acc_subversivas']])"
   ]
  },
  {
   "cell_type": "code",
   "execution_count": 32,
   "id": "8ce25ca5",
   "metadata": {
    "colab": {
     "base_uri": "https://localhost:8080/"
    },
    "executionInfo": {
     "elapsed": 7,
     "status": "ok",
     "timestamp": 1665079787134,
     "user": {
      "displayName": "sandra tamayo",
      "userId": "18092430420470936659"
     },
     "user_tz": 300
    },
    "id": "829a29db",
    "outputId": "ba7e8e32-26ca-45de-8ab7-b8963005e09a"
   },
   "outputs": [
    {
     "data": {
      "text/plain": [
       "array([7.29726994e+02, 1.07361963e-01])"
      ]
     },
     "execution_count": 32,
     "metadata": {},
     "output_type": "execute_result"
    }
   ],
   "source": [
    "scaler.mean_"
   ]
  },
  {
   "cell_type": "code",
   "execution_count": 33,
   "id": "4b084bdf",
   "metadata": {
    "colab": {
     "base_uri": "https://localhost:8080/"
    },
    "executionInfo": {
     "elapsed": 357,
     "status": "ok",
     "timestamp": 1665079789862,
     "user": {
      "displayName": "sandra tamayo",
      "userId": "18092430420470936659"
     },
     "user_tz": 300
    },
    "id": "08bcc237",
    "outputId": "fe5e5dc7-fcb1-4afd-e336-107571921a1f"
   },
   "outputs": [
    {
     "data": {
      "text/plain": [
       "array([7.65029449e+02, 4.11649127e-01])"
      ]
     },
     "execution_count": 33,
     "metadata": {},
     "output_type": "execute_result"
    }
   ],
   "source": [
    "scaler.var_**0.5"
   ]
  },
  {
   "cell_type": "code",
   "execution_count": 36,
   "id": "acf279b1",
   "metadata": {
    "colab": {
     "base_uri": "https://localhost:8080/"
    },
    "executionInfo": {
     "elapsed": 8,
     "status": "ok",
     "timestamp": 1665080146097,
     "user": {
      "displayName": "sandra tamayo",
      "userId": "18092430420470936659"
     },
     "user_tz": 300
    },
    "id": "bb1d2c75",
    "outputId": "2b0c186b-90c1-4689-b27d-ae7a13275c84"
   },
   "outputs": [
    {
     "data": {
      "text/plain": [
       "array([[-2.97073451e-02,  2.16844389e+00],\n",
       "       [-5.93084351e-01, -2.60809403e-01],\n",
       "       [-1.61728407e-01, -2.60809403e-01],\n",
       "       [ 5.99026622e-01, -2.60809403e-01],\n",
       "       [-4.06163442e-01, -2.60809403e-01],\n",
       "       [ 1.06235134e-01, -2.60809403e-01],\n",
       "       [ 5.06219737e-01, -2.60809403e-01],\n",
       "       [-1.34278483e-01, -2.60809403e-01],\n",
       "       [-3.34270784e-01, -2.60809403e-01],\n",
       "       [-7.76083842e-01, -2.60809403e-01],\n",
       "       [ 5.31055382e-01, -2.60809403e-01],\n",
       "       [ 5.57198167e-01,  2.16844389e+00],\n",
       "       [ 1.08139708e-02, -2.60809403e-01],\n",
       "       [-8.57126474e-01, -2.60809403e-01],\n",
       "       [-2.25742142e-03, -2.60809403e-01],\n",
       "       [-7.15358003e-02, -2.60809403e-01],\n",
       "       [-8.04840905e-01, -2.60809403e-01],\n",
       "       [-4.14006277e-01, -2.60809403e-01],\n",
       "       [-8.03533766e-01, -2.60809403e-01],\n",
       "       [ 9.36268542e-01, -2.60809403e-01],\n",
       "       [-5.63020149e-01, -2.60809403e-01],\n",
       "       [-3.93092049e-01, -2.60809403e-01],\n",
       "       [ 5.26424260e-02, -2.60809403e-01],\n",
       "       [ 6.17924006e-02, -2.60809403e-01],\n",
       "       [-8.98357494e-02, -2.60809403e-01],\n",
       "       [ 2.57863284e-01, -2.60809403e-01],\n",
       "       [-5.66941566e-01, -2.60809403e-01],\n",
       "       [ 1.34992197e-01, -2.60809403e-01],\n",
       "       [-7.08112602e-01, -2.60809403e-01],\n",
       "       [ 7.82026113e-01, -2.60809403e-01],\n",
       "       [-6.21841414e-01,  2.16844389e+00],\n",
       "       [ 5.67655280e-01, -2.60809403e-01],\n",
       "       [-4.45377618e-01, -2.60809403e-01],\n",
       "       [-8.34905107e-01,  2.16844389e+00],\n",
       "       [-8.58433613e-01, -2.60809403e-01],\n",
       "       [ 4.22562826e-01,  2.16844389e+00],\n",
       "       [-6.63669869e-01, -2.60809403e-01],\n",
       "       [ 7.53269050e-01, -2.60809403e-01],\n",
       "       [ 2.12576524e+00, -2.60809403e-01],\n",
       "       [ 8.52611631e-01, -2.60809403e-01],\n",
       "       [-4.49299036e-01, -2.60809403e-01],\n",
       "       [-5.76091541e-01, -2.60809403e-01],\n",
       "       [-4.27787374e-02, -2.60809403e-01],\n",
       "       [ 4.47995906e-02, -2.60809403e-01],\n",
       "       [-8.55819335e-01, -2.60809403e-01],\n",
       "       [-3.53877873e-01, -2.60809403e-01],\n",
       "       [ 1.51985007e-01, -2.60809403e-01],\n",
       "       [-7.78698121e-01, -2.60809403e-01],\n",
       "       [ 4.48645867e+00, -2.60809403e-01],\n",
       "       [ 1.17416788e+00, -2.60809403e-01],\n",
       "       [ 1.34801740e+00, -2.60809403e-01],\n",
       "       [ 2.39634305e+00, -2.60809403e-01],\n",
       "       [-5.14655997e-01, -2.60809403e-01],\n",
       "       [ 2.45124290e+00, -2.60809403e-01],\n",
       "       [ 2.56556145e-01,  2.16844389e+00],\n",
       "       [-7.72162424e-01, -2.60809403e-01],\n",
       "       [ 4.40862776e-01, -2.60809403e-01],\n",
       "       [ 3.08841714e-01,  9.45620379e+00],\n",
       "       [-7.09419742e-01, -2.60809403e-01],\n",
       "       [ 6.51312191e-01, -2.60809403e-01],\n",
       "       [-7.12034020e-01, -2.60809403e-01],\n",
       "       [-4.49299036e-01, -2.60809403e-01],\n",
       "       [-7.96998070e-01, -2.60809403e-01],\n",
       "       [-4.68906124e-01, -2.60809403e-01],\n",
       "       [-3.19892253e-01, -2.60809403e-01],\n",
       "       [ 1.62442121e-01, -2.60809403e-01],\n",
       "       [-6.79355540e-01, -2.60809403e-01],\n",
       "       [ 1.66434509e+00, -2.60809403e-01],\n",
       "       [ 1.38069588e+00,  2.16844389e+00],\n",
       "       [ 4.21255687e-01, -2.60809403e-01],\n",
       "       [-6.80662679e-01, -2.60809403e-01],\n",
       "       [-7.86540956e-01, -2.60809403e-01],\n",
       "       [-7.55169615e-01, -2.60809403e-01],\n",
       "       [-7.74776703e-01, -2.60809403e-01],\n",
       "       [ 2.57863284e-01, -2.60809403e-01],\n",
       "       [ 5.75498116e-01, -2.60809403e-01],\n",
       "       [-7.15955438e-01, -2.60809403e-01],\n",
       "       [ 1.34282493e-02, -2.60809403e-01],\n",
       "       [ 1.51140980e+00, -2.60809403e-01],\n",
       "       [ 5.55891027e-01, -2.60809403e-01],\n",
       "       [ 4.17334270e-01, -2.60809403e-01],\n",
       "       [-6.36219945e-01, -2.60809403e-01],\n",
       "       [-3.49359020e-02, -2.60809403e-01],\n",
       "       [ 3.43424769e-02, -2.60809403e-01],\n",
       "       [-5.65634427e-01, -2.60809403e-01],\n",
       "       [-7.47326779e-01, -2.60809403e-01],\n",
       "       [-7.85233817e-01, -2.60809403e-01],\n",
       "       [-1.43428458e-01, -2.60809403e-01],\n",
       "       [-3.44727898e-01, -2.60809403e-01],\n",
       "       [ 9.31637419e-02, -2.60809403e-01],\n",
       "       [-1.92502313e-02, -2.60809403e-01],\n",
       "       [-3.27735088e-01, -2.60809403e-01],\n",
       "       [ 8.99668643e-01, -2.60809403e-01],\n",
       "       [-5.00277466e-01, -2.60809403e-01],\n",
       "       [ 9.53261351e-01, -2.60809403e-01],\n",
       "       [-5.97005768e-01, -2.60809403e-01],\n",
       "       [-3.12049418e-01, -2.60809403e-01],\n",
       "       [-1.76106938e-01, -2.60809403e-01],\n",
       "       [-3.10742278e-01, -2.60809403e-01],\n",
       "       [-7.57783893e-01, -2.60809403e-01],\n",
       "       [-3.46035037e-01, -2.60809403e-01],\n",
       "       [-6.87198375e-01, -2.60809403e-01],\n",
       "       [-1.72185521e-01, -2.60809403e-01],\n",
       "       [-1.60421268e-01, -2.60809403e-01],\n",
       "       [-1.09442838e-01, -2.60809403e-01],\n",
       "       [ 1.32377919e-01, -2.60809403e-01],\n",
       "       [ 2.68320398e-01,  2.16844389e+00],\n",
       "       [-1.26435648e-01, -2.60809403e-01],\n",
       "       [ 9.96994381e-02, -2.60809403e-01],\n",
       "       [-7.94383791e-01, -2.60809403e-01],\n",
       "       [ 4.65698421e-01, -2.60809403e-01],\n",
       "       [ 1.96427741e-01, -2.60809403e-01],\n",
       "       [-4.50606175e-01, -2.60809403e-01],\n",
       "       [-6.23858257e-02, -2.60809403e-01],\n",
       "       [-8.64969309e-01, -2.60809403e-01],\n",
       "       [-4.16620555e-01, -2.60809403e-01],\n",
       "       [-7.99612348e-01, -2.60809403e-01],\n",
       "       [-5.63020149e-01, -2.60809403e-01],\n",
       "       [-5.55177313e-01, -2.60809403e-01],\n",
       "       [-4.30999087e-01, -2.60809403e-01],\n",
       "       [-3.77406379e-01, -2.60809403e-01],\n",
       "       [-6.58441312e-01, -2.60809403e-01],\n",
       "       [ 5.24519686e-01, -2.60809403e-01],\n",
       "       [-8.55819335e-01,  2.16844389e+00],\n",
       "       [-8.74119284e-01,  2.16844389e+00],\n",
       "       [-7.23798273e-01, -2.60809403e-01],\n",
       "       [-2.12706837e-01, -2.60809403e-01],\n",
       "       [-4.14006277e-01, -2.60809403e-01],\n",
       "       [ 1.21468920e+00, -2.60809403e-01],\n",
       "       [-6.92426932e-01, -2.60809403e-01],\n",
       "       [-2.87213772e-01, -2.60809403e-01],\n",
       "       [ 3.06227435e-01, -2.60809403e-01],\n",
       "       [-3.46035037e-01, -2.60809403e-01],\n",
       "       [-3.23216236e-02, -2.60809403e-01],\n",
       "       [-6.32298527e-01, -2.60809403e-01],\n",
       "       [ 5.76805255e-01, -2.60809403e-01],\n",
       "       [ 1.14148940e+00, -2.60809403e-01],\n",
       "       [ 1.53292146e-01, -2.60809403e-01],\n",
       "       [ 2.38853631e-02, -2.60809403e-01],\n",
       "       [-3.48649316e-01, -2.60809403e-01],\n",
       "       [-8.27062272e-01, -2.60809403e-01],\n",
       "       [-8.08762323e-01, -2.60809403e-01],\n",
       "       [-2.92442329e-01, -2.60809403e-01],\n",
       "       [ 9.48032795e-01, -2.60809403e-01],\n",
       "       [-1.32971344e-01, -2.60809403e-01],\n",
       "       [ 1.58520703e-01, -2.60809403e-01],\n",
       "       [-2.91135190e-01, -2.60809403e-01],\n",
       "       [-5.87855794e-01, -2.60809403e-01],\n",
       "       [ 2.98384600e-01, -2.60809403e-01],\n",
       "       [ 6.70859536e+00, -2.60809403e-01],\n",
       "       [-7.42098222e-01, -2.60809403e-01],\n",
       "       [-2.79370937e-01, -2.60809403e-01],\n",
       "       [-2.98978025e-01, -2.60809403e-01],\n",
       "       [ 4.34327079e-01, -2.60809403e-01],\n",
       "       [ 1.97734880e-01, -2.60809403e-01],\n",
       "       [-8.23140854e-01, -2.60809403e-01],\n",
       "       [-7.82619538e-01,  2.16844389e+00],\n",
       "       [-2.58456709e-01, -2.60809403e-01],\n",
       "       [-2.87213772e-01, -2.60809403e-01],\n",
       "       [-7.32948248e-01, -2.60809403e-01],\n",
       "       [ 4.08781730e-02, -2.60809403e-01],\n",
       "       [ 1.35063168e+00, -2.60809403e-01],\n",
       "       [-4.49299036e-01, -2.60809403e-01],\n",
       "       [ 1.70355927e+00, -2.60809403e-01],\n",
       "       [-8.37519386e-01, -2.60809403e-01],\n",
       "       [-7.31641108e-01, -2.60809403e-01],\n",
       "       [-7.09419742e-01, -2.60809403e-01],\n",
       "       [ 1.45449311e-01, -2.60809403e-01],\n",
       "       [ 4.34924514e-02, -2.60809403e-01],\n",
       "       [-3.61720708e-01, -2.60809403e-01],\n",
       "       [-4.84591795e-01, -2.60809403e-01],\n",
       "       [ 1.78127792e-01,  2.16844389e+00],\n",
       "       [ 1.01006577e-01, -2.60809403e-01],\n",
       "       [-7.60398171e-01, -2.60809403e-01],\n",
       "       [-7.31641108e-01, -2.60809403e-01],\n",
       "       [ 2.77470373e-01, -2.60809403e-01],\n",
       "       [-4.27077669e-01, -2.60809403e-01],\n",
       "       [-6.11384300e-01, -2.60809403e-01],\n",
       "       [ 1.43690286e+00, -2.60809403e-01],\n",
       "       [ 2.40680017e+00, -2.60809403e-01],\n",
       "       [-3.57799290e-01, -2.60809403e-01],\n",
       "       [-1.69571242e-01, -2.60809403e-01],\n",
       "       [ 5.26424260e-02, -2.60809403e-01],\n",
       "       [-6.74126983e-01, -2.60809403e-01],\n",
       "       [-8.49283639e-01, -2.60809403e-01],\n",
       "       [ 3.53284448e-01, -2.60809403e-01],\n",
       "       [-6.15305718e-01, -2.60809403e-01],\n",
       "       [-5.60405870e-01, -2.60809403e-01],\n",
       "       [ 1.68525932e+00, -2.60809403e-01],\n",
       "       [-7.65626728e-01, -2.60809403e-01],\n",
       "       [ 2.25184804e-01, -2.60809403e-01],\n",
       "       [ 5.71576698e-01, -2.60809403e-01],\n",
       "       [-8.97647790e-01, -2.60809403e-01],\n",
       "       [ 1.09443239e+00, -2.60809403e-01],\n",
       "       [-5.42105921e-01, -2.60809403e-01],\n",
       "       [-8.41440803e-01, -2.60809403e-01],\n",
       "       [-5.00277466e-01, -2.60809403e-01],\n",
       "       [-4.53220454e-01, -2.60809403e-01],\n",
       "       [-4.98970327e-01, -2.60809403e-01],\n",
       "       [ 1.83688747e+00, -2.60809403e-01],\n",
       "       [-7.02884046e-01, -2.60809403e-01],\n",
       "       [-1.36892762e-01, -2.60809403e-01],\n",
       "       [-1.25128508e-01, -2.60809403e-01],\n",
       "       [-5.87855794e-01, -2.60809403e-01],\n",
       "       [-7.08112602e-01, -2.60809403e-01],\n",
       "       [-5.81320098e-01, -2.60809403e-01],\n",
       "       [-5.46027339e-01, -2.60809403e-01],\n",
       "       [-2.18645098e-02, -2.60809403e-01],\n",
       "       [-3.17277974e-01, -2.60809403e-01],\n",
       "       [ 2.47869283e+00, -2.60809403e-01],\n",
       "       [ 7.66340442e-01,  2.16844389e+00],\n",
       "       [-5.56484452e-01, -2.60809403e-01],\n",
       "       [-2.31716490e-02, -2.60809403e-01],\n",
       "       [ 3.63028248e+00, -2.60809403e-01],\n",
       "       [-8.67583588e-01, -2.60809403e-01],\n",
       "       [ 7.74780713e-02,  2.16844389e+00],\n",
       "       [-6.17919996e-01, -2.60809403e-01],\n",
       "       [-8.13990880e-01, -2.60809403e-01],\n",
       "       [-1.02907142e-01, -2.60809403e-01],\n",
       "       [-6.50001042e-02, -2.60809403e-01],\n",
       "       [-7.21183995e-01, -2.60809403e-01],\n",
       "       [ 3.65250385e+00, -2.60809403e-01],\n",
       "       [-8.57126474e-01, -2.60809403e-01],\n",
       "       [ 4.87919788e-01, -2.60809403e-01],\n",
       "       [ 2.48713310e-01,  4.59769719e+00],\n",
       "       [ 2.34334778e-01,  2.16844389e+00],\n",
       "       [-8.17912297e-01, -2.60809403e-01],\n",
       "       [-6.02234325e-01, -2.60809403e-01],\n",
       "       [-8.44055082e-01, -2.60809403e-01],\n",
       "       [-7.42098222e-01, -2.60809403e-01],\n",
       "       [ 7.08826317e-01, -2.60809403e-01],\n",
       "       [ 2.39563335e-01, -2.60809403e-01],\n",
       "       [ 6.70919279e-01, -2.60809403e-01],\n",
       "       [-1.14671395e-01, -2.60809403e-01],\n",
       "       [ 7.00983481e-01,  2.16844389e+00],\n",
       "       [-7.01576906e-01, -2.60809403e-01],\n",
       "       [-3.80020657e-01, -2.60809403e-01],\n",
       "       [-8.40133664e-01, -2.60809403e-01],\n",
       "       [-3.36885063e-01, -2.60809403e-01],\n",
       "       [-8.23140854e-01, -2.60809403e-01],\n",
       "       [-4.72827542e-01, -2.60809403e-01],\n",
       "       [ 2.95770322e-01, -2.60809403e-01],\n",
       "       [-2.59763849e-01, -2.60809403e-01],\n",
       "       [-7.01576906e-01, -2.60809403e-01],\n",
       "       [-7.08112602e-01,  2.16844389e+00],\n",
       "       [-4.42763340e-01, -2.60809403e-01],\n",
       "       [-2.54535292e-01, -2.60809403e-01],\n",
       "       [-3.86556353e-01,  4.59769719e+00],\n",
       "       [ 5.38898217e-01, -2.60809403e-01],\n",
       "       [-5.36877364e-01, -2.60809403e-01],\n",
       "       [-8.34905107e-01, -2.60809403e-01],\n",
       "       [-8.47976499e-01, -2.60809403e-01],\n",
       "       [ 4.05570017e-01, -2.60809403e-01],\n",
       "       [-7.73469564e-01, -2.60809403e-01],\n",
       "       [-3.12049418e-01, -2.60809403e-01],\n",
       "       [-6.84584096e-01, -2.60809403e-01],\n",
       "       [-3.43420759e-01, -2.60809403e-01],\n",
       "       [ 1.01006577e-01, -2.60809403e-01],\n",
       "       [-8.36212246e-01, -2.60809403e-01],\n",
       "       [ 2.38980736e+00, -2.60809403e-01],\n",
       "       [-3.57799290e-01, -2.60809403e-01],\n",
       "       [-7.65626728e-01, -2.60809403e-01],\n",
       "       [-2.08785419e-01, -2.60809403e-01],\n",
       "       [-3.12049418e-01, -2.60809403e-01],\n",
       "       [ 1.08849413e-01,  4.59769719e+00],\n",
       "       [-8.70197866e-01, -2.60809403e-01],\n",
       "       [ 1.13364656e+00, -2.60809403e-01],\n",
       "       [-5.27727390e-01, -2.60809403e-01],\n",
       "       [ 7.44119076e-01, -2.60809403e-01],\n",
       "       [-4.67598985e-01, -2.60809403e-01],\n",
       "       [ 2.47406170e-01, -2.60809403e-01],\n",
       "       [ 3.61851823e+00, -2.60809403e-01],\n",
       "       [-8.72214710e-02, -2.60809403e-01],\n",
       "       [-7.80714964e-02, -2.60809403e-01],\n",
       "       [-7.56476754e-01, -2.60809403e-01],\n",
       "       [ 4.94455484e-01, -2.60809403e-01],\n",
       "       [ 6.85297810e-01,  2.16844389e+00],\n",
       "       [ 6.17924006e-02, -2.60809403e-01],\n",
       "       [ 4.27791383e-01, -2.60809403e-01],\n",
       "       [ 4.59162725e-01, -2.60809403e-01],\n",
       "       [-6.75434122e-01, -2.60809403e-01],\n",
       "       [-6.12691439e-01, -2.60809403e-01],\n",
       "       [-2.05573706e-02, -2.60809403e-01],\n",
       "       [-4.68906124e-01, -2.60809403e-01],\n",
       "       [-2.11399697e-01, -2.60809403e-01],\n",
       "       [-3.89170632e-01, -2.60809403e-01],\n",
       "       [-8.72812145e-01, -2.60809403e-01],\n",
       "       [ 2.25184804e-01, -2.60809403e-01],\n",
       "       [ 5.66348141e-01,  2.16844389e+00],\n",
       "       [-6.21841414e-01, -2.60809403e-01],\n",
       "       [-6.70205565e-01, -2.60809403e-01],\n",
       "       [-4.59756150e-01, -2.60809403e-01],\n",
       "       [ 6.54651009e+00, -2.60809403e-01],\n",
       "       [-6.80662679e-01, -2.60809403e-01],\n",
       "       [-5.87855794e-01, -2.60809403e-01],\n",
       "       [-4.78056099e-01, -2.60809403e-01],\n",
       "       [-7.17262577e-01, -2.60809403e-01],\n",
       "       [ 1.83558033e+00, -2.60809403e-01],\n",
       "       [ 4.97069762e-01, -2.60809403e-01],\n",
       "       [ 7.72876138e-01,  2.16844389e+00],\n",
       "       [-6.11384300e-01, -2.60809403e-01],\n",
       "       [-1.47349875e-01, -2.60809403e-01],\n",
       "       [-8.59143318e-02, -2.60809403e-01],\n",
       "       [ 4.22562826e-01, -2.60809403e-01],\n",
       "       [-7.77390981e-01, -2.60809403e-01],\n",
       "       [-4.30999087e-01, -2.60809403e-01],\n",
       "       [ 5.00991180e-01,  2.16844389e+00],\n",
       "       [-3.17277974e-01, -2.60809403e-01],\n",
       "       [ 3.32370220e-01, -2.60809403e-01],\n",
       "       [-4.12699138e-01, -2.60809403e-01],\n",
       "       [ 3.84655789e-01, -2.60809403e-01],\n",
       "       [-4.06163442e-01, -2.60809403e-01],\n",
       "       [ 1.67218792e+00, -2.60809403e-01],\n",
       "       [-6.80662679e-01, -2.60809403e-01],\n",
       "       [-8.34905107e-01,  2.16844389e+00],\n",
       "       [-8.62355031e-01, -2.60809403e-01],\n",
       "       [ 5.24519686e-01,  7.02695049e+00],\n",
       "       [ 4.99684041e-01, -2.60809403e-01],\n",
       "       [-8.27062272e-01, -2.60809403e-01],\n",
       "       [ 4.02111711e+00, -2.60809403e-01],\n",
       "       [ 5.58541392e-03, -2.60809403e-01],\n",
       "       [ 1.15194651e+00, -2.60809403e-01],\n",
       "       [ 2.21334356e+00, -2.60809403e-01],\n",
       "       [-7.13341159e-01, -2.60809403e-01],\n",
       "       [-8.21833715e-01, -2.60809403e-01],\n",
       "       [-7.09419742e-01, -2.60809403e-01]])"
      ]
     },
     "execution_count": 36,
     "metadata": {},
     "output_type": "execute_result"
    }
   ],
   "source": [
    "scaler.transform(X_train[['Victconf_Desplazamiento forzado','Cant_acc_subversivas']])"
   ]
  },
  {
   "cell_type": "code",
   "execution_count": 30,
   "id": "b6e2653b",
   "metadata": {
    "colab": {
     "base_uri": "https://localhost:8080/"
    },
    "executionInfo": {
     "elapsed": 4,
     "status": "ok",
     "timestamp": 1665079478222,
     "user": {
      "displayName": "sandra tamayo",
      "userId": "18092430420470936659"
     },
     "user_tz": 300
    },
    "id": "caa987c1",
    "outputId": "644fa730-0a03-47c4-f9a8-3e3ac538be8c"
   },
   "outputs": [
    {
     "data": {
      "text/plain": [
       "array([[186.99999975]])"
      ]
     },
     "execution_count": 30,
     "metadata": {},
     "output_type": "execute_result"
    }
   ],
   "source": [
    "scaler.inverse_transform([[-7.09419742e-01]])"
   ]
  },
  {
   "cell_type": "code",
   "execution_count": null,
   "id": "f00a69ea",
   "metadata": {
    "id": "751457c3",
    "outputId": "d2d5dd62-b0ec-4e91-aff5-bc894d0a9a22"
   },
   "outputs": [
    {
     "data": {
      "text/plain": [
       "33.0"
      ]
     },
     "execution_count": 152,
     "metadata": {},
     "output_type": "execute_result"
    }
   ],
   "source": [
    "#Robust scaler\n",
    "X_train['Age'].quantile(0.5)"
   ]
  },
  {
   "cell_type": "code",
   "execution_count": null,
   "id": "574ad24b",
   "metadata": {
    "id": "ded48e89"
   },
   "outputs": [],
   "source": [
    "median = X_train['Age'].median()"
   ]
  },
  {
   "cell_type": "code",
   "execution_count": null,
   "id": "5e5475c6",
   "metadata": {
    "id": "db4b83be"
   },
   "outputs": [],
   "source": [
    "q1 = X_train['Age'].quantile(0.25)"
   ]
  },
  {
   "cell_type": "code",
   "execution_count": null,
   "id": "ce40dac9",
   "metadata": {
    "id": "b3eaa5db"
   },
   "outputs": [],
   "source": [
    "q3 = X_train['Age'].quantile(0.75)"
   ]
  },
  {
   "cell_type": "code",
   "execution_count": null,
   "id": "820bbe3d",
   "metadata": {
    "id": "04a4e121"
   },
   "outputs": [],
   "source": []
  }
 ],
 "metadata": {
  "colab": {
   "provenance": []
  },
  "kernelspec": {
   "display_name": "conda_python3",
   "language": "python",
   "name": "conda_python3"
  },
  "language_info": {
   "codemirror_mode": {
    "name": "ipython",
    "version": 3
   },
   "file_extension": ".py",
   "mimetype": "text/x-python",
   "name": "python",
   "nbconvert_exporter": "python",
   "pygments_lexer": "ipython3",
   "version": "3.8.12"
  }
 },
 "nbformat": 4,
 "nbformat_minor": 5
}
