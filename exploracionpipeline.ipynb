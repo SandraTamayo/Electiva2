{
 "cells": [
  {
   "cell_type": "code",
   "execution_count": 182,
   "id": "ae69246f",
   "metadata": {},
   "outputs": [],
   "source": [
    "import pandas as pd\n",
    "from sklearn.model_selection import train_test_split\n",
    "import joblib\n",
    "import numpy as np\n",
    "from sklearn.pipeline import Pipeline\n",
    "from sklearn.impute import SimpleImputer\n",
    "from sklearn.preprocessing import StandardScaler, RobustScaler, MinMaxScaler\n",
    "from sklearn.preprocessing import OneHotEncoder\n",
    "from sklearn.compose import ColumnTransformer\n",
    "from sklearn.tree import DecisionTreeClassifier\n",
    "import matplotlib.pyplot as plt\n",
    "import numpy as np\n",
    "from sklearn.model_selection import cross_validate"
   ]
  },
  {
   "cell_type": "markdown",
   "id": "0fa27854",
   "metadata": {},
   "source": [
    "## Cargue de datos"
   ]
  },
  {
   "cell_type": "code",
   "execution_count": 183,
   "id": "97c4b8a9",
   "metadata": {},
   "outputs": [],
   "source": [
    "train =pd.read_csv('s3://creditdata2080/Datos/train/train.csv')"
   ]
  },
  {
   "cell_type": "code",
   "execution_count": 184,
   "id": "168f2260",
   "metadata": {},
   "outputs": [],
   "source": [
    "test = pd.read_csv('s3://creditdata2080/Datos/test/train.csv')"
   ]
  },
  {
   "cell_type": "markdown",
   "id": "07d54a20",
   "metadata": {},
   "source": [
    "## Creación de pipeline"
   ]
  },
  {
   "cell_type": "code",
   "execution_count": 185,
   "id": "3d1af43f",
   "metadata": {},
   "outputs": [],
   "source": [
    "numeric_pipeline = Pipeline(\n",
    "    [\n",
    "        ('Imputacion con la media', SimpleImputer(strategy = 'mean')),\n",
    "        ('Escaladominmax',MinMaxScaler())\n",
    "        \n",
    "    ]\n",
    ")"
   ]
  },
  {
   "cell_type": "code",
   "execution_count": 186,
   "id": "4b066f74",
   "metadata": {},
   "outputs": [],
   "source": [
    "categoric_pipeline = Pipeline(\n",
    "    [\n",
    "        ('Imputacion con la moda', SimpleImputer(strategy = 'most_frequent')),\n",
    "        ('Codificar',OneHotEncoder(sparse=False))\n",
    "        \n",
    "    ]\n",
    ")"
   ]
  },
  {
   "cell_type": "code",
   "execution_count": 187,
   "id": "d5f86d95",
   "metadata": {},
   "outputs": [],
   "source": [
    "column_transformer = ColumnTransformer(\n",
    "    [\n",
    "        ('numeric_pipeline', numeric_pipeline,[0,1,2]),\n",
    "        ('categoric_pipeline',categoric_pipeline, [3,4,5])\n",
    "    ])"
   ]
  },
  {
   "cell_type": "code",
   "execution_count": 188,
   "id": "f2268d56",
   "metadata": {},
   "outputs": [],
   "source": [
    "features = ['Age','Credit amount', 'Duration','Sex','Purpose', 'Housing']"
   ]
  },
  {
   "cell_type": "markdown",
   "id": "7f722cf1",
   "metadata": {},
   "source": [
    "# Seleccion de variables\n"
   ]
  },
  {
   "cell_type": "code",
   "execution_count": 189,
   "id": "fba42bde",
   "metadata": {},
   "outputs": [],
   "source": [
    "train = train.dropna()"
   ]
  },
  {
   "cell_type": "code",
   "execution_count": 190,
   "id": "65b2d87c",
   "metadata": {},
   "outputs": [
    {
     "data": {
      "text/html": [
       "<div>\n",
       "<style scoped>\n",
       "    .dataframe tbody tr th:only-of-type {\n",
       "        vertical-align: middle;\n",
       "    }\n",
       "\n",
       "    .dataframe tbody tr th {\n",
       "        vertical-align: top;\n",
       "    }\n",
       "\n",
       "    .dataframe thead th {\n",
       "        text-align: right;\n",
       "    }\n",
       "</style>\n",
       "<table border=\"1\" class=\"dataframe\">\n",
       "  <thead>\n",
       "    <tr style=\"text-align: right;\">\n",
       "      <th></th>\n",
       "      <th>Unnamed: 0</th>\n",
       "      <th>Age</th>\n",
       "      <th>Sex</th>\n",
       "      <th>Job</th>\n",
       "      <th>Housing</th>\n",
       "      <th>Saving accounts</th>\n",
       "      <th>Checking account</th>\n",
       "      <th>Credit amount</th>\n",
       "      <th>Duration</th>\n",
       "      <th>Purpose</th>\n",
       "      <th>Risk</th>\n",
       "    </tr>\n",
       "  </thead>\n",
       "  <tbody>\n",
       "    <tr>\n",
       "      <th>0</th>\n",
       "      <td>328</td>\n",
       "      <td>31</td>\n",
       "      <td>male</td>\n",
       "      <td>2</td>\n",
       "      <td>own</td>\n",
       "      <td>little</td>\n",
       "      <td>rich</td>\n",
       "      <td>4473</td>\n",
       "      <td>36</td>\n",
       "      <td>radio/TV</td>\n",
       "      <td>good</td>\n",
       "    </tr>\n",
       "    <tr>\n",
       "      <th>5</th>\n",
       "      <td>597</td>\n",
       "      <td>36</td>\n",
       "      <td>male</td>\n",
       "      <td>1</td>\n",
       "      <td>own</td>\n",
       "      <td>little</td>\n",
       "      <td>moderate</td>\n",
       "      <td>4241</td>\n",
       "      <td>24</td>\n",
       "      <td>business</td>\n",
       "      <td>bad</td>\n",
       "    </tr>\n",
       "    <tr>\n",
       "      <th>6</th>\n",
       "      <td>7</td>\n",
       "      <td>35</td>\n",
       "      <td>male</td>\n",
       "      <td>3</td>\n",
       "      <td>rent</td>\n",
       "      <td>little</td>\n",
       "      <td>moderate</td>\n",
       "      <td>6948</td>\n",
       "      <td>36</td>\n",
       "      <td>car</td>\n",
       "      <td>good</td>\n",
       "    </tr>\n",
       "    <tr>\n",
       "      <th>7</th>\n",
       "      <td>951</td>\n",
       "      <td>24</td>\n",
       "      <td>male</td>\n",
       "      <td>2</td>\n",
       "      <td>own</td>\n",
       "      <td>little</td>\n",
       "      <td>little</td>\n",
       "      <td>2145</td>\n",
       "      <td>36</td>\n",
       "      <td>business</td>\n",
       "      <td>bad</td>\n",
       "    </tr>\n",
       "    <tr>\n",
       "      <th>10</th>\n",
       "      <td>127</td>\n",
       "      <td>30</td>\n",
       "      <td>male</td>\n",
       "      <td>2</td>\n",
       "      <td>own</td>\n",
       "      <td>little</td>\n",
       "      <td>moderate</td>\n",
       "      <td>639</td>\n",
       "      <td>12</td>\n",
       "      <td>repairs</td>\n",
       "      <td>bad</td>\n",
       "    </tr>\n",
       "    <tr>\n",
       "      <th>...</th>\n",
       "      <td>...</td>\n",
       "      <td>...</td>\n",
       "      <td>...</td>\n",
       "      <td>...</td>\n",
       "      <td>...</td>\n",
       "      <td>...</td>\n",
       "      <td>...</td>\n",
       "      <td>...</td>\n",
       "      <td>...</td>\n",
       "      <td>...</td>\n",
       "      <td>...</td>\n",
       "    </tr>\n",
       "    <tr>\n",
       "      <th>692</th>\n",
       "      <td>286</td>\n",
       "      <td>26</td>\n",
       "      <td>male</td>\n",
       "      <td>2</td>\n",
       "      <td>own</td>\n",
       "      <td>little</td>\n",
       "      <td>little</td>\n",
       "      <td>4788</td>\n",
       "      <td>48</td>\n",
       "      <td>car</td>\n",
       "      <td>good</td>\n",
       "    </tr>\n",
       "    <tr>\n",
       "      <th>693</th>\n",
       "      <td>729</td>\n",
       "      <td>36</td>\n",
       "      <td>male</td>\n",
       "      <td>2</td>\n",
       "      <td>own</td>\n",
       "      <td>rich</td>\n",
       "      <td>rich</td>\n",
       "      <td>1275</td>\n",
       "      <td>24</td>\n",
       "      <td>business</td>\n",
       "      <td>good</td>\n",
       "    </tr>\n",
       "    <tr>\n",
       "      <th>694</th>\n",
       "      <td>747</td>\n",
       "      <td>37</td>\n",
       "      <td>female</td>\n",
       "      <td>1</td>\n",
       "      <td>own</td>\n",
       "      <td>little</td>\n",
       "      <td>little</td>\n",
       "      <td>1274</td>\n",
       "      <td>12</td>\n",
       "      <td>car</td>\n",
       "      <td>bad</td>\n",
       "    </tr>\n",
       "    <tr>\n",
       "      <th>695</th>\n",
       "      <td>73</td>\n",
       "      <td>41</td>\n",
       "      <td>female</td>\n",
       "      <td>1</td>\n",
       "      <td>own</td>\n",
       "      <td>little</td>\n",
       "      <td>moderate</td>\n",
       "      <td>5954</td>\n",
       "      <td>42</td>\n",
       "      <td>business</td>\n",
       "      <td>good</td>\n",
       "    </tr>\n",
       "    <tr>\n",
       "      <th>699</th>\n",
       "      <td>617</td>\n",
       "      <td>37</td>\n",
       "      <td>male</td>\n",
       "      <td>2</td>\n",
       "      <td>rent</td>\n",
       "      <td>little</td>\n",
       "      <td>little</td>\n",
       "      <td>3676</td>\n",
       "      <td>6</td>\n",
       "      <td>car</td>\n",
       "      <td>good</td>\n",
       "    </tr>\n",
       "  </tbody>\n",
       "</table>\n",
       "<p>361 rows × 11 columns</p>\n",
       "</div>"
      ],
      "text/plain": [
       "     Unnamed: 0  Age     Sex  Job Housing Saving accounts Checking account  \\\n",
       "0           328   31    male    2     own          little             rich   \n",
       "5           597   36    male    1     own          little         moderate   \n",
       "6             7   35    male    3    rent          little         moderate   \n",
       "7           951   24    male    2     own          little           little   \n",
       "10          127   30    male    2     own          little         moderate   \n",
       "..          ...  ...     ...  ...     ...             ...              ...   \n",
       "692         286   26    male    2     own          little           little   \n",
       "693         729   36    male    2     own            rich             rich   \n",
       "694         747   37  female    1     own          little           little   \n",
       "695          73   41  female    1     own          little         moderate   \n",
       "699         617   37    male    2    rent          little           little   \n",
       "\n",
       "     Credit amount  Duration   Purpose  Risk  \n",
       "0             4473        36  radio/TV  good  \n",
       "5             4241        24  business   bad  \n",
       "6             6948        36       car  good  \n",
       "7             2145        36  business   bad  \n",
       "10             639        12   repairs   bad  \n",
       "..             ...       ...       ...   ...  \n",
       "692           4788        48       car  good  \n",
       "693           1275        24  business  good  \n",
       "694           1274        12       car   bad  \n",
       "695           5954        42  business  good  \n",
       "699           3676         6       car  good  \n",
       "\n",
       "[361 rows x 11 columns]"
      ]
     },
     "execution_count": 190,
     "metadata": {},
     "output_type": "execute_result"
    }
   ],
   "source": [
    "train"
   ]
  },
  {
   "cell_type": "code",
   "execution_count": 191,
   "id": "55392ea7",
   "metadata": {},
   "outputs": [],
   "source": [
    "X_train = train.drop(['Risk','Unnamed: 0'], axis=1)\n",
    "y_train = train['Risk']\n",
    "y_train_tranform = (y_train == 'good').astype('int')"
   ]
  },
  {
   "cell_type": "code",
   "execution_count": 192,
   "id": "281381e5",
   "metadata": {},
   "outputs": [
    {
     "name": "stdout",
     "output_type": "stream",
     "text": [
      "<class 'pandas.core.frame.DataFrame'>\n",
      "Int64Index: 361 entries, 0 to 699\n",
      "Data columns (total 9 columns):\n",
      " #   Column            Non-Null Count  Dtype \n",
      "---  ------            --------------  ----- \n",
      " 0   Age               361 non-null    int64 \n",
      " 1   Sex               361 non-null    object\n",
      " 2   Job               361 non-null    int64 \n",
      " 3   Housing           361 non-null    object\n",
      " 4   Saving accounts   361 non-null    object\n",
      " 5   Checking account  361 non-null    object\n",
      " 6   Credit amount     361 non-null    int64 \n",
      " 7   Duration          361 non-null    int64 \n",
      " 8   Purpose           361 non-null    object\n",
      "dtypes: int64(4), object(5)\n",
      "memory usage: 28.2+ KB\n"
     ]
    }
   ],
   "source": [
    "X_train.info()"
   ]
  },
  {
   "cell_type": "code",
   "execution_count": 193,
   "id": "9a106220",
   "metadata": {},
   "outputs": [],
   "source": [
    "X_train = pd.get_dummies(X_train)"
   ]
  },
  {
   "cell_type": "code",
   "execution_count": 194,
   "id": "9ecf0c55",
   "metadata": {},
   "outputs": [
    {
     "data": {
      "text/html": [
       "<div>\n",
       "<style scoped>\n",
       "    .dataframe tbody tr th:only-of-type {\n",
       "        vertical-align: middle;\n",
       "    }\n",
       "\n",
       "    .dataframe tbody tr th {\n",
       "        vertical-align: top;\n",
       "    }\n",
       "\n",
       "    .dataframe thead th {\n",
       "        text-align: right;\n",
       "    }\n",
       "</style>\n",
       "<table border=\"1\" class=\"dataframe\">\n",
       "  <thead>\n",
       "    <tr style=\"text-align: right;\">\n",
       "      <th></th>\n",
       "      <th>Age</th>\n",
       "      <th>Job</th>\n",
       "      <th>Credit amount</th>\n",
       "      <th>Duration</th>\n",
       "      <th>Sex_female</th>\n",
       "      <th>Sex_male</th>\n",
       "      <th>Housing_free</th>\n",
       "      <th>Housing_own</th>\n",
       "      <th>Housing_rent</th>\n",
       "      <th>Saving accounts_little</th>\n",
       "      <th>...</th>\n",
       "      <th>Checking account_moderate</th>\n",
       "      <th>Checking account_rich</th>\n",
       "      <th>Purpose_business</th>\n",
       "      <th>Purpose_car</th>\n",
       "      <th>Purpose_domestic appliances</th>\n",
       "      <th>Purpose_education</th>\n",
       "      <th>Purpose_furniture/equipment</th>\n",
       "      <th>Purpose_radio/TV</th>\n",
       "      <th>Purpose_repairs</th>\n",
       "      <th>Purpose_vacation/others</th>\n",
       "    </tr>\n",
       "  </thead>\n",
       "  <tbody>\n",
       "    <tr>\n",
       "      <th>0</th>\n",
       "      <td>31</td>\n",
       "      <td>2</td>\n",
       "      <td>4473</td>\n",
       "      <td>36</td>\n",
       "      <td>0</td>\n",
       "      <td>1</td>\n",
       "      <td>0</td>\n",
       "      <td>1</td>\n",
       "      <td>0</td>\n",
       "      <td>1</td>\n",
       "      <td>...</td>\n",
       "      <td>0</td>\n",
       "      <td>1</td>\n",
       "      <td>0</td>\n",
       "      <td>0</td>\n",
       "      <td>0</td>\n",
       "      <td>0</td>\n",
       "      <td>0</td>\n",
       "      <td>1</td>\n",
       "      <td>0</td>\n",
       "      <td>0</td>\n",
       "    </tr>\n",
       "    <tr>\n",
       "      <th>5</th>\n",
       "      <td>36</td>\n",
       "      <td>1</td>\n",
       "      <td>4241</td>\n",
       "      <td>24</td>\n",
       "      <td>0</td>\n",
       "      <td>1</td>\n",
       "      <td>0</td>\n",
       "      <td>1</td>\n",
       "      <td>0</td>\n",
       "      <td>1</td>\n",
       "      <td>...</td>\n",
       "      <td>1</td>\n",
       "      <td>0</td>\n",
       "      <td>1</td>\n",
       "      <td>0</td>\n",
       "      <td>0</td>\n",
       "      <td>0</td>\n",
       "      <td>0</td>\n",
       "      <td>0</td>\n",
       "      <td>0</td>\n",
       "      <td>0</td>\n",
       "    </tr>\n",
       "    <tr>\n",
       "      <th>6</th>\n",
       "      <td>35</td>\n",
       "      <td>3</td>\n",
       "      <td>6948</td>\n",
       "      <td>36</td>\n",
       "      <td>0</td>\n",
       "      <td>1</td>\n",
       "      <td>0</td>\n",
       "      <td>0</td>\n",
       "      <td>1</td>\n",
       "      <td>1</td>\n",
       "      <td>...</td>\n",
       "      <td>1</td>\n",
       "      <td>0</td>\n",
       "      <td>0</td>\n",
       "      <td>1</td>\n",
       "      <td>0</td>\n",
       "      <td>0</td>\n",
       "      <td>0</td>\n",
       "      <td>0</td>\n",
       "      <td>0</td>\n",
       "      <td>0</td>\n",
       "    </tr>\n",
       "    <tr>\n",
       "      <th>7</th>\n",
       "      <td>24</td>\n",
       "      <td>2</td>\n",
       "      <td>2145</td>\n",
       "      <td>36</td>\n",
       "      <td>0</td>\n",
       "      <td>1</td>\n",
       "      <td>0</td>\n",
       "      <td>1</td>\n",
       "      <td>0</td>\n",
       "      <td>1</td>\n",
       "      <td>...</td>\n",
       "      <td>0</td>\n",
       "      <td>0</td>\n",
       "      <td>1</td>\n",
       "      <td>0</td>\n",
       "      <td>0</td>\n",
       "      <td>0</td>\n",
       "      <td>0</td>\n",
       "      <td>0</td>\n",
       "      <td>0</td>\n",
       "      <td>0</td>\n",
       "    </tr>\n",
       "    <tr>\n",
       "      <th>10</th>\n",
       "      <td>30</td>\n",
       "      <td>2</td>\n",
       "      <td>639</td>\n",
       "      <td>12</td>\n",
       "      <td>0</td>\n",
       "      <td>1</td>\n",
       "      <td>0</td>\n",
       "      <td>1</td>\n",
       "      <td>0</td>\n",
       "      <td>1</td>\n",
       "      <td>...</td>\n",
       "      <td>1</td>\n",
       "      <td>0</td>\n",
       "      <td>0</td>\n",
       "      <td>0</td>\n",
       "      <td>0</td>\n",
       "      <td>0</td>\n",
       "      <td>0</td>\n",
       "      <td>0</td>\n",
       "      <td>1</td>\n",
       "      <td>0</td>\n",
       "    </tr>\n",
       "    <tr>\n",
       "      <th>...</th>\n",
       "      <td>...</td>\n",
       "      <td>...</td>\n",
       "      <td>...</td>\n",
       "      <td>...</td>\n",
       "      <td>...</td>\n",
       "      <td>...</td>\n",
       "      <td>...</td>\n",
       "      <td>...</td>\n",
       "      <td>...</td>\n",
       "      <td>...</td>\n",
       "      <td>...</td>\n",
       "      <td>...</td>\n",
       "      <td>...</td>\n",
       "      <td>...</td>\n",
       "      <td>...</td>\n",
       "      <td>...</td>\n",
       "      <td>...</td>\n",
       "      <td>...</td>\n",
       "      <td>...</td>\n",
       "      <td>...</td>\n",
       "      <td>...</td>\n",
       "    </tr>\n",
       "    <tr>\n",
       "      <th>692</th>\n",
       "      <td>26</td>\n",
       "      <td>2</td>\n",
       "      <td>4788</td>\n",
       "      <td>48</td>\n",
       "      <td>0</td>\n",
       "      <td>1</td>\n",
       "      <td>0</td>\n",
       "      <td>1</td>\n",
       "      <td>0</td>\n",
       "      <td>1</td>\n",
       "      <td>...</td>\n",
       "      <td>0</td>\n",
       "      <td>0</td>\n",
       "      <td>0</td>\n",
       "      <td>1</td>\n",
       "      <td>0</td>\n",
       "      <td>0</td>\n",
       "      <td>0</td>\n",
       "      <td>0</td>\n",
       "      <td>0</td>\n",
       "      <td>0</td>\n",
       "    </tr>\n",
       "    <tr>\n",
       "      <th>693</th>\n",
       "      <td>36</td>\n",
       "      <td>2</td>\n",
       "      <td>1275</td>\n",
       "      <td>24</td>\n",
       "      <td>0</td>\n",
       "      <td>1</td>\n",
       "      <td>0</td>\n",
       "      <td>1</td>\n",
       "      <td>0</td>\n",
       "      <td>0</td>\n",
       "      <td>...</td>\n",
       "      <td>0</td>\n",
       "      <td>1</td>\n",
       "      <td>1</td>\n",
       "      <td>0</td>\n",
       "      <td>0</td>\n",
       "      <td>0</td>\n",
       "      <td>0</td>\n",
       "      <td>0</td>\n",
       "      <td>0</td>\n",
       "      <td>0</td>\n",
       "    </tr>\n",
       "    <tr>\n",
       "      <th>694</th>\n",
       "      <td>37</td>\n",
       "      <td>1</td>\n",
       "      <td>1274</td>\n",
       "      <td>12</td>\n",
       "      <td>1</td>\n",
       "      <td>0</td>\n",
       "      <td>0</td>\n",
       "      <td>1</td>\n",
       "      <td>0</td>\n",
       "      <td>1</td>\n",
       "      <td>...</td>\n",
       "      <td>0</td>\n",
       "      <td>0</td>\n",
       "      <td>0</td>\n",
       "      <td>1</td>\n",
       "      <td>0</td>\n",
       "      <td>0</td>\n",
       "      <td>0</td>\n",
       "      <td>0</td>\n",
       "      <td>0</td>\n",
       "      <td>0</td>\n",
       "    </tr>\n",
       "    <tr>\n",
       "      <th>695</th>\n",
       "      <td>41</td>\n",
       "      <td>1</td>\n",
       "      <td>5954</td>\n",
       "      <td>42</td>\n",
       "      <td>1</td>\n",
       "      <td>0</td>\n",
       "      <td>0</td>\n",
       "      <td>1</td>\n",
       "      <td>0</td>\n",
       "      <td>1</td>\n",
       "      <td>...</td>\n",
       "      <td>1</td>\n",
       "      <td>0</td>\n",
       "      <td>1</td>\n",
       "      <td>0</td>\n",
       "      <td>0</td>\n",
       "      <td>0</td>\n",
       "      <td>0</td>\n",
       "      <td>0</td>\n",
       "      <td>0</td>\n",
       "      <td>0</td>\n",
       "    </tr>\n",
       "    <tr>\n",
       "      <th>699</th>\n",
       "      <td>37</td>\n",
       "      <td>2</td>\n",
       "      <td>3676</td>\n",
       "      <td>6</td>\n",
       "      <td>0</td>\n",
       "      <td>1</td>\n",
       "      <td>0</td>\n",
       "      <td>0</td>\n",
       "      <td>1</td>\n",
       "      <td>1</td>\n",
       "      <td>...</td>\n",
       "      <td>0</td>\n",
       "      <td>0</td>\n",
       "      <td>0</td>\n",
       "      <td>1</td>\n",
       "      <td>0</td>\n",
       "      <td>0</td>\n",
       "      <td>0</td>\n",
       "      <td>0</td>\n",
       "      <td>0</td>\n",
       "      <td>0</td>\n",
       "    </tr>\n",
       "  </tbody>\n",
       "</table>\n",
       "<p>361 rows × 24 columns</p>\n",
       "</div>"
      ],
      "text/plain": [
       "     Age  Job  Credit amount  Duration  Sex_female  Sex_male  Housing_free  \\\n",
       "0     31    2           4473        36           0         1             0   \n",
       "5     36    1           4241        24           0         1             0   \n",
       "6     35    3           6948        36           0         1             0   \n",
       "7     24    2           2145        36           0         1             0   \n",
       "10    30    2            639        12           0         1             0   \n",
       "..   ...  ...            ...       ...         ...       ...           ...   \n",
       "692   26    2           4788        48           0         1             0   \n",
       "693   36    2           1275        24           0         1             0   \n",
       "694   37    1           1274        12           1         0             0   \n",
       "695   41    1           5954        42           1         0             0   \n",
       "699   37    2           3676         6           0         1             0   \n",
       "\n",
       "     Housing_own  Housing_rent  Saving accounts_little  ...  \\\n",
       "0              1             0                       1  ...   \n",
       "5              1             0                       1  ...   \n",
       "6              0             1                       1  ...   \n",
       "7              1             0                       1  ...   \n",
       "10             1             0                       1  ...   \n",
       "..           ...           ...                     ...  ...   \n",
       "692            1             0                       1  ...   \n",
       "693            1             0                       0  ...   \n",
       "694            1             0                       1  ...   \n",
       "695            1             0                       1  ...   \n",
       "699            0             1                       1  ...   \n",
       "\n",
       "     Checking account_moderate  Checking account_rich  Purpose_business  \\\n",
       "0                            0                      1                 0   \n",
       "5                            1                      0                 1   \n",
       "6                            1                      0                 0   \n",
       "7                            0                      0                 1   \n",
       "10                           1                      0                 0   \n",
       "..                         ...                    ...               ...   \n",
       "692                          0                      0                 0   \n",
       "693                          0                      1                 1   \n",
       "694                          0                      0                 0   \n",
       "695                          1                      0                 1   \n",
       "699                          0                      0                 0   \n",
       "\n",
       "     Purpose_car  Purpose_domestic appliances  Purpose_education  \\\n",
       "0              0                            0                  0   \n",
       "5              0                            0                  0   \n",
       "6              1                            0                  0   \n",
       "7              0                            0                  0   \n",
       "10             0                            0                  0   \n",
       "..           ...                          ...                ...   \n",
       "692            1                            0                  0   \n",
       "693            0                            0                  0   \n",
       "694            1                            0                  0   \n",
       "695            0                            0                  0   \n",
       "699            1                            0                  0   \n",
       "\n",
       "     Purpose_furniture/equipment  Purpose_radio/TV  Purpose_repairs  \\\n",
       "0                              0                 1                0   \n",
       "5                              0                 0                0   \n",
       "6                              0                 0                0   \n",
       "7                              0                 0                0   \n",
       "10                             0                 0                1   \n",
       "..                           ...               ...              ...   \n",
       "692                            0                 0                0   \n",
       "693                            0                 0                0   \n",
       "694                            0                 0                0   \n",
       "695                            0                 0                0   \n",
       "699                            0                 0                0   \n",
       "\n",
       "     Purpose_vacation/others  \n",
       "0                          0  \n",
       "5                          0  \n",
       "6                          0  \n",
       "7                          0  \n",
       "10                         0  \n",
       "..                       ...  \n",
       "692                        0  \n",
       "693                        0  \n",
       "694                        0  \n",
       "695                        0  \n",
       "699                        0  \n",
       "\n",
       "[361 rows x 24 columns]"
      ]
     },
     "execution_count": 194,
     "metadata": {},
     "output_type": "execute_result"
    }
   ],
   "source": [
    "X_train"
   ]
  },
  {
   "cell_type": "code",
   "execution_count": 195,
   "id": "7e4e7463",
   "metadata": {},
   "outputs": [],
   "source": [
    "#importancia de las variables a traves de arbol de decisión\n",
    "model = DecisionTreeClassifier()"
   ]
  },
  {
   "cell_type": "code",
   "execution_count": 196,
   "id": "80cbbb21",
   "metadata": {},
   "outputs": [
    {
     "data": {
      "text/plain": [
       "DecisionTreeClassifier()"
      ]
     },
     "execution_count": 196,
     "metadata": {},
     "output_type": "execute_result"
    }
   ],
   "source": [
    "model.fit(X_train, y_train)"
   ]
  },
  {
   "cell_type": "code",
   "execution_count": 197,
   "id": "bf0eb61a",
   "metadata": {},
   "outputs": [
    {
     "data": {
      "text/plain": [
       "array([0.12760609, 0.04626751, 0.33539122, 0.2001855 , 0.01221884,\n",
       "       0.01025807, 0.02470355, 0.0056199 , 0.02584371, 0.01211881,\n",
       "       0.01958451, 0.02800838, 0.        , 0.02786016, 0.0149864 ,\n",
       "       0.01798369, 0.0056199 , 0.046674  , 0.        , 0.00760165,\n",
       "       0.01039064, 0.01280089, 0.00827658, 0.        ])"
      ]
     },
     "execution_count": 197,
     "metadata": {},
     "output_type": "execute_result"
    }
   ],
   "source": [
    "model.feature_importances_"
   ]
  },
  {
   "cell_type": "code",
   "execution_count": 198,
   "id": "a1422ece",
   "metadata": {},
   "outputs": [
    {
     "data": {
      "text/plain": [
       "Index(['Age', 'Job', 'Credit amount', 'Duration', 'Sex_female', 'Sex_male',\n",
       "       'Housing_free', 'Housing_own', 'Housing_rent', 'Saving accounts_little',\n",
       "       'Saving accounts_moderate', 'Saving accounts_quite rich',\n",
       "       'Saving accounts_rich', 'Checking account_little',\n",
       "       'Checking account_moderate', 'Checking account_rich',\n",
       "       'Purpose_business', 'Purpose_car', 'Purpose_domestic appliances',\n",
       "       'Purpose_education', 'Purpose_furniture/equipment', 'Purpose_radio/TV',\n",
       "       'Purpose_repairs', 'Purpose_vacation/others'],\n",
       "      dtype='object')"
      ]
     },
     "execution_count": 198,
     "metadata": {},
     "output_type": "execute_result"
    }
   ],
   "source": [
    "X_train.columns"
   ]
  },
  {
   "cell_type": "code",
   "execution_count": 199,
   "id": "44485fed",
   "metadata": {},
   "outputs": [
    {
     "data": {
      "image/png": "[encoded data removed]",
      "text/plain": [
       "<Figure size 432x288 with 1 Axes>"
      ]
     },
     "metadata": {
      "needs_background": "light"
     },
     "output_type": "display_data"
    }
   ],
   "source": [
    "plt.bar(x = X_train.columns, height = model.feature_importances_)\n",
    "plt.xticks(rotation = 90)\n",
    "plt.show()"
   ]
  },
  {
   "cell_type": "code",
   "execution_count": 200,
   "id": "7ee6f166",
   "metadata": {},
   "outputs": [],
   "source": [
    "#para ordenar\n",
    "order_columns = X_train.columns[np.argsort(model.feature_importances_)[::-1]]"
   ]
  },
  {
   "cell_type": "code",
   "execution_count": 201,
   "id": "476b910f",
   "metadata": {},
   "outputs": [],
   "source": [
    "order_importance = np.sort(model.feature_importances_)[::-1]"
   ]
  },
  {
   "cell_type": "code",
   "execution_count": 202,
   "id": "543568d3",
   "metadata": {},
   "outputs": [
    {
     "data": {
      "image/png": "[encoded data removed]",
      "text/plain": [
       "<Figure size 432x288 with 1 Axes>"
      ]
     },
     "metadata": {
      "needs_background": "light"
     },
     "output_type": "display_data"
    }
   ],
   "source": [
    "plt.bar(x = order_columns, height = order_importance)\n",
    "plt.xticks(rotation = 90)\n",
    "plt.show()"
   ]
  },
  {
   "cell_type": "code",
   "execution_count": 203,
   "id": "14ecc7a3",
   "metadata": {},
   "outputs": [],
   "source": [
    "#importancia de variables con regresión logística\n",
    "from sklearn.linear_model import LogisticRegression\n",
    "from sklearn.preprocessing import MinMaxScaler"
   ]
  },
  {
   "cell_type": "code",
   "execution_count": 204,
   "id": "12fb7e3b",
   "metadata": {},
   "outputs": [],
   "source": [
    "X_train_scaled = MinMaxScaler().fit_transform(X_train)"
   ]
  },
  {
   "cell_type": "code",
   "execution_count": 205,
   "id": "c72e43ef",
   "metadata": {},
   "outputs": [],
   "source": [
    "model = LogisticRegression()"
   ]
  },
  {
   "cell_type": "code",
   "execution_count": 206,
   "id": "b4c0b3d1",
   "metadata": {},
   "outputs": [
    {
     "data": {
      "text/plain": [
       "LogisticRegression()"
      ]
     },
     "execution_count": 206,
     "metadata": {},
     "output_type": "execute_result"
    }
   ],
   "source": [
    "model.fit(X_train_scaled, y_train)"
   ]
  },
  {
   "cell_type": "code",
   "execution_count": 207,
   "id": "f4c2777f",
   "metadata": {},
   "outputs": [
    {
     "data": {
      "text/plain": [
       "array([[ 0.47424606,  0.46040332, -0.92624159, -2.03116232, -0.19687034,\n",
       "         0.19696162,  0.06881668,  0.14613817, -0.21486357, -0.46689979,\n",
       "        -0.41031105,  0.29891103,  0.57839108, -0.38283643, -0.16388134,\n",
       "         0.54680905,  0.28173634,  0.11494351, -0.14531633, -0.93147024,\n",
       "         0.17853055,  0.27162217,  0.07962265,  0.15042262]])"
      ]
     },
     "execution_count": 207,
     "metadata": {},
     "output_type": "execute_result"
    }
   ],
   "source": [
    "model.coef_"
   ]
  },
  {
   "cell_type": "code",
   "execution_count": 208,
   "id": "89640f4e",
   "metadata": {},
   "outputs": [
    {
     "data": {
      "image/png": "[encoded data removed]",
      "text/plain": [
       "<Figure size 432x288 with 1 Axes>"
      ]
     },
     "metadata": {
      "needs_background": "light"
     },
     "output_type": "display_data"
    }
   ],
   "source": [
    "plt.bar(x = X_train.columns, height = model.coef_[0])\n",
    "plt.xticks(rotation = 90)\n",
    "plt.show()"
   ]
  },
  {
   "cell_type": "code",
   "execution_count": 240,
   "id": "139eded1",
   "metadata": {},
   "outputs": [],
   "source": [
    "final_pipeline = Pipeline(\n",
    "    [ \n",
    "        ('Pipeline de preprocesamiento', column_transformer),\n",
    "        ('Modelo de predicción(árbol)',DecisionTreeClassifier(max_depth=3) )\n",
    "        \n",
    "    ]\n",
    ")"
   ]
  },
  {
   "cell_type": "code",
   "execution_count": 241,
   "id": "3d9309c3",
   "metadata": {},
   "outputs": [],
   "source": [
    "X_train = train[features]"
   ]
  },
  {
   "cell_type": "code",
   "execution_count": 242,
   "id": "67863bc7",
   "metadata": {},
   "outputs": [],
   "source": [
    "results = cross_validate(final_pipeline, X_train, y_train_tranform,\n",
    "                        cv = 10, return_train_score =True,\n",
    "                        scoring = ['accuracy','f1'])"
   ]
  },
  {
   "cell_type": "code",
   "execution_count": 243,
   "id": "d9b58ad7",
   "metadata": {},
   "outputs": [
    {
     "name": "stdout",
     "output_type": "stream",
     "text": [
      "train:  0.6743570750237416 +- 0.010504688830760682\n",
      "val:  0.6313063063063064 +- 0.07450946849313422\n"
     ]
    }
   ],
   "source": [
    "print(\"train: \",results[\"train_accuracy\"].mean(), \"+-\",results[\"train_accuracy\"].std())\n",
    "print(\"val: \",results[\"test_accuracy\"].mean(), \"+-\",results[\"test_accuracy\"].std())"
   ]
  },
  {
   "cell_type": "code",
   "execution_count": 251,
   "id": "b678f99b",
   "metadata": {},
   "outputs": [],
   "source": [
    "from sklearn.ensemble import RandomForestClassifier\n",
    "from sklearn.svm import SVC"
   ]
  },
  {
   "cell_type": "code",
   "execution_count": 252,
   "id": "817bb54a",
   "metadata": {},
   "outputs": [],
   "source": [
    "final_pipeline = Pipeline(\n",
    "    [ \n",
    "        ('Pipeline de preprocesamiento', column_transformer),\n",
    "        ('Modelo de predicción(árbol)',RandomForestClassifier(max_depth=3) )\n",
    "        \n",
    "    ]\n",
    ")"
   ]
  },
  {
   "cell_type": "code",
   "execution_count": 254,
   "id": "c30ee073",
   "metadata": {},
   "outputs": [],
   "source": [
    "results = cross_validate(final_pipeline, X_train, y_train_tranform,\n",
    "                        cv = 10, return_train_score =True,\n",
    "                        scoring = ['accuracy','f1'])"
   ]
  },
  {
   "cell_type": "code",
   "execution_count": 255,
   "id": "1962151d",
   "metadata": {},
   "outputs": [
    {
     "name": "stdout",
     "output_type": "stream",
     "text": [
      "train:  0.6965204178537512 +- 0.00940099108021672\n",
      "val:  0.6372372372372372 +- 0.05794006165373083\n"
     ]
    }
   ],
   "source": [
    "print(\"train: \",results[\"train_accuracy\"].mean(), \"+-\",results[\"train_accuracy\"].std())\n",
    "print(\"val: \",results[\"test_accuracy\"].mean(), \"+-\",results[\"test_accuracy\"].std())"
   ]
  },
  {
   "cell_type": "markdown",
   "id": "ceb6d3b4",
   "metadata": {},
   "source": [
    "## Ajuste de hiperparametros\n"
   ]
  },
  {
   "cell_type": "code",
   "execution_count": 256,
   "id": "97b6e117",
   "metadata": {},
   "outputs": [],
   "source": [
    "#randomforest\n",
    "\n",
    "final_pipeline = Pipeline(\n",
    "    [ \n",
    "        ('Pipeline de preprocesamiento', column_transformer),\n",
    "        ('Modelo de predicción(árbol)',RandomForestClassifier(max_depth=3) )\n",
    "        \n",
    "    ]\n",
    ")"
   ]
  },
  {
   "cell_type": "code",
   "execution_count": 259,
   "id": "5f8bd2fe",
   "metadata": {},
   "outputs": [],
   "source": [
    "results = cross_validate(final_pipeline, X_train, y_train_tranform,\n",
    "                        cv = 10, return_train_score =True,\n",
    "                        scoring = ['accuracy','f1'])"
   ]
  },
  {
   "cell_type": "code",
   "execution_count": 260,
   "id": "dd9d1a65",
   "metadata": {},
   "outputs": [],
   "source": [
    "from sklearn.model_selection import GridSearchCV"
   ]
  },
  {
   "cell_type": "code",
   "execution_count": 261,
   "id": "d4e7808e",
   "metadata": {},
   "outputs": [],
   "source": [
    "#probar con 50, 100 y 200 arboles y altura = 2,3,5,10\n",
    "grid={'n_estimators': [ 50,100,200],'max_depth':[2,3,5,10] }"
   ]
  },
  {
   "cell_type": "code",
   "execution_count": 267,
   "id": "c71d3789",
   "metadata": {},
   "outputs": [],
   "source": [
    "X_transformed = column_transformer.fit_transform(X_train)"
   ]
  },
  {
   "cell_type": "code",
   "execution_count": 268,
   "id": "49ba3a60",
   "metadata": {},
   "outputs": [],
   "source": [
    "grid_search = GridSearchCV(RandomForestClassifier(), param_grid = grid, cv=10, scoring= 'accuracy')"
   ]
  },
  {
   "cell_type": "code",
   "execution_count": 269,
   "id": "dccb9824",
   "metadata": {},
   "outputs": [
    {
     "data": {
      "text/plain": [
       "GridSearchCV(cv=10, estimator=RandomForestClassifier(),\n",
       "             param_grid={'max_depth': [2, 3, 5, 10],\n",
       "                         'n_estimators': [50, 100, 200]},\n",
       "             scoring='accuracy')"
      ]
     },
     "execution_count": 269,
     "metadata": {},
     "output_type": "execute_result"
    }
   ],
   "source": [
    "grid_search.fit(X_transformed, y_train_tranform)"
   ]
  },
  {
   "cell_type": "code",
   "execution_count": 270,
   "id": "91125938",
   "metadata": {},
   "outputs": [
    {
     "data": {
      "text/plain": [
       "0.6508258258258259"
      ]
     },
     "execution_count": 270,
     "metadata": {},
     "output_type": "execute_result"
    }
   ],
   "source": [
    "grid_search.best_score_"
   ]
  },
  {
   "cell_type": "code",
   "execution_count": 271,
   "id": "d6f7679e",
   "metadata": {},
   "outputs": [
    {
     "data": {
      "text/plain": [
       "{'max_depth': 5, 'n_estimators': 100}"
      ]
     },
     "execution_count": 271,
     "metadata": {},
     "output_type": "execute_result"
    }
   ],
   "source": [
    "grid_search.best_params_"
   ]
  },
  {
   "cell_type": "markdown",
   "id": "c47eac46",
   "metadata": {},
   "source": [
    "## Entrenamiento final"
   ]
  },
  {
   "cell_type": "code",
   "execution_count": 272,
   "id": "7a05b0f9",
   "metadata": {},
   "outputs": [],
   "source": [
    "final_pipeline = Pipeline(\n",
    "    [ \n",
    "        ('Pipeline de preprocesamiento', column_transformer),\n",
    "        ('Modelo de predicción(árbol)',RandomForestClassifier(max_depth=5,n_estimators = 100) )\n",
    "        \n",
    "    ]\n",
    ")"
   ]
  },
  {
   "cell_type": "code",
   "execution_count": 275,
   "id": "ab68fe4b",
   "metadata": {},
   "outputs": [
    {
     "data": {
      "text/plain": [
       "Pipeline(steps=[('Pipeline de preprocesamiento',\n",
       "                 ColumnTransformer(transformers=[('numeric_pipeline',\n",
       "                                                  Pipeline(steps=[('Imputacion '\n",
       "                                                                   'con la '\n",
       "                                                                   'media',\n",
       "                                                                   SimpleImputer()),\n",
       "                                                                  ('Escaladominmax',\n",
       "                                                                   MinMaxScaler())]),\n",
       "                                                  [0, 1, 2]),\n",
       "                                                 ('categoric_pipeline',\n",
       "                                                  Pipeline(steps=[('Imputacion '\n",
       "                                                                   'con la '\n",
       "                                                                   'moda',\n",
       "                                                                   SimpleImputer(strategy='most_frequent')),\n",
       "                                                                  ('Codificar',\n",
       "                                                                   OneHotEncoder(sparse=False))]),\n",
       "                                                  [3, 4, 5])])),\n",
       "                ('Modelo de predicción(árbol)',\n",
       "                 RandomForestClassifier(max_depth=5))])"
      ]
     },
     "execution_count": 275,
     "metadata": {},
     "output_type": "execute_result"
    }
   ],
   "source": [
    "final_pipeline.fit(X_train, y_train)"
   ]
  },
  {
   "cell_type": "code",
   "execution_count": 276,
   "id": "db50b463",
   "metadata": {},
   "outputs": [
    {
     "data": {
      "text/plain": [
       "['modelrf.joblib']"
      ]
     },
     "execution_count": 276,
     "metadata": {},
     "output_type": "execute_result"
    }
   ],
   "source": [
    "joblib.dump(final_pipeline, 'modelrf.joblib')"
   ]
  }
 ],
 "metadata": {
  "kernelspec": {
   "display_name": "conda_python3",
   "language": "python",
   "name": "conda_python3"
  },
  "language_info": {
   "codemirror_mode": {
    "name": "ipython",
    "version": 3
   },
   "file_extension": ".py",
   "mimetype": "text/x-python",
   "name": "python",
   "nbconvert_exporter": "python",
   "pygments_lexer": "ipython3",
   "version": "3.8.12"
  }
 },
 "nbformat": 4,
 "nbformat_minor": 5
}
